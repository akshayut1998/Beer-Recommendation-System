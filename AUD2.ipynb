{
  "cells": [
    {
      "cell_type": "markdown",
      "metadata": {
        "id": "CvFfkM-PjcIo"
      },
      "source": [
        "# **Analytics for Unstructured Data: Group Assignment #2**\n",
        "\n",
        "Akshay Navaneetha Krishnan (an34244)  \n",
        "Bhuvana Chandrika Kothapalli (bk24542)  \n",
        "Dinesh Bandaru (db46729)  \n",
        "Ashwanth Draksha (ad55293)  \n",
        "Jahnavi Angati (ja54632)"
      ]
    },
    {
      "cell_type": "markdown",
      "metadata": {
        "id": "k5C-K_jguiSo"
      },
      "source": [
        "## **Building a Crowdsourced Recommender System**\n",
        "**High level description:** The objective of this group assignment is to create the building blocks of a crowdsourced recommender system. It should accept user inputs in the form of desired attributes of a product and come up with 3 recommendations.\n",
        "\n",
        "Obtain reviews of craft beers from beeradvocate.com. I would suggest using the following link, which shows the top 250 beers sorted by ratings:\n",
        "https://www.beeradvocate.com/beer/top-rated/\n",
        "\n",
        "The nice feature of the above link is that it is a single-page listing of 250 top-rated beers (avoids the pagination feature, which you need in cases where listings go on for many pages). The way beeradvocate.com organizes reviews is that it provides about 25 reviews per page. The output file should have 3 columns: product_name, product_review, and user_rating."
      ]
    },
    {
      "cell_type": "markdown",
      "metadata": {
        "id": "dvEcJq9ZuUOk"
      },
      "source": [
        "# Importing Libraries"
      ]
    },
    {
      "cell_type": "code",
      "execution_count": null,
      "metadata": {
        "colab": {
          "base_uri": "https://localhost:8080/"
        },
        "id": "_SUjWdH3vciR",
        "outputId": "cd0d1df4-1f6a-4825-c48e-f592ba0055c2"
      },
      "outputs": [
        {
          "name": "stdout",
          "output_type": "stream",
          "text": [
            "Requirement already satisfied: selenium in /usr/local/lib/python3.10/dist-packages (4.13.0)\n",
            "Requirement already satisfied: urllib3[socks]<3,>=1.26 in /usr/local/lib/python3.10/dist-packages (from selenium) (2.0.4)\n",
            "Requirement already satisfied: trio~=0.17 in /usr/local/lib/python3.10/dist-packages (from selenium) (0.22.2)\n",
            "Requirement already satisfied: trio-websocket~=0.9 in /usr/local/lib/python3.10/dist-packages (from selenium) (0.11.1)\n",
            "Requirement already satisfied: certifi>=2021.10.8 in /usr/local/lib/python3.10/dist-packages (from selenium) (2023.7.22)\n",
            "Requirement already satisfied: attrs>=20.1.0 in /usr/local/lib/python3.10/dist-packages (from trio~=0.17->selenium) (23.1.0)\n",
            "Requirement already satisfied: sortedcontainers in /usr/local/lib/python3.10/dist-packages (from trio~=0.17->selenium) (2.4.0)\n",
            "Requirement already satisfied: idna in /usr/local/lib/python3.10/dist-packages (from trio~=0.17->selenium) (3.4)\n",
            "Requirement already satisfied: outcome in /usr/local/lib/python3.10/dist-packages (from trio~=0.17->selenium) (1.2.0)\n",
            "Requirement already satisfied: sniffio in /usr/local/lib/python3.10/dist-packages (from trio~=0.17->selenium) (1.3.0)\n",
            "Requirement already satisfied: exceptiongroup>=1.0.0rc9 in /usr/local/lib/python3.10/dist-packages (from trio~=0.17->selenium) (1.1.3)\n",
            "Requirement already satisfied: wsproto>=0.14 in /usr/local/lib/python3.10/dist-packages (from trio-websocket~=0.9->selenium) (1.2.0)\n",
            "Requirement already satisfied: pysocks!=1.5.7,<2.0,>=1.5.6 in /usr/local/lib/python3.10/dist-packages (from urllib3[socks]<3,>=1.26->selenium) (1.7.1)\n",
            "Requirement already satisfied: h11<1,>=0.9.0 in /usr/local/lib/python3.10/dist-packages (from wsproto>=0.14->trio-websocket~=0.9->selenium) (0.14.0)\n",
            "Hit:1 https://cloud.r-project.org/bin/linux/ubuntu jammy-cran40/ InRelease\n",
            "Hit:2 https://developer.download.nvidia.com/compute/cuda/repos/ubuntu2204/x86_64  InRelease\n",
            "Hit:3 http://archive.ubuntu.com/ubuntu jammy InRelease\n",
            "Hit:4 http://archive.ubuntu.com/ubuntu jammy-updates InRelease\n",
            "Hit:5 http://archive.ubuntu.com/ubuntu jammy-backports InRelease\n",
            "Hit:6 http://security.ubuntu.com/ubuntu jammy-security InRelease\n",
            "Hit:7 https://ppa.launchpadcontent.net/c2d4u.team/c2d4u4.0+/ubuntu jammy InRelease\n",
            "Hit:8 https://ppa.launchpadcontent.net/deadsnakes/ppa/ubuntu jammy InRelease\n",
            "Hit:9 https://ppa.launchpadcontent.net/graphics-drivers/ppa/ubuntu jammy InRelease\n",
            "Hit:10 https://ppa.launchpadcontent.net/ubuntugis/ppa/ubuntu jammy InRelease\n",
            "Reading package lists...\n",
            "Reading package lists...\n",
            "Building dependency tree...\n",
            "Reading state information...\n",
            "chromium-chromedriver is already the newest version (1:85.0.4183.83-0ubuntu2.22.04.1).\n",
            "0 upgraded, 0 newly installed, 0 to remove and 18 not upgraded.\n",
            "cp: '/usr/lib/chromium-browser/chromedriver' and '/usr/bin/chromedriver' are the same file\n"
          ]
        },
        {
          "name": "stderr",
          "output_type": "stream",
          "text": [
            "[nltk_data] Downloading package punkt to /root/nltk_data...\n",
            "[nltk_data]   Package punkt is already up-to-date!\n",
            "[nltk_data] Downloading package stopwords to /root/nltk_data...\n",
            "[nltk_data]   Package stopwords is already up-to-date!\n"
          ]
        }
      ],
      "source": [
        "# Importing libraries\n",
        "\n",
        "!pip install selenium\n",
        "!apt-get -q update   #Used to handle installation and removal of softwares and libraries\n",
        "!apt install -yq chromium-chromedriver #ChromeDriver is a separate executable that Selenium WebDriver uses to control Chrome.\n",
        "!cp /usr/lib/chromium-browser/chromedriver /usr/bin\n",
        "\n",
        "import sys\n",
        "sys.path.insert(0,'/usr/lib/chromium-browser/chromedriver')\n",
        "from selenium import webdriver\n",
        "#WebDriver is a browser automation framework that works with open source APIs.\n",
        "#The framework operates by accepting commands, sending those commands to a browser, and interacting with applications.\n",
        "from selenium.webdriver.common.by import By\n",
        "from selenium.webdriver.common.keys import Keys\n",
        "from selenium.webdriver.chrome.service import Service\n",
        "from selenium.webdriver.chrome.options import Options\n",
        "from selenium.webdriver.support.ui import WebDriverWait\n",
        "from selenium.webdriver.support import expected_conditions as EC\n",
        "from selenium.common.exceptions import TimeoutException\n",
        "chrome_options = webdriver.ChromeOptions()\n",
        "#headless means running chrome with chrome.exe\n",
        "chrome_options.add_argument('--headless')\n",
        "chrome_options.add_argument('--no-sandbox')\n",
        "chrome_options.add_argument('--disable-dev-shm-usage')\n",
        "\n",
        "import pandas as pd\n",
        "import string\n",
        "import matplotlib.pyplot as plt\n",
        "from collections import Counter\n",
        "import numpy as np\n",
        "from sklearn.linear_model import LinearRegression\n",
        "from scipy import stats\n",
        "import nltk\n",
        "nltk.download('punkt')\n",
        "nltk.download('stopwords')\n",
        "from nltk.corpus import stopwords\n",
        "from collections import defaultdict\n",
        "from itertools import combinations\n",
        "from sklearn.manifold import MDS\n",
        "from itertools import product\n",
        "import seaborn as sns\n",
        "from google.colab import files\n",
        "from sklearn.metrics.pairwise import cosine_similarity\n",
        "from sklearn.feature_extraction.text import TfidfVectorizer\n",
        "stopwords = stopwords.words('english')\n",
        "import time\n",
        "import random\n",
        "from bs4 import BeautifulSoup\n",
        "from tqdm import tqdm\n",
        "import pandas as pd\n",
        "import nltk\n",
        "from nltk.corpus import stopwords\n",
        "from nltk.tokenize import word_tokenize\n",
        "from collections import Counter\n",
        "import string"
      ]
    },
    {
      "cell_type": "markdown",
      "metadata": {
        "id": "xoTTlsvFvEsr"
      },
      "source": [
        "## **Task A.**\n",
        "Extract about 5-6k reviews"
      ]
    },
    {
      "cell_type": "code",
      "execution_count": null,
      "metadata": {
        "id": "KIQaZTIxvf_s"
      },
      "outputs": [],
      "source": [
        "driver = webdriver.Chrome(options=chrome_options)"
      ]
    },
    {
      "cell_type": "code",
      "execution_count": null,
      "metadata": {
        "colab": {
          "base_uri": "https://localhost:8080/"
        },
        "id": "-DJZwnspuE2f",
        "outputId": "9354c7b1-75ad-4452-cd48-3393665bceaa"
      },
      "outputs": [
        {
          "name": "stdout",
          "output_type": "stream",
          "text": [
            "Fetching top-rated beer links...\n",
            "Extracted 249 top-rated beer links.\n",
            "['Kentucky Brunch Brand Stout', 'Vanilla Bean Assassin', 'Marshmallow Handjee', 'Abraxas - Barrel-Aged', \"Hunahpu's Imperial Stout - Double Barrel Aged\", 'Blessed', 'Heady Topper', 'O.W.K.', \"Mornin' Delight\", 'King Julius', 'A Deal With The Devil - Triple Oak-Aged', 'King JJJuliusss', 'Zenne Y Frontera', 'Pliny The Younger', 'Coconut Vibes - Barrel-Aged', 'Barrel Aged Imperial German Chocolate Cupcake Stout', 'Fundamental Observation', 'Very Hazy', 'Bourbon County Brand Coffee Stout', 'V.S.O.J.', 'Oude Fermier', 'A Deal With The Devil - Double Oak-Aged', 'Clover', 'Anabasis', 'Chemtrailmix - Rye Barrel', 'Double Barrel V.S.O.J.', 'Julius', \"Fou' Foune\", 'Monster Tones', 'Very Green', 'Assassin', 'Juice Machine', 'Very GGGreennn', 'Westly', 'It Was All A Dream', 'Pliny The Elder', 'CBS (Canadian Breakfast Stout)', 'Samuel', 'Abner', 'Framboise Du Fermier', 'Double Sunshine', 'JJJuliusss!', 'Speedway Stout - Vietnamese Coffee - Bourbon-Barrel Aged', 'Dinner', 'Duck Duck Gooze', 'Lou Pepe - Kriek', 'Morning Wood', 'Parabola', 'Trappist Westvleteren 12 (XII)', 'Double Citra®', 'The Adjunct Trail - Bourbon Barrel-Aged', 'Ann', 'Maman', 'Doubleganger', 'Fuzzy', 'Nectarine Premiere', 'Aaron', 'KBS', 'Bourbon County Brand Stout', 'Very HHHazyyy', 'Flora Plum', 'Headroom', 'Atrial Rubicite', 'Double Galaxy', 'Double Dry Hopped Congress Street', 'Ghost In The Machine - Double Dry-Hopped', 'Kentucky Brunch Brand Stout - Double Barrel Reserve', 'King Sue', 'Coconut Vibes', 'Society & Solitude #4', 'Lou Pepe - Framboise', 'Abricot Du Fermier', 'Cable Car', 'Oude Geuze Vintage', 'Zombie Dust', \"Hunahpu's Imperial Stout\", 'Green', 'Haze', 'Doppelganger', 'Fort Point Pale Ale - Double Dry Hopped', 'Cable Car Kriek', 'Swish', 'The Broken Truck', 'Triple Shot', 'Focal Banger', 'I Let My Tape Rock', 'West Ashley', 'Ephraim', 'Coffee Cinnamon B-Bomb', 'Adios Ghost', 'Curiosity Twenty Seven', 'Saison Du Fermier', 'Bourbon Paradise', 'The Rusty Nail', 'The Peach', 'Supplication', 'Sip Of Sunshine', 'Keene Idea', 'Beatification', 'Fourth Dementia - Bourbon Barrel-Aged', 'Citra', 'Fort Point Pale Ale - Galaxy Dry Hopped', '4th Anniversary', 'Triple Sunshine', 'Leaner', 'Medianoche - Coconut', 'Sunday Brunch', 'Black Tuesday - Reserve', 'Curiosity Twenty Two', 'Mexican Brunch', 'Black Note Stout', 'Black Tuesday', 'Scaled Way Up', 'Alter Ego', 'Miami Madness', 'Saint Lamvinus', 'Society & Solitude #5', 'Nillerzzzzz', 'XTRA DUBL Benthic', 'Last Buffalo In The Park', 'Black Gold', 'Kaggen! Stormaktsporter', 'Beyond Good And Evil', 'Rocky Road - Bourbon Barrel-Aged', 'Truth', 'Sunday Brunch - Bourbon Barrel-Aged', 'Gggreennn!', 'Fundamental Forces', 'Chocolate Rain', 'Double Nelson', 'Pseudo Sue - Double Dry-Hopped', 'Double Shot', 'Parabajava', 'Notorious Triple IPA', 'JJJuiceee Machine', 'Moment Of Clarity', 'Emperor Julius', 'Plead The 5th - Bourbon Barrel-Aged', 'Modem Tones - Bourbon Barrel-Aged - Vanilla', 'Speedway Stout - Bourbon Barrel-Aged', 'Curiosity Thirty Two', 'Cutting Tiles - Mosaic', 'In Perpetuity', \"Wide Awake It's Morning\", 'Blåbær Lambik', 'Framboos', 'Great', 'Double Dry Hopped Double Mosaic Dream', 'Label Us Notorious - Calvados BA Big Poppa', 'Breakfast Stout', '§ucaba', 'Art', 'Double Dry Hopped Double Mosaic Daydream', 'Dorothy (Wine Barrel Aged)', 'Pirate Bomb!', 'Grey Monday', 'King Sue - Double Dry-Hopped', 'Lou Pepe - Gueuze', 'Society & Solitude #6', 'Upper Case', 'Smooth', 'Montmorency Vs Balaton', 'Appervation', 'Foggier Window', 'Double Dry Hopped Mylar Bags', 'Ground State', 'Orviamo', 'Canuckley', 'Barrel-Aged Sump Coffee Stout', 'Cutting Tiles - Galaxy', 'Trappistes Rochefort 10', 'Impermanence', 'BDCS', 'Pseudo Sue', 'Abrasive Ale', 'Midnight Still', 'DFPF', 'Affogato - Bourbon Barrel-Aged', 'Susan', 'Speedway Stout - Vietnamese Coffee', 'La Fosse', \"Hunahpu's Imperial Stout - Bourbon Barrel-Aged\", 'Somewhere, Something Incredible Is Waiting To Be Known', 'Double Dry Hopped Melcher Street', 'Fort Point Pale Ale - Mosaic Dry Hopped', 'Heavy Mettle', 'Oude Geuze Golden Blend', 'Hommage', 'Saison Bernice', 'KBS - Maple Mackinac Fudge', 'Coconut B-Bomb', 'The Greenest Green', 'Double Barrel Jesus', \"Clare's Thirsty Ale\", 'Oude Geuze Cuvée Armand & Gaston', 'Imperial German Chocolate Cupcake Stout', 'Double Stack', 'Thicket', 'Barrel-Aged Silhouette', 'Bomb!', 'Yellow Bus', 'Consecration', 'Permanent Funeral', 'Everett', 'Triple Citra Daydream', 'Congress Street IPA', 'Affogato', 'Mocha Wednesday', 'Space Trace', 'No Rules', 'Peche Du Fermier', \"CitraQuench'l\", 'Insert Hip Hop Reference There', 'Reaction State', 'Damon (Bourbon Barrel Aged)', 'Starry Noche', 'Bourbon County Double Barrel Toasted Barrel Stout', 'Old Stock Cellar Reserve (Aged In Brandy Barrels)', 'Foggy Window', 'Double Dry Hopped All Citra Everything', 'Truth - Vanilla Bean', 'Jammy', 'Bad Boy', 'Hold On To Sunshine', 'Barrel-Aged Malevolence Chocolate Caliente', 'PNC Imperial Buckwheat Stout', 'Darkness', 'Leche Borracho', 'Crusher', 'Sosus', 'Apple Brandy Barrel Noir', 'Popinski - Bourbon Barrel-Aged - Peanut Butter And Marshmallow', 'Barrel Aged Bomb!', 'Barrel Aged Christmas Bomb!', 'Black Tuesday - Rum Barrel-Aged', 'Blanc De Blancs', 'Miles To Go Before I Sleep', 'Aurelian Lure', 'Juicy', 'Henna: Barrel-Aged Double Rainbow', 'Darkstar November', 'Bourbon Barrel Oro Negro', 'Cellarman Barrel Aged Saison', 'Abt 12', 'The Abyss', 'All That Is And All That Ever Will Be', 'Abraxas', 'Stickee Monkee', 'Samuel Adams Utopias']\n"
          ]
        }
      ],
      "source": [
        "# Function to log in to BeerAdvocate\n",
        "def login_to_beer_advocate():\n",
        "    print(\"Attempting to log in...\")\n",
        "    login_url = \"https://www.beeradvocate.com/community/login/\"\n",
        "    driver.get(login_url)\n",
        "    driver.maximize_window()\n",
        "    print(\"Page maximized...\")\n",
        "\n",
        "    user_email = \"emailid\"\n",
        "    user_password = \"Password\"\n",
        "\n",
        "    while True:\n",
        "        try:\n",
        "            WebDriverWait(driver, 30).until(EC.element_to_be_clickable((By.CSS_SELECTOR, 'form#pageLogin input#ctrl_pageLogin_login'))).send_keys(user_email)\n",
        "            driver.find_element(By.CSS_SELECTOR, 'form#pageLogin input#ctrl_pageLogin_password').send_keys(user_password)\n",
        "            driver.find_element(By.CSS_SELECTOR, 'form#pageLogin input[type=submit]').click()\n",
        "            print(\"Logged in successfully!\")\n",
        "            break\n",
        "        except TimeoutException:\n",
        "            print(\"Login timeout\", TimeoutException)\n",
        "\n",
        "# Function to fetch top-rated beer links\n",
        "def get_top_rated_links():\n",
        "    print(\"Fetching top-rated beer links...\")\n",
        "    top_beers_url = \"https://www.beeradvocate.com/beer/top-rated/\"\n",
        "    driver.get(top_beers_url)\n",
        "\n",
        "    link_dict = {}\n",
        "\n",
        "    link_elements = driver.find_elements(By.CSS_SELECTOR, 'a[href^=\"/beer/profile/\"] > b')\n",
        "    for element in link_elements:\n",
        "        beer_name = element.text\n",
        "        beer_link = driver.execute_script(\"return arguments[0].parentNode.href;\", element)\n",
        "        link_dict[beer_name] = beer_link\n",
        "\n",
        "    print(f\"Extracted {len(link_dict)} top-rated beer links.\")\n",
        "    return link_dict\n",
        "\n",
        "# Function to scrape reviews for a list of beer names\n",
        "def scrape_reviews_for_beers(names_list):\n",
        "    top_rated_links = get_top_rated_links()\n",
        "    scraped_reviews = []\n",
        "    total_iterations = 250\n",
        "    with tqdm(total=total_iterations, desc=\"Processing\") as pbar:\n",
        "\n",
        "      for beer_name in names_list:\n",
        "          print(f\"Scraping reviews for {beer_name}...\")\n",
        "          beer_link = top_rated_links.get(beer_name)\n",
        "          if not beer_link:\n",
        "              print(f\"Could not find a link for beer: {beer_name}\")\n",
        "              continue\n",
        "\n",
        "          non_empty_reviews_count = 0\n",
        "          page_number = 0\n",
        "          previous_page_source = None\n",
        "\n",
        "          while non_empty_reviews_count < 25:\n",
        "              if page_number > 1000:\n",
        "                  print(f\"Reached 50 pages for {beer_name} but did not find 25 non-empty reviews. Moving to the next beer.\")\n",
        "                  break\n",
        "\n",
        "              driver.get(f\"{beer_link}?view=beer&show=recent&start={page_number}#lists\")\n",
        "              #print(page_number)\n",
        "              time.sleep(random.randint(1, 3))\n",
        "\n",
        "              current_page_source = driver.page_source\n",
        "\n",
        "              if current_page_source == previous_page_source:\n",
        "                  print(f\"Reached the last available page for {beer_name}. Moving to the next beer.\")\n",
        "                  break\n",
        "\n",
        "              soup = BeautifulSoup(current_page_source, 'html.parser')\n",
        "              review_containers = soup.find_all('div', {'id': 'rating_fullview_container'})\n",
        "\n",
        "              for container in review_containers:\n",
        "                  try:\n",
        "                      username = container.find('a', class_='username').text.strip()\n",
        "                      # Scraping the location of the reviewer\n",
        "                      location_parts = container.find('span', class_='muted').text.split('from')\n",
        "                      location = location_parts[-1].strip() if len(location_parts) > 1 else None\n",
        "                      rating = None\n",
        "                      # Scraping the beer rating\n",
        "                      rating_tag = container.find('b')\n",
        "                      if rating_tag and 'Rated:' in rating_tag.previous_sibling:\n",
        "                          rating = rating_tag.text\n",
        "                      else:\n",
        "                          score_norm = container.find('span', class_='BAscore_norm')\n",
        "                          ravg_norm = container.find('span', class_='rAvg_norm')\n",
        "                          if score_norm and ravg_norm:\n",
        "                              rating = score_norm.text + ravg_norm.text\n",
        "                      # Scraping the review date\n",
        "                      date = container.find_all('span', class_='muted')[-1].a.text\n",
        "                      # Scraping the review text\n",
        "                      review_div = container.find('div', style=\"margin:20px 0px; font-size:11pt; line-height:1.4;\")\n",
        "                      review = review_div.text.strip() if review_div else None\n",
        "\n",
        "                      if review:\n",
        "                          non_empty_reviews_count += 1\n",
        "\n",
        "                          scraped_reviews.append({\n",
        "                              \"Beer\": beer_name,\n",
        "                              \"Username\": username,\n",
        "                              \"Location\": location,\n",
        "                              \"Rating\": rating,\n",
        "                              \"Review\": review,\n",
        "                              \"Date\": date\n",
        "                          })\n",
        "\n",
        "                      if non_empty_reviews_count == 25:\n",
        "                          break\n",
        "                  except Exception as e:\n",
        "                      print(f\"Error processing review for {beer_name}: {e}\")\n",
        "\n",
        "              #print(f\"{non_empty_reviews_count} non-empty reviews scraped for {beer_name} from page {page_number}.\")\n",
        "              page_number += 20\n",
        "              previous_page_source = current_page_source\n",
        "          print(len(scraped_reviews))\n",
        "          pbar.update(1)\n",
        "\n",
        "    return scraped_reviews\n",
        "\n",
        "# Function to get the first N top-rated beers\n",
        "def get_first_n_beers(num_beers):\n",
        "    top_rated_links = get_top_rated_links()\n",
        "    return list(top_rated_links.keys())[:num_beers]\n",
        "\n",
        "beer_list_to_scrape = get_first_n_beers(250)\n",
        "\n",
        "print(beer_list_to_scrape)"
      ]
    },
    {
      "cell_type": "code",
      "execution_count": null,
      "metadata": {
        "colab": {
          "base_uri": "https://localhost:8080/"
        },
        "id": "QRqyJWT97l8t",
        "outputId": "eb7ba581-f7c0-4a40-b4dc-1f79eb6d5c52"
      },
      "outputs": [
        {
          "name": "stdout",
          "output_type": "stream",
          "text": [
            "Attempting to log in...\n",
            "Page maximized...\n",
            "Logged in successfully!\n",
            "Fetching top-rated beer links...\n",
            "Extracted 249 top-rated beer links.\n"
          ]
        },
        {
          "name": "stderr",
          "output_type": "stream",
          "text": [
            "\rProcessing:   0%|          | 0/250 [00:00<?, ?it/s]"
          ]
        },
        {
          "name": "stdout",
          "output_type": "stream",
          "text": [
            "Scraping reviews for Kentucky Brunch Brand Stout...\n"
          ]
        },
        {
          "name": "stderr",
          "output_type": "stream",
          "text": [
            "\rProcessing:   0%|          | 1/250 [00:15<1:02:54, 15.16s/it]"
          ]
        },
        {
          "name": "stdout",
          "output_type": "stream",
          "text": [
            "25\n",
            "Scraping reviews for Vanilla Bean Assassin...\n"
          ]
        },
        {
          "name": "stderr",
          "output_type": "stream",
          "text": [
            "\rProcessing:   1%|          | 2/250 [00:44<1:36:55, 23.45s/it]"
          ]
        },
        {
          "name": "stdout",
          "output_type": "stream",
          "text": [
            "50\n",
            "Scraping reviews for Marshmallow Handjee...\n"
          ]
        },
        {
          "name": "stderr",
          "output_type": "stream",
          "text": [
            "\rProcessing:   1%|          | 3/250 [01:02<1:26:19, 20.97s/it]"
          ]
        },
        {
          "name": "stdout",
          "output_type": "stream",
          "text": [
            "75\n",
            "Scraping reviews for Abraxas - Barrel-Aged...\n"
          ]
        },
        {
          "name": "stderr",
          "output_type": "stream",
          "text": [
            "\rProcessing:   2%|▏         | 4/250 [01:22<1:25:03, 20.75s/it]"
          ]
        },
        {
          "name": "stdout",
          "output_type": "stream",
          "text": [
            "100\n",
            "Scraping reviews for Hunahpu's Imperial Stout - Double Barrel Aged...\n"
          ]
        },
        {
          "name": "stderr",
          "output_type": "stream",
          "text": [
            "\rProcessing:   2%|▏         | 5/250 [01:50<1:35:13, 23.32s/it]"
          ]
        },
        {
          "name": "stdout",
          "output_type": "stream",
          "text": [
            "125\n",
            "Scraping reviews for Blessed...\n"
          ]
        },
        {
          "name": "stderr",
          "output_type": "stream",
          "text": [
            "\rProcessing:   2%|▏         | 6/250 [02:07<1:26:18, 21.22s/it]"
          ]
        },
        {
          "name": "stdout",
          "output_type": "stream",
          "text": [
            "150\n",
            "Scraping reviews for Heady Topper...\n"
          ]
        },
        {
          "name": "stderr",
          "output_type": "stream",
          "text": [
            "\rProcessing:   3%|▎         | 7/250 [02:22<1:16:59, 19.01s/it]"
          ]
        },
        {
          "name": "stdout",
          "output_type": "stream",
          "text": [
            "175\n",
            "Scraping reviews for O.W.K....\n"
          ]
        },
        {
          "name": "stderr",
          "output_type": "stream",
          "text": [
            "\rProcessing:   3%|▎         | 8/250 [05:50<5:20:08, 79.37s/it]"
          ]
        },
        {
          "name": "stdout",
          "output_type": "stream",
          "text": [
            "Reached 50 pages for O.W.K. but did not find 25 non-empty reviews. Moving to the next beer.\n",
            "184\n",
            "Scraping reviews for Mornin' Delight...\n"
          ]
        },
        {
          "name": "stderr",
          "output_type": "stream",
          "text": [
            "\rProcessing:   4%|▎         | 9/250 [06:09<4:01:55, 60.23s/it]"
          ]
        },
        {
          "name": "stdout",
          "output_type": "stream",
          "text": [
            "209\n",
            "Scraping reviews for King Julius...\n"
          ]
        },
        {
          "name": "stderr",
          "output_type": "stream",
          "text": [
            "\rProcessing:   4%|▍         | 10/250 [06:24<3:06:09, 46.54s/it]"
          ]
        },
        {
          "name": "stdout",
          "output_type": "stream",
          "text": [
            "234\n",
            "Scraping reviews for A Deal With The Devil - Triple Oak-Aged...\n"
          ]
        },
        {
          "name": "stderr",
          "output_type": "stream",
          "text": [
            "\rProcessing:   4%|▍         | 11/250 [06:46<2:35:17, 38.98s/it]"
          ]
        },
        {
          "name": "stdout",
          "output_type": "stream",
          "text": [
            "259\n",
            "Scraping reviews for King JJJuliusss...\n"
          ]
        },
        {
          "name": "stderr",
          "output_type": "stream",
          "text": [
            "\rProcessing:   5%|▍         | 12/250 [07:09<2:14:23, 33.88s/it]"
          ]
        },
        {
          "name": "stdout",
          "output_type": "stream",
          "text": [
            "284\n",
            "Scraping reviews for Zenne Y Frontera...\n"
          ]
        },
        {
          "name": "stderr",
          "output_type": "stream",
          "text": [
            "\rProcessing:   5%|▌         | 13/250 [07:35<2:04:39, 31.56s/it]"
          ]
        },
        {
          "name": "stdout",
          "output_type": "stream",
          "text": [
            "309\n",
            "Scraping reviews for Pliny The Younger...\n"
          ]
        },
        {
          "name": "stderr",
          "output_type": "stream",
          "text": [
            "\rProcessing:   6%|▌         | 14/250 [07:53<1:48:18, 27.54s/it]"
          ]
        },
        {
          "name": "stdout",
          "output_type": "stream",
          "text": [
            "334\n",
            "Scraping reviews for Coconut Vibes - Barrel-Aged...\n"
          ]
        },
        {
          "name": "stderr",
          "output_type": "stream",
          "text": [
            "\rProcessing:   6%|▌         | 15/250 [11:18<5:17:45, 81.13s/it]"
          ]
        },
        {
          "name": "stdout",
          "output_type": "stream",
          "text": [
            "Reached 50 pages for Coconut Vibes - Barrel-Aged but did not find 25 non-empty reviews. Moving to the next beer.\n",
            "346\n",
            "Scraping reviews for Barrel Aged Imperial German Chocolate Cupcake Stout...\n"
          ]
        },
        {
          "name": "stderr",
          "output_type": "stream",
          "text": [
            "\rProcessing:   6%|▋         | 16/250 [11:57<4:26:30, 68.33s/it]"
          ]
        },
        {
          "name": "stdout",
          "output_type": "stream",
          "text": [
            "371\n",
            "Scraping reviews for Fundamental Observation...\n"
          ]
        },
        {
          "name": "stderr",
          "output_type": "stream",
          "text": [
            "\rProcessing:   7%|▋         | 17/250 [12:08<3:18:56, 51.23s/it]"
          ]
        },
        {
          "name": "stdout",
          "output_type": "stream",
          "text": [
            "396\n",
            "Scraping reviews for Very Hazy...\n"
          ]
        },
        {
          "name": "stderr",
          "output_type": "stream",
          "text": [
            "\rProcessing:   7%|▋         | 18/250 [12:26<2:39:18, 41.20s/it]"
          ]
        },
        {
          "name": "stdout",
          "output_type": "stream",
          "text": [
            "421\n",
            "Scraping reviews for Bourbon County Brand Coffee Stout...\n"
          ]
        },
        {
          "name": "stderr",
          "output_type": "stream",
          "text": [
            "\rProcessing:   8%|▊         | 19/250 [12:39<2:05:08, 32.51s/it]"
          ]
        },
        {
          "name": "stdout",
          "output_type": "stream",
          "text": [
            "446\n",
            "Scraping reviews for V.S.O.J....\n"
          ]
        },
        {
          "name": "stderr",
          "output_type": "stream",
          "text": [
            "\rProcessing:   8%|▊         | 20/250 [12:52<1:43:13, 26.93s/it]"
          ]
        },
        {
          "name": "stdout",
          "output_type": "stream",
          "text": [
            "471\n",
            "Scraping reviews for Oude Fermier...\n"
          ]
        },
        {
          "name": "stderr",
          "output_type": "stream",
          "text": [
            "\rProcessing:   8%|▊         | 21/250 [13:21<1:44:27, 27.37s/it]"
          ]
        },
        {
          "name": "stdout",
          "output_type": "stream",
          "text": [
            "496\n",
            "Scraping reviews for A Deal With The Devil - Double Oak-Aged...\n"
          ]
        },
        {
          "name": "stderr",
          "output_type": "stream",
          "text": [
            "\rProcessing:   9%|▉         | 22/250 [13:36<1:30:11, 23.74s/it]"
          ]
        },
        {
          "name": "stdout",
          "output_type": "stream",
          "text": [
            "521\n",
            "Scraping reviews for Clover...\n"
          ]
        },
        {
          "name": "stderr",
          "output_type": "stream",
          "text": [
            "\rProcessing:   9%|▉         | 23/250 [13:59<1:28:19, 23.34s/it]"
          ]
        },
        {
          "name": "stdout",
          "output_type": "stream",
          "text": [
            "546\n",
            "Scraping reviews for Anabasis...\n"
          ]
        },
        {
          "name": "stderr",
          "output_type": "stream",
          "text": [
            "\rProcessing:  10%|▉         | 24/250 [14:21<1:26:43, 23.03s/it]"
          ]
        },
        {
          "name": "stdout",
          "output_type": "stream",
          "text": [
            "571\n",
            "Scraping reviews for Chemtrailmix - Rye Barrel...\n"
          ]
        },
        {
          "name": "stderr",
          "output_type": "stream",
          "text": [
            "\rProcessing:  10%|█         | 25/250 [14:49<1:32:07, 24.57s/it]"
          ]
        },
        {
          "name": "stdout",
          "output_type": "stream",
          "text": [
            "596\n",
            "Scraping reviews for Double Barrel V.S.O.J....\n"
          ]
        },
        {
          "name": "stderr",
          "output_type": "stream",
          "text": [
            "\rProcessing:  10%|█         | 26/250 [15:05<1:22:11, 22.02s/it]"
          ]
        },
        {
          "name": "stdout",
          "output_type": "stream",
          "text": [
            "621\n",
            "Scraping reviews for Julius...\n"
          ]
        },
        {
          "name": "stderr",
          "output_type": "stream",
          "text": [
            "\rProcessing:  11%|█         | 27/250 [15:19<1:12:47, 19.59s/it]"
          ]
        },
        {
          "name": "stdout",
          "output_type": "stream",
          "text": [
            "646\n",
            "Scraping reviews for Fou' Foune...\n"
          ]
        },
        {
          "name": "stderr",
          "output_type": "stream",
          "text": [
            "\rProcessing:  11%|█         | 28/250 [15:40<1:14:36, 20.17s/it]"
          ]
        },
        {
          "name": "stdout",
          "output_type": "stream",
          "text": [
            "671\n",
            "Scraping reviews for Monster Tones...\n"
          ]
        },
        {
          "name": "stderr",
          "output_type": "stream",
          "text": [
            "\rProcessing:  12%|█▏        | 29/250 [19:05<4:38:16, 75.55s/it]"
          ]
        },
        {
          "name": "stdout",
          "output_type": "stream",
          "text": [
            "Reached 50 pages for Monster Tones but did not find 25 non-empty reviews. Moving to the next beer.\n",
            "680\n",
            "Scraping reviews for Very Green...\n"
          ]
        },
        {
          "name": "stderr",
          "output_type": "stream",
          "text": [
            "\rProcessing:  12%|█▏        | 30/250 [19:28<3:38:58, 59.72s/it]"
          ]
        },
        {
          "name": "stdout",
          "output_type": "stream",
          "text": [
            "705\n",
            "Scraping reviews for Assassin...\n"
          ]
        },
        {
          "name": "stderr",
          "output_type": "stream",
          "text": [
            "\rProcessing:  12%|█▏        | 31/250 [19:46<2:52:13, 47.19s/it]"
          ]
        },
        {
          "name": "stdout",
          "output_type": "stream",
          "text": [
            "730\n",
            "Scraping reviews for Juice Machine...\n"
          ]
        },
        {
          "name": "stderr",
          "output_type": "stream",
          "text": [
            "\rProcessing:  13%|█▎        | 32/250 [20:15<2:31:25, 41.68s/it]"
          ]
        },
        {
          "name": "stdout",
          "output_type": "stream",
          "text": [
            "755\n",
            "Scraping reviews for Very GGGreennn...\n"
          ]
        },
        {
          "name": "stderr",
          "output_type": "stream",
          "text": [
            "\rProcessing:  13%|█▎        | 33/250 [20:37<2:09:44, 35.87s/it]"
          ]
        },
        {
          "name": "stdout",
          "output_type": "stream",
          "text": [
            "780\n",
            "Scraping reviews for Westly...\n"
          ]
        },
        {
          "name": "stderr",
          "output_type": "stream",
          "text": [
            "\rProcessing:  14%|█▎        | 34/250 [21:17<2:13:59, 37.22s/it]"
          ]
        },
        {
          "name": "stdout",
          "output_type": "stream",
          "text": [
            "805\n",
            "Scraping reviews for It Was All A Dream...\n"
          ]
        },
        {
          "name": "stderr",
          "output_type": "stream",
          "text": [
            "\rProcessing:  14%|█▍        | 35/250 [21:54<2:12:20, 36.93s/it]"
          ]
        },
        {
          "name": "stdout",
          "output_type": "stream",
          "text": [
            "830\n",
            "Scraping reviews for Pliny The Elder...\n"
          ]
        },
        {
          "name": "stderr",
          "output_type": "stream",
          "text": [
            "\rProcessing:  14%|█▍        | 36/250 [22:09<1:48:46, 30.50s/it]"
          ]
        },
        {
          "name": "stdout",
          "output_type": "stream",
          "text": [
            "855\n",
            "Scraping reviews for CBS (Canadian Breakfast Stout)...\n"
          ]
        },
        {
          "name": "stderr",
          "output_type": "stream",
          "text": [
            "\rProcessing:  15%|█▍        | 37/250 [22:26<1:33:34, 26.36s/it]"
          ]
        },
        {
          "name": "stdout",
          "output_type": "stream",
          "text": [
            "880\n",
            "Scraping reviews for Samuel...\n"
          ]
        },
        {
          "name": "stderr",
          "output_type": "stream",
          "text": [
            "\rProcessing:  15%|█▌        | 38/250 [25:52<4:43:21, 80.19s/it]"
          ]
        },
        {
          "name": "stdout",
          "output_type": "stream",
          "text": [
            "Reached 50 pages for Samuel but did not find 25 non-empty reviews. Moving to the next beer.\n",
            "904\n",
            "Scraping reviews for Abner...\n"
          ]
        },
        {
          "name": "stderr",
          "output_type": "stream",
          "text": [
            "\rProcessing:  16%|█▌        | 39/250 [26:15<3:41:34, 63.01s/it]"
          ]
        },
        {
          "name": "stdout",
          "output_type": "stream",
          "text": [
            "929\n",
            "Scraping reviews for Framboise Du Fermier...\n"
          ]
        },
        {
          "name": "stderr",
          "output_type": "stream",
          "text": [
            "\rProcessing:  16%|█▌        | 40/250 [26:50<3:11:52, 54.82s/it]"
          ]
        },
        {
          "name": "stdout",
          "output_type": "stream",
          "text": [
            "954\n",
            "Scraping reviews for Double Sunshine...\n"
          ]
        },
        {
          "name": "stderr",
          "output_type": "stream",
          "text": [
            "\rProcessing:  16%|█▋        | 41/250 [27:11<2:35:05, 44.52s/it]"
          ]
        },
        {
          "name": "stdout",
          "output_type": "stream",
          "text": [
            "979\n",
            "Scraping reviews for JJJuliusss!...\n"
          ]
        },
        {
          "name": "stderr",
          "output_type": "stream",
          "text": [
            "\rProcessing:  17%|█▋        | 42/250 [27:37<2:15:05, 38.97s/it]"
          ]
        },
        {
          "name": "stdout",
          "output_type": "stream",
          "text": [
            "1004\n",
            "Scraping reviews for Speedway Stout - Vietnamese Coffee - Bourbon-Barrel Aged...\n"
          ]
        },
        {
          "name": "stderr",
          "output_type": "stream",
          "text": [
            "\rProcessing:  17%|█▋        | 43/250 [27:50<1:47:46, 31.24s/it]"
          ]
        },
        {
          "name": "stdout",
          "output_type": "stream",
          "text": [
            "1029\n",
            "Scraping reviews for Dinner...\n"
          ]
        },
        {
          "name": "stderr",
          "output_type": "stream",
          "text": [
            "\rProcessing:  18%|█▊        | 44/250 [28:12<1:37:24, 28.37s/it]"
          ]
        },
        {
          "name": "stdout",
          "output_type": "stream",
          "text": [
            "1054\n",
            "Scraping reviews for Duck Duck Gooze...\n"
          ]
        },
        {
          "name": "stderr",
          "output_type": "stream",
          "text": [
            "\rProcessing:  18%|█▊        | 45/250 [28:38<1:34:36, 27.69s/it]"
          ]
        },
        {
          "name": "stdout",
          "output_type": "stream",
          "text": [
            "1079\n",
            "Scraping reviews for Lou Pepe - Kriek...\n"
          ]
        },
        {
          "name": "stderr",
          "output_type": "stream",
          "text": [
            "\rProcessing:  18%|█▊        | 46/250 [29:13<1:41:20, 29.81s/it]"
          ]
        },
        {
          "name": "stdout",
          "output_type": "stream",
          "text": [
            "1104\n",
            "Scraping reviews for Morning Wood...\n"
          ]
        },
        {
          "name": "stderr",
          "output_type": "stream",
          "text": [
            "\rProcessing:  19%|█▉        | 47/250 [29:37<1:35:16, 28.16s/it]"
          ]
        },
        {
          "name": "stdout",
          "output_type": "stream",
          "text": [
            "1129\n",
            "Scraping reviews for Parabola...\n"
          ]
        },
        {
          "name": "stderr",
          "output_type": "stream",
          "text": [
            "\rProcessing:  19%|█▉        | 48/250 [29:47<1:16:07, 22.61s/it]"
          ]
        },
        {
          "name": "stdout",
          "output_type": "stream",
          "text": [
            "1154\n",
            "Scraping reviews for Trappist Westvleteren 12 (XII)...\n"
          ]
        },
        {
          "name": "stderr",
          "output_type": "stream",
          "text": [
            "\rProcessing:  20%|█▉        | 49/250 [29:58<1:04:50, 19.36s/it]"
          ]
        },
        {
          "name": "stdout",
          "output_type": "stream",
          "text": [
            "1179\n",
            "Scraping reviews for Double Citra®...\n"
          ]
        },
        {
          "name": "stderr",
          "output_type": "stream",
          "text": [
            "\rProcessing:  20%|██        | 50/250 [30:17<1:03:27, 19.04s/it]"
          ]
        },
        {
          "name": "stdout",
          "output_type": "stream",
          "text": [
            "1204\n",
            "Scraping reviews for The Adjunct Trail - Bourbon Barrel-Aged...\n"
          ]
        },
        {
          "name": "stderr",
          "output_type": "stream",
          "text": [
            "\rProcessing:  20%|██        | 51/250 [33:44<4:10:38, 75.57s/it]"
          ]
        },
        {
          "name": "stdout",
          "output_type": "stream",
          "text": [
            "Reached 50 pages for The Adjunct Trail - Bourbon Barrel-Aged but did not find 25 non-empty reviews. Moving to the next beer.\n",
            "1221\n",
            "Scraping reviews for Ann...\n"
          ]
        },
        {
          "name": "stderr",
          "output_type": "stream",
          "text": [
            "\rProcessing:  21%|██        | 52/250 [34:17<3:27:30, 62.88s/it]"
          ]
        },
        {
          "name": "stdout",
          "output_type": "stream",
          "text": [
            "1246\n",
            "Scraping reviews for Maman...\n"
          ]
        },
        {
          "name": "stderr",
          "output_type": "stream",
          "text": [
            "\rProcessing:  21%|██        | 53/250 [34:45<2:51:56, 52.37s/it]"
          ]
        },
        {
          "name": "stdout",
          "output_type": "stream",
          "text": [
            "1271\n",
            "Scraping reviews for Doubleganger...\n"
          ]
        },
        {
          "name": "stderr",
          "output_type": "stream",
          "text": [
            "\rProcessing:  22%|██▏       | 54/250 [34:59<2:13:05, 40.74s/it]"
          ]
        },
        {
          "name": "stdout",
          "output_type": "stream",
          "text": [
            "1296\n",
            "Scraping reviews for Fuzzy...\n"
          ]
        },
        {
          "name": "stderr",
          "output_type": "stream",
          "text": [
            "\rProcessing:  22%|██▏       | 55/250 [35:31<2:03:41, 38.06s/it]"
          ]
        },
        {
          "name": "stdout",
          "output_type": "stream",
          "text": [
            "1321\n",
            "Scraping reviews for Nectarine Premiere...\n"
          ]
        },
        {
          "name": "stderr",
          "output_type": "stream",
          "text": [
            "\rProcessing:  22%|██▏       | 56/250 [36:06<2:00:11, 37.17s/it]"
          ]
        },
        {
          "name": "stdout",
          "output_type": "stream",
          "text": [
            "1346\n",
            "Scraping reviews for Aaron...\n"
          ]
        },
        {
          "name": "stderr",
          "output_type": "stream",
          "text": [
            "\rProcessing:  23%|██▎       | 57/250 [36:31<1:47:40, 33.47s/it]"
          ]
        },
        {
          "name": "stdout",
          "output_type": "stream",
          "text": [
            "1371\n",
            "Scraping reviews for KBS...\n"
          ]
        },
        {
          "name": "stderr",
          "output_type": "stream",
          "text": [
            "\rProcessing:  23%|██▎       | 58/250 [36:43<1:26:57, 27.18s/it]"
          ]
        },
        {
          "name": "stdout",
          "output_type": "stream",
          "text": [
            "1396\n",
            "Scraping reviews for Bourbon County Brand Stout...\n"
          ]
        },
        {
          "name": "stderr",
          "output_type": "stream",
          "text": [
            "\rProcessing:  24%|██▎       | 59/250 [36:58<1:14:30, 23.40s/it]"
          ]
        },
        {
          "name": "stdout",
          "output_type": "stream",
          "text": [
            "1421\n",
            "Scraping reviews for Very HHHazyyy...\n"
          ]
        },
        {
          "name": "stderr",
          "output_type": "stream",
          "text": [
            "\rProcessing:  24%|██▍       | 60/250 [37:23<1:15:36, 23.88s/it]"
          ]
        },
        {
          "name": "stdout",
          "output_type": "stream",
          "text": [
            "1446\n",
            "Scraping reviews for Flora Plum...\n"
          ]
        },
        {
          "name": "stderr",
          "output_type": "stream",
          "text": [
            "\rProcessing:  24%|██▍       | 61/250 [37:57<1:25:21, 27.10s/it]"
          ]
        },
        {
          "name": "stdout",
          "output_type": "stream",
          "text": [
            "1471\n",
            "Scraping reviews for Headroom...\n"
          ]
        },
        {
          "name": "stderr",
          "output_type": "stream",
          "text": [
            "\rProcessing:  25%|██▍       | 62/250 [38:21<1:21:36, 26.05s/it]"
          ]
        },
        {
          "name": "stdout",
          "output_type": "stream",
          "text": [
            "1496\n",
            "Scraping reviews for Atrial Rubicite...\n"
          ]
        },
        {
          "name": "stderr",
          "output_type": "stream",
          "text": [
            "\rProcessing:  25%|██▌       | 63/250 [38:53<1:26:26, 27.73s/it]"
          ]
        },
        {
          "name": "stdout",
          "output_type": "stream",
          "text": [
            "1521\n",
            "Scraping reviews for Double Galaxy...\n"
          ]
        },
        {
          "name": "stderr",
          "output_type": "stream",
          "text": [
            "\rProcessing:  26%|██▌       | 64/250 [39:16<1:21:41, 26.35s/it]"
          ]
        },
        {
          "name": "stdout",
          "output_type": "stream",
          "text": [
            "1546\n",
            "Scraping reviews for Double Dry Hopped Congress Street...\n"
          ]
        },
        {
          "name": "stderr",
          "output_type": "stream",
          "text": [
            "\rProcessing:  26%|██▌       | 65/250 [39:46<1:25:09, 27.62s/it]"
          ]
        },
        {
          "name": "stdout",
          "output_type": "stream",
          "text": [
            "1571\n",
            "Scraping reviews for Ghost In The Machine - Double Dry-Hopped...\n"
          ]
        },
        {
          "name": "stderr",
          "output_type": "stream",
          "text": [
            "\rProcessing:  26%|██▋       | 66/250 [40:11<1:22:06, 26.78s/it]"
          ]
        },
        {
          "name": "stdout",
          "output_type": "stream",
          "text": [
            "1596\n",
            "Scraping reviews for Kentucky Brunch Brand Stout - Double Barrel Reserve...\n"
          ]
        },
        {
          "name": "stderr",
          "output_type": "stream",
          "text": [
            "\rProcessing:  27%|██▋       | 67/250 [43:43<4:11:21, 82.41s/it]"
          ]
        },
        {
          "name": "stdout",
          "output_type": "stream",
          "text": [
            "Reached 50 pages for Kentucky Brunch Brand Stout - Double Barrel Reserve but did not find 25 non-empty reviews. Moving to the next beer.\n",
            "1606\n",
            "Scraping reviews for King Sue...\n"
          ]
        },
        {
          "name": "stderr",
          "output_type": "stream",
          "text": [
            "\rProcessing:  27%|██▋       | 68/250 [44:04<3:13:26, 63.77s/it]"
          ]
        },
        {
          "name": "stdout",
          "output_type": "stream",
          "text": [
            "1631\n",
            "Scraping reviews for Coconut Vibes...\n"
          ]
        },
        {
          "name": "stderr",
          "output_type": "stream",
          "text": [
            "\rProcessing:  28%|██▊       | 69/250 [44:41<2:48:56, 56.00s/it]"
          ]
        },
        {
          "name": "stdout",
          "output_type": "stream",
          "text": [
            "1656\n",
            "Scraping reviews for Society & Solitude #4...\n"
          ]
        },
        {
          "name": "stderr",
          "output_type": "stream",
          "text": [
            "\rProcessing:  28%|██▊       | 70/250 [45:12<2:25:09, 48.39s/it]"
          ]
        },
        {
          "name": "stdout",
          "output_type": "stream",
          "text": [
            "1681\n",
            "Scraping reviews for Lou Pepe - Framboise...\n"
          ]
        },
        {
          "name": "stderr",
          "output_type": "stream",
          "text": [
            "\rProcessing:  28%|██▊       | 71/250 [45:47<2:12:09, 44.30s/it]"
          ]
        },
        {
          "name": "stdout",
          "output_type": "stream",
          "text": [
            "1706\n",
            "Scraping reviews for Abricot Du Fermier...\n"
          ]
        },
        {
          "name": "stderr",
          "output_type": "stream",
          "text": [
            "\rProcessing:  29%|██▉       | 72/250 [46:30<2:10:10, 43.88s/it]"
          ]
        },
        {
          "name": "stdout",
          "output_type": "stream",
          "text": [
            "1731\n",
            "Scraping reviews for Cable Car...\n"
          ]
        },
        {
          "name": "stderr",
          "output_type": "stream",
          "text": [
            "\rProcessing:  29%|██▉       | 73/250 [47:06<2:02:45, 41.62s/it]"
          ]
        },
        {
          "name": "stdout",
          "output_type": "stream",
          "text": [
            "1756\n",
            "Scraping reviews for Oude Geuze Vintage...\n"
          ]
        },
        {
          "name": "stderr",
          "output_type": "stream",
          "text": [
            "\rProcessing:  30%|██▉       | 74/250 [47:39<1:54:39, 39.09s/it]"
          ]
        },
        {
          "name": "stdout",
          "output_type": "stream",
          "text": [
            "1781\n",
            "Scraping reviews for Zombie Dust...\n"
          ]
        },
        {
          "name": "stderr",
          "output_type": "stream",
          "text": [
            "\rProcessing:  30%|███       | 75/250 [47:53<1:31:36, 31.41s/it]"
          ]
        },
        {
          "name": "stdout",
          "output_type": "stream",
          "text": [
            "1806\n",
            "Scraping reviews for Hunahpu's Imperial Stout...\n"
          ]
        },
        {
          "name": "stderr",
          "output_type": "stream",
          "text": [
            "\rProcessing:  30%|███       | 76/250 [48:22<1:29:25, 30.84s/it]"
          ]
        },
        {
          "name": "stdout",
          "output_type": "stream",
          "text": [
            "1831\n",
            "Scraping reviews for Green...\n"
          ]
        },
        {
          "name": "stderr",
          "output_type": "stream",
          "text": [
            "\rProcessing:  31%|███       | 77/250 [48:40<1:17:46, 26.97s/it]"
          ]
        },
        {
          "name": "stdout",
          "output_type": "stream",
          "text": [
            "1856\n",
            "Scraping reviews for Haze...\n"
          ]
        },
        {
          "name": "stderr",
          "output_type": "stream",
          "text": [
            "\rProcessing:  31%|███       | 78/250 [48:59<1:10:29, 24.59s/it]"
          ]
        },
        {
          "name": "stdout",
          "output_type": "stream",
          "text": [
            "1881\n",
            "Scraping reviews for Doppelganger...\n"
          ]
        },
        {
          "name": "stderr",
          "output_type": "stream",
          "text": [
            "\rProcessing:  32%|███▏      | 79/250 [49:19<1:05:42, 23.05s/it]"
          ]
        },
        {
          "name": "stdout",
          "output_type": "stream",
          "text": [
            "1906\n",
            "Scraping reviews for Fort Point Pale Ale - Double Dry Hopped...\n"
          ]
        },
        {
          "name": "stderr",
          "output_type": "stream",
          "text": [
            "\rProcessing:  32%|███▏      | 80/250 [49:39<1:03:24, 22.38s/it]"
          ]
        },
        {
          "name": "stdout",
          "output_type": "stream",
          "text": [
            "1931\n",
            "Scraping reviews for Cable Car Kriek...\n"
          ]
        },
        {
          "name": "stderr",
          "output_type": "stream",
          "text": [
            "\rProcessing:  32%|███▏      | 81/250 [50:10<1:10:01, 24.86s/it]"
          ]
        },
        {
          "name": "stdout",
          "output_type": "stream",
          "text": [
            "1956\n",
            "Scraping reviews for Swish...\n"
          ]
        },
        {
          "name": "stderr",
          "output_type": "stream",
          "text": [
            "\rProcessing:  33%|███▎      | 82/250 [50:35<1:09:12, 24.72s/it]"
          ]
        },
        {
          "name": "stdout",
          "output_type": "stream",
          "text": [
            "1981\n",
            "Scraping reviews for The Broken Truck...\n"
          ]
        },
        {
          "name": "stderr",
          "output_type": "stream",
          "text": [
            "\rProcessing:  33%|███▎      | 83/250 [51:11<1:18:54, 28.35s/it]"
          ]
        },
        {
          "name": "stdout",
          "output_type": "stream",
          "text": [
            "2006\n",
            "Scraping reviews for Triple Shot...\n"
          ]
        },
        {
          "name": "stderr",
          "output_type": "stream",
          "text": [
            "\rProcessing:  34%|███▎      | 84/250 [51:37<1:16:09, 27.53s/it]"
          ]
        },
        {
          "name": "stdout",
          "output_type": "stream",
          "text": [
            "2031\n",
            "Scraping reviews for Focal Banger...\n"
          ]
        },
        {
          "name": "stderr",
          "output_type": "stream",
          "text": [
            "\rProcessing:  34%|███▍      | 85/250 [51:51<1:04:45, 23.55s/it]"
          ]
        },
        {
          "name": "stdout",
          "output_type": "stream",
          "text": [
            "2056\n",
            "Scraping reviews for I Let My Tape Rock...\n"
          ]
        },
        {
          "name": "stderr",
          "output_type": "stream",
          "text": [
            "\rProcessing:  34%|███▍      | 86/250 [55:13<3:30:32, 77.03s/it]"
          ]
        },
        {
          "name": "stdout",
          "output_type": "stream",
          "text": [
            "Reached 50 pages for I Let My Tape Rock but did not find 25 non-empty reviews. Moving to the next beer.\n",
            "2067\n",
            "Scraping reviews for West Ashley...\n"
          ]
        },
        {
          "name": "stderr",
          "output_type": "stream",
          "text": [
            "\rProcessing:  35%|███▍      | 87/250 [55:58<3:03:08, 67.42s/it]"
          ]
        },
        {
          "name": "stdout",
          "output_type": "stream",
          "text": [
            "2092\n",
            "Scraping reviews for Ephraim...\n"
          ]
        },
        {
          "name": "stderr",
          "output_type": "stream",
          "text": [
            "\rProcessing:  35%|███▌      | 88/250 [56:30<2:32:58, 56.66s/it]"
          ]
        },
        {
          "name": "stdout",
          "output_type": "stream",
          "text": [
            "2117\n",
            "Scraping reviews for Coffee Cinnamon B-Bomb...\n"
          ]
        },
        {
          "name": "stderr",
          "output_type": "stream",
          "text": [
            "\rProcessing:  36%|███▌      | 89/250 [56:45<1:58:46, 44.26s/it]"
          ]
        },
        {
          "name": "stdout",
          "output_type": "stream",
          "text": [
            "2142\n",
            "Scraping reviews for Adios Ghost...\n"
          ]
        },
        {
          "name": "stderr",
          "output_type": "stream",
          "text": [
            "\rProcessing:  36%|███▌      | 90/250 [1:00:30<4:22:29, 98.43s/it]"
          ]
        },
        {
          "name": "stdout",
          "output_type": "stream",
          "text": [
            "Reached 50 pages for Adios Ghost but did not find 25 non-empty reviews. Moving to the next beer.\n",
            "2152\n",
            "Scraping reviews for Curiosity Twenty Seven...\n"
          ]
        },
        {
          "name": "stderr",
          "output_type": "stream",
          "text": [
            "\rProcessing:  36%|███▋      | 91/250 [1:00:59<3:25:52, 77.69s/it]"
          ]
        },
        {
          "name": "stdout",
          "output_type": "stream",
          "text": [
            "2177\n",
            "Scraping reviews for Saison Du Fermier...\n"
          ]
        },
        {
          "name": "stderr",
          "output_type": "stream",
          "text": [
            "\rProcessing:  37%|███▋      | 92/250 [1:01:50<3:03:23, 69.64s/it]"
          ]
        },
        {
          "name": "stdout",
          "output_type": "stream",
          "text": [
            "2202\n",
            "Scraping reviews for Bourbon Paradise...\n"
          ]
        },
        {
          "name": "stderr",
          "output_type": "stream",
          "text": [
            "\rProcessing:  37%|███▋      | 93/250 [1:02:09<2:22:37, 54.51s/it]"
          ]
        },
        {
          "name": "stdout",
          "output_type": "stream",
          "text": [
            "2227\n",
            "Scraping reviews for The Rusty Nail...\n"
          ]
        },
        {
          "name": "stderr",
          "output_type": "stream",
          "text": [
            "\rProcessing:  38%|███▊      | 94/250 [1:02:20<1:47:53, 41.50s/it]"
          ]
        },
        {
          "name": "stdout",
          "output_type": "stream",
          "text": [
            "2252\n",
            "Scraping reviews for The Peach...\n"
          ]
        },
        {
          "name": "stderr",
          "output_type": "stream",
          "text": [
            "\rProcessing:  38%|███▊      | 95/250 [1:02:57<1:43:34, 40.09s/it]"
          ]
        },
        {
          "name": "stdout",
          "output_type": "stream",
          "text": [
            "2277\n",
            "Scraping reviews for Supplication...\n"
          ]
        },
        {
          "name": "stderr",
          "output_type": "stream",
          "text": [
            "\rProcessing:  38%|███▊      | 96/250 [1:03:14<1:25:03, 33.14s/it]"
          ]
        },
        {
          "name": "stdout",
          "output_type": "stream",
          "text": [
            "2302\n",
            "Scraping reviews for Sip Of Sunshine...\n"
          ]
        },
        {
          "name": "stderr",
          "output_type": "stream",
          "text": [
            "\rProcessing:  39%|███▉      | 97/250 [1:03:27<1:08:55, 27.03s/it]"
          ]
        },
        {
          "name": "stdout",
          "output_type": "stream",
          "text": [
            "2327\n",
            "Scraping reviews for Keene Idea...\n"
          ]
        },
        {
          "name": "stderr",
          "output_type": "stream",
          "text": [
            "\rProcessing:  39%|███▉      | 98/250 [1:03:57<1:11:02, 28.04s/it]"
          ]
        },
        {
          "name": "stdout",
          "output_type": "stream",
          "text": [
            "2352\n",
            "Scraping reviews for Beatification...\n"
          ]
        },
        {
          "name": "stderr",
          "output_type": "stream",
          "text": [
            "\rProcessing:  40%|███▉      | 99/250 [1:04:09<58:22, 23.19s/it]  "
          ]
        },
        {
          "name": "stdout",
          "output_type": "stream",
          "text": [
            "2377\n",
            "Scraping reviews for Fourth Dementia - Bourbon Barrel-Aged...\n"
          ]
        },
        {
          "name": "stderr",
          "output_type": "stream",
          "text": [
            "\rProcessing:  40%|████      | 100/250 [1:04:31<57:20, 22.94s/it]"
          ]
        },
        {
          "name": "stdout",
          "output_type": "stream",
          "text": [
            "2402\n",
            "Scraping reviews for Citra...\n"
          ]
        },
        {
          "name": "stderr",
          "output_type": "stream",
          "text": [
            "\rProcessing:  40%|████      | 101/250 [1:04:49<52:54, 21.31s/it]"
          ]
        },
        {
          "name": "stdout",
          "output_type": "stream",
          "text": [
            "2427\n",
            "Scraping reviews for Fort Point Pale Ale - Galaxy Dry Hopped...\n"
          ]
        },
        {
          "name": "stderr",
          "output_type": "stream",
          "text": [
            "\rProcessing:  41%|████      | 102/250 [1:05:22<1:01:23, 24.89s/it]"
          ]
        },
        {
          "name": "stdout",
          "output_type": "stream",
          "text": [
            "2452\n",
            "Scraping reviews for 4th Anniversary...\n"
          ]
        },
        {
          "name": "stderr",
          "output_type": "stream",
          "text": [
            "\rProcessing:  41%|████      | 103/250 [1:06:11<1:18:22, 31.99s/it]"
          ]
        },
        {
          "name": "stdout",
          "output_type": "stream",
          "text": [
            "2477\n",
            "Scraping reviews for Triple Sunshine...\n"
          ]
        },
        {
          "name": "stderr",
          "output_type": "stream",
          "text": [
            "\rProcessing:  42%|████▏     | 104/250 [1:06:28<1:07:10, 27.61s/it]"
          ]
        },
        {
          "name": "stdout",
          "output_type": "stream",
          "text": [
            "2502\n",
            "Scraping reviews for Leaner...\n"
          ]
        },
        {
          "name": "stderr",
          "output_type": "stream",
          "text": [
            "\rProcessing:  42%|████▏     | 105/250 [1:09:54<3:15:57, 81.08s/it]"
          ]
        },
        {
          "name": "stdout",
          "output_type": "stream",
          "text": [
            "Reached 50 pages for Leaner but did not find 25 non-empty reviews. Moving to the next beer.\n",
            "2519\n",
            "Scraping reviews for Medianoche - Coconut...\n"
          ]
        },
        {
          "name": "stderr",
          "output_type": "stream",
          "text": [
            "\rProcessing:  42%|████▏     | 106/250 [1:10:23<2:37:07, 65.47s/it]"
          ]
        },
        {
          "name": "stdout",
          "output_type": "stream",
          "text": [
            "2544\n",
            "Scraping reviews for Sunday Brunch...\n"
          ]
        },
        {
          "name": "stderr",
          "output_type": "stream",
          "text": [
            "\rProcessing:  43%|████▎     | 107/250 [1:10:49<2:07:38, 53.56s/it]"
          ]
        },
        {
          "name": "stdout",
          "output_type": "stream",
          "text": [
            "2569\n",
            "Scraping reviews for Black Tuesday - Reserve...\n"
          ]
        },
        {
          "name": "stderr",
          "output_type": "stream",
          "text": [
            "\rProcessing:  43%|████▎     | 108/250 [1:11:27<1:55:40, 48.88s/it]"
          ]
        },
        {
          "name": "stdout",
          "output_type": "stream",
          "text": [
            "2594\n",
            "Scraping reviews for Curiosity Twenty Two...\n"
          ]
        },
        {
          "name": "stderr",
          "output_type": "stream",
          "text": [
            "\rProcessing:  44%|████▎     | 109/250 [1:12:11<1:51:40, 47.52s/it]"
          ]
        },
        {
          "name": "stdout",
          "output_type": "stream",
          "text": [
            "2619\n",
            "Scraping reviews for Mexican Brunch...\n"
          ]
        },
        {
          "name": "stderr",
          "output_type": "stream",
          "text": [
            "\rProcessing:  44%|████▍     | 110/250 [1:12:57<1:49:50, 47.08s/it]"
          ]
        },
        {
          "name": "stdout",
          "output_type": "stream",
          "text": [
            "2644\n",
            "Scraping reviews for Black Note Stout...\n"
          ]
        },
        {
          "name": "stderr",
          "output_type": "stream",
          "text": [
            "\rProcessing:  44%|████▍     | 111/250 [1:13:18<1:30:48, 39.20s/it]"
          ]
        },
        {
          "name": "stdout",
          "output_type": "stream",
          "text": [
            "2669\n",
            "Scraping reviews for Black Tuesday...\n"
          ]
        },
        {
          "name": "stderr",
          "output_type": "stream",
          "text": [
            "\rProcessing:  45%|████▍     | 112/250 [1:13:28<1:09:59, 30.43s/it]"
          ]
        },
        {
          "name": "stdout",
          "output_type": "stream",
          "text": [
            "2694\n",
            "Scraping reviews for Scaled Way Up...\n"
          ]
        },
        {
          "name": "stderr",
          "output_type": "stream",
          "text": [
            "\rProcessing:  45%|████▌     | 113/250 [1:14:21<1:25:11, 37.31s/it]"
          ]
        },
        {
          "name": "stdout",
          "output_type": "stream",
          "text": [
            "2719\n",
            "Scraping reviews for Alter Ego...\n"
          ]
        },
        {
          "name": "stderr",
          "output_type": "stream",
          "text": [
            "\rProcessing:  46%|████▌     | 114/250 [1:14:37<1:09:58, 30.87s/it]"
          ]
        },
        {
          "name": "stdout",
          "output_type": "stream",
          "text": [
            "2744\n",
            "Scraping reviews for Miami Madness...\n"
          ]
        },
        {
          "name": "stderr",
          "output_type": "stream",
          "text": [
            "\rProcessing:  46%|████▌     | 115/250 [1:15:15<1:14:29, 33.10s/it]"
          ]
        },
        {
          "name": "stdout",
          "output_type": "stream",
          "text": [
            "2769\n",
            "Scraping reviews for Saint Lamvinus...\n"
          ]
        },
        {
          "name": "stderr",
          "output_type": "stream",
          "text": [
            "\rProcessing:  46%|████▋     | 116/250 [1:15:43<1:10:08, 31.40s/it]"
          ]
        },
        {
          "name": "stdout",
          "output_type": "stream",
          "text": [
            "2794\n",
            "Scraping reviews for Society & Solitude #5...\n"
          ]
        },
        {
          "name": "stderr",
          "output_type": "stream",
          "text": [
            "\rProcessing:  47%|████▋     | 117/250 [1:16:11<1:07:26, 30.43s/it]"
          ]
        },
        {
          "name": "stdout",
          "output_type": "stream",
          "text": [
            "2819\n",
            "Scraping reviews for Nillerzzzzz...\n"
          ]
        },
        {
          "name": "stderr",
          "output_type": "stream",
          "text": [
            "\rProcessing:  47%|████▋     | 118/250 [1:19:47<3:09:38, 86.20s/it]"
          ]
        },
        {
          "name": "stdout",
          "output_type": "stream",
          "text": [
            "Reached 50 pages for Nillerzzzzz but did not find 25 non-empty reviews. Moving to the next beer.\n",
            "2839\n",
            "Scraping reviews for XTRA DUBL Benthic...\n"
          ]
        },
        {
          "name": "stderr",
          "output_type": "stream",
          "text": [
            "\rProcessing:  48%|████▊     | 119/250 [1:23:19<4:30:33, 123.92s/it]"
          ]
        },
        {
          "name": "stdout",
          "output_type": "stream",
          "text": [
            "Reached 50 pages for XTRA DUBL Benthic but did not find 25 non-empty reviews. Moving to the next beer.\n",
            "2851\n",
            "Scraping reviews for Last Buffalo In The Park...\n"
          ]
        },
        {
          "name": "stderr",
          "output_type": "stream",
          "text": [
            "\rProcessing:  48%|████▊     | 120/250 [1:23:44<3:24:10, 94.23s/it] "
          ]
        },
        {
          "name": "stdout",
          "output_type": "stream",
          "text": [
            "2876\n",
            "Scraping reviews for Black Gold...\n"
          ]
        },
        {
          "name": "stderr",
          "output_type": "stream",
          "text": [
            "\rProcessing:  48%|████▊     | 121/250 [1:24:19<2:44:15, 76.40s/it]"
          ]
        },
        {
          "name": "stdout",
          "output_type": "stream",
          "text": [
            "2901\n",
            "Scraping reviews for Kaggen! Stormaktsporter...\n"
          ]
        },
        {
          "name": "stderr",
          "output_type": "stream",
          "text": [
            "\rProcessing:  49%|████▉     | 122/250 [1:24:46<2:11:21, 61.57s/it]"
          ]
        },
        {
          "name": "stdout",
          "output_type": "stream",
          "text": [
            "2926\n",
            "Scraping reviews for Beyond Good And Evil...\n"
          ]
        },
        {
          "name": "stderr",
          "output_type": "stream",
          "text": [
            "\rProcessing:  49%|████▉     | 123/250 [1:25:23<1:54:45, 54.22s/it]"
          ]
        },
        {
          "name": "stdout",
          "output_type": "stream",
          "text": [
            "2951\n",
            "Scraping reviews for Rocky Road - Bourbon Barrel-Aged...\n"
          ]
        },
        {
          "name": "stderr",
          "output_type": "stream",
          "text": [
            "\rProcessing:  50%|████▉     | 124/250 [1:29:05<3:39:49, 104.68s/it]"
          ]
        },
        {
          "name": "stdout",
          "output_type": "stream",
          "text": [
            "Reached 50 pages for Rocky Road - Bourbon Barrel-Aged but did not find 25 non-empty reviews. Moving to the next beer.\n",
            "2962\n",
            "Scraping reviews for Truth...\n"
          ]
        },
        {
          "name": "stderr",
          "output_type": "stream",
          "text": [
            "\rProcessing:  50%|█████     | 125/250 [1:32:33<4:42:11, 135.45s/it]"
          ]
        },
        {
          "name": "stdout",
          "output_type": "stream",
          "text": [
            "Reached 50 pages for Truth but did not find 25 non-empty reviews. Moving to the next beer.\n",
            "2978\n",
            "Scraping reviews for Sunday Brunch - Bourbon Barrel-Aged...\n"
          ]
        },
        {
          "name": "stderr",
          "output_type": "stream",
          "text": [
            "\rProcessing:  50%|█████     | 126/250 [1:36:09<5:30:20, 159.84s/it]"
          ]
        },
        {
          "name": "stdout",
          "output_type": "stream",
          "text": [
            "Reached 50 pages for Sunday Brunch - Bourbon Barrel-Aged but did not find 25 non-empty reviews. Moving to the next beer.\n",
            "2995\n",
            "Scraping reviews for Gggreennn!...\n"
          ]
        },
        {
          "name": "stderr",
          "output_type": "stream",
          "text": [
            "\rProcessing:  51%|█████     | 127/250 [1:36:28<4:00:35, 117.36s/it]"
          ]
        },
        {
          "name": "stdout",
          "output_type": "stream",
          "text": [
            "3020\n",
            "Scraping reviews for Fundamental Forces...\n"
          ]
        },
        {
          "name": "stderr",
          "output_type": "stream",
          "text": [
            "\rProcessing:  51%|█████     | 128/250 [1:37:04<3:09:10, 93.04s/it] "
          ]
        },
        {
          "name": "stdout",
          "output_type": "stream",
          "text": [
            "3045\n",
            "Scraping reviews for Chocolate Rain...\n"
          ]
        },
        {
          "name": "stderr",
          "output_type": "stream",
          "text": [
            "\rProcessing:  52%|█████▏    | 129/250 [1:37:26<2:24:31, 71.66s/it]"
          ]
        },
        {
          "name": "stdout",
          "output_type": "stream",
          "text": [
            "3070\n",
            "Scraping reviews for Double Nelson...\n"
          ]
        },
        {
          "name": "stderr",
          "output_type": "stream",
          "text": [
            "\rProcessing:  52%|█████▏    | 130/250 [1:37:55<1:57:39, 58.83s/it]"
          ]
        },
        {
          "name": "stdout",
          "output_type": "stream",
          "text": [
            "3095\n",
            "Scraping reviews for Pseudo Sue - Double Dry-Hopped...\n"
          ]
        },
        {
          "name": "stderr",
          "output_type": "stream",
          "text": [
            "\rProcessing:  52%|█████▏    | 131/250 [1:38:16<1:34:31, 47.66s/it]"
          ]
        },
        {
          "name": "stdout",
          "output_type": "stream",
          "text": [
            "3120\n",
            "Scraping reviews for Double Shot...\n"
          ]
        },
        {
          "name": "stderr",
          "output_type": "stream",
          "text": [
            "\rProcessing:  53%|█████▎    | 132/250 [1:38:37<1:18:05, 39.71s/it]"
          ]
        },
        {
          "name": "stdout",
          "output_type": "stream",
          "text": [
            "3145\n",
            "Scraping reviews for Parabajava...\n"
          ]
        },
        {
          "name": "stderr",
          "output_type": "stream",
          "text": [
            "\rProcessing:  53%|█████▎    | 133/250 [1:38:55<1:04:19, 32.98s/it]"
          ]
        },
        {
          "name": "stdout",
          "output_type": "stream",
          "text": [
            "3170\n",
            "Scraping reviews for Notorious Triple IPA...\n"
          ]
        },
        {
          "name": "stderr",
          "output_type": "stream",
          "text": [
            "\rProcessing:  54%|█████▎    | 134/250 [1:39:25<1:02:21, 32.26s/it]"
          ]
        },
        {
          "name": "stdout",
          "output_type": "stream",
          "text": [
            "3195\n",
            "Scraping reviews for JJJuiceee Machine...\n"
          ]
        },
        {
          "name": "stderr",
          "output_type": "stream",
          "text": [
            "\rProcessing:  54%|█████▍    | 135/250 [1:39:59<1:02:37, 32.68s/it]"
          ]
        },
        {
          "name": "stdout",
          "output_type": "stream",
          "text": [
            "3220\n",
            "Scraping reviews for Moment Of Clarity...\n"
          ]
        },
        {
          "name": "stderr",
          "output_type": "stream",
          "text": [
            "\rProcessing:  54%|█████▍    | 136/250 [1:40:23<57:28, 30.25s/it]  "
          ]
        },
        {
          "name": "stdout",
          "output_type": "stream",
          "text": [
            "3245\n",
            "Scraping reviews for Emperor Julius...\n"
          ]
        },
        {
          "name": "stderr",
          "output_type": "stream",
          "text": [
            "\rProcessing:  55%|█████▍    | 137/250 [1:40:51<55:19, 29.38s/it]"
          ]
        },
        {
          "name": "stdout",
          "output_type": "stream",
          "text": [
            "3270\n",
            "Scraping reviews for Plead The 5th - Bourbon Barrel-Aged...\n"
          ]
        },
        {
          "name": "stderr",
          "output_type": "stream",
          "text": [
            "\rProcessing:  55%|█████▌    | 138/250 [1:41:11<49:27, 26.49s/it]"
          ]
        },
        {
          "name": "stdout",
          "output_type": "stream",
          "text": [
            "3295\n",
            "Scraping reviews for Modem Tones - Bourbon Barrel-Aged - Vanilla...\n"
          ]
        },
        {
          "name": "stderr",
          "output_type": "stream",
          "text": [
            "\rProcessing:  56%|█████▌    | 139/250 [1:44:54<2:38:20, 85.59s/it]"
          ]
        },
        {
          "name": "stdout",
          "output_type": "stream",
          "text": [
            "Reached 50 pages for Modem Tones - Bourbon Barrel-Aged - Vanilla but did not find 25 non-empty reviews. Moving to the next beer.\n",
            "3319\n",
            "Scraping reviews for Speedway Stout - Bourbon Barrel-Aged...\n"
          ]
        },
        {
          "name": "stderr",
          "output_type": "stream",
          "text": [
            "\rProcessing:  56%|█████▌    | 140/250 [1:45:05<1:56:01, 63.28s/it]"
          ]
        },
        {
          "name": "stdout",
          "output_type": "stream",
          "text": [
            "3344\n",
            "Scraping reviews for Curiosity Thirty Two...\n"
          ]
        },
        {
          "name": "stderr",
          "output_type": "stream",
          "text": [
            "\rProcessing:  56%|█████▋    | 141/250 [1:49:03<3:29:45, 115.46s/it]"
          ]
        },
        {
          "name": "stdout",
          "output_type": "stream",
          "text": [
            "Reached 50 pages for Curiosity Thirty Two but did not find 25 non-empty reviews. Moving to the next beer.\n",
            "3368\n",
            "Scraping reviews for Cutting Tiles - Mosaic...\n"
          ]
        },
        {
          "name": "stderr",
          "output_type": "stream",
          "text": [
            "\rProcessing:  57%|█████▋    | 142/250 [1:49:43<2:47:28, 93.04s/it] "
          ]
        },
        {
          "name": "stdout",
          "output_type": "stream",
          "text": [
            "3393\n",
            "Scraping reviews for In Perpetuity...\n"
          ]
        },
        {
          "name": "stderr",
          "output_type": "stream",
          "text": [
            "\rProcessing:  57%|█████▋    | 143/250 [1:50:07<2:08:52, 72.26s/it]"
          ]
        },
        {
          "name": "stdout",
          "output_type": "stream",
          "text": [
            "3418\n",
            "Scraping reviews for Wide Awake It's Morning...\n"
          ]
        },
        {
          "name": "stderr",
          "output_type": "stream",
          "text": [
            "\rProcessing:  58%|█████▊    | 144/250 [1:50:47<1:50:27, 62.52s/it]"
          ]
        },
        {
          "name": "stdout",
          "output_type": "stream",
          "text": [
            "3443\n",
            "Scraping reviews for Blåbær Lambik...\n"
          ]
        },
        {
          "name": "stderr",
          "output_type": "stream",
          "text": [
            "\rProcessing:  58%|█████▊    | 145/250 [1:51:20<1:33:58, 53.70s/it]"
          ]
        },
        {
          "name": "stdout",
          "output_type": "stream",
          "text": [
            "3468\n",
            "Scraping reviews for Framboos...\n"
          ]
        },
        {
          "name": "stderr",
          "output_type": "stream",
          "text": [
            "\rProcessing:  58%|█████▊    | 146/250 [1:51:53<1:22:30, 47.60s/it]"
          ]
        },
        {
          "name": "stdout",
          "output_type": "stream",
          "text": [
            "3493\n",
            "Scraping reviews for Great...\n"
          ]
        },
        {
          "name": "stderr",
          "output_type": "stream",
          "text": [
            "\rProcessing:  59%|█████▉    | 147/250 [1:52:25<1:13:32, 42.84s/it]"
          ]
        },
        {
          "name": "stdout",
          "output_type": "stream",
          "text": [
            "3518\n",
            "Scraping reviews for Double Dry Hopped Double Mosaic Dream...\n"
          ]
        },
        {
          "name": "stderr",
          "output_type": "stream",
          "text": [
            "\rProcessing:  59%|█████▉    | 148/250 [1:52:43<1:00:06, 35.36s/it]"
          ]
        },
        {
          "name": "stdout",
          "output_type": "stream",
          "text": [
            "3543\n",
            "Scraping reviews for Label Us Notorious - Calvados BA Big Poppa...\n"
          ]
        },
        {
          "name": "stderr",
          "output_type": "stream",
          "text": [
            "\rProcessing:  60%|█████▉    | 149/250 [1:56:32<2:37:18, 93.45s/it]"
          ]
        },
        {
          "name": "stdout",
          "output_type": "stream",
          "text": [
            "Reached 50 pages for Label Us Notorious - Calvados BA Big Poppa but did not find 25 non-empty reviews. Moving to the next beer.\n",
            "3550\n",
            "Scraping reviews for Breakfast Stout...\n"
          ]
        },
        {
          "name": "stderr",
          "output_type": "stream",
          "text": [
            "\rProcessing:  60%|██████    | 150/250 [1:56:47<1:56:21, 69.82s/it]"
          ]
        },
        {
          "name": "stdout",
          "output_type": "stream",
          "text": [
            "3575\n",
            "Scraping reviews for §ucaba...\n"
          ]
        },
        {
          "name": "stderr",
          "output_type": "stream",
          "text": [
            "\rProcessing:  60%|██████    | 151/250 [1:57:04<1:29:11, 54.05s/it]"
          ]
        },
        {
          "name": "stdout",
          "output_type": "stream",
          "text": [
            "3600\n",
            "Scraping reviews for Art...\n"
          ]
        },
        {
          "name": "stderr",
          "output_type": "stream",
          "text": [
            "\rProcessing:  61%|██████    | 152/250 [1:57:44<1:21:29, 49.89s/it]"
          ]
        },
        {
          "name": "stdout",
          "output_type": "stream",
          "text": [
            "3625\n",
            "Scraping reviews for Double Dry Hopped Double Mosaic Daydream...\n"
          ]
        },
        {
          "name": "stderr",
          "output_type": "stream",
          "text": [
            "\rProcessing:  61%|██████    | 153/250 [1:58:08<1:07:57, 42.04s/it]"
          ]
        },
        {
          "name": "stdout",
          "output_type": "stream",
          "text": [
            "3650\n",
            "Scraping reviews for Dorothy (Wine Barrel Aged)...\n"
          ]
        },
        {
          "name": "stderr",
          "output_type": "stream",
          "text": [
            "\rProcessing:  62%|██████▏   | 154/250 [1:58:47<1:05:49, 41.14s/it]"
          ]
        },
        {
          "name": "stdout",
          "output_type": "stream",
          "text": [
            "3675\n",
            "Scraping reviews for Pirate Bomb!...\n"
          ]
        },
        {
          "name": "stderr",
          "output_type": "stream",
          "text": [
            "\rProcessing:  62%|██████▏   | 155/250 [1:59:10<56:23, 35.61s/it]  "
          ]
        },
        {
          "name": "stdout",
          "output_type": "stream",
          "text": [
            "3700\n",
            "Scraping reviews for Grey Monday...\n"
          ]
        },
        {
          "name": "stderr",
          "output_type": "stream",
          "text": [
            "\rProcessing:  62%|██████▏   | 156/250 [1:59:35<50:48, 32.43s/it]"
          ]
        },
        {
          "name": "stdout",
          "output_type": "stream",
          "text": [
            "3725\n",
            "Scraping reviews for King Sue - Double Dry-Hopped...\n"
          ]
        },
        {
          "name": "stderr",
          "output_type": "stream",
          "text": [
            "\rProcessing:  63%|██████▎   | 157/250 [1:59:58<46:11, 29.80s/it]"
          ]
        },
        {
          "name": "stdout",
          "output_type": "stream",
          "text": [
            "3750\n",
            "Scraping reviews for Lou Pepe - Gueuze...\n"
          ]
        },
        {
          "name": "stderr",
          "output_type": "stream",
          "text": [
            "\rProcessing:  63%|██████▎   | 158/250 [2:00:50<55:37, 36.28s/it]"
          ]
        },
        {
          "name": "stdout",
          "output_type": "stream",
          "text": [
            "3775\n",
            "Scraping reviews for Society & Solitude #6...\n"
          ]
        },
        {
          "name": "stderr",
          "output_type": "stream",
          "text": [
            "\rProcessing:  64%|██████▎   | 159/250 [2:01:19<51:54, 34.22s/it]"
          ]
        },
        {
          "name": "stdout",
          "output_type": "stream",
          "text": [
            "3800\n",
            "Scraping reviews for Upper Case...\n"
          ]
        },
        {
          "name": "stderr",
          "output_type": "stream",
          "text": [
            "\rProcessing:  64%|██████▍   | 160/250 [2:02:10<58:55, 39.29s/it]"
          ]
        },
        {
          "name": "stdout",
          "output_type": "stream",
          "text": [
            "3825\n",
            "Scraping reviews for Smooth...\n"
          ]
        },
        {
          "name": "stderr",
          "output_type": "stream",
          "text": [
            "\rProcessing:  64%|██████▍   | 161/250 [2:02:58<1:02:01, 41.81s/it]"
          ]
        },
        {
          "name": "stdout",
          "output_type": "stream",
          "text": [
            "3850\n",
            "Scraping reviews for Montmorency Vs Balaton...\n"
          ]
        },
        {
          "name": "stderr",
          "output_type": "stream",
          "text": [
            "\rProcessing:  65%|██████▍   | 162/250 [2:03:24<54:25, 37.11s/it]  "
          ]
        },
        {
          "name": "stdout",
          "output_type": "stream",
          "text": [
            "3875\n",
            "Scraping reviews for Appervation...\n"
          ]
        },
        {
          "name": "stderr",
          "output_type": "stream",
          "text": [
            "\rProcessing:  65%|██████▌   | 163/250 [2:04:10<57:36, 39.73s/it]"
          ]
        },
        {
          "name": "stdout",
          "output_type": "stream",
          "text": [
            "3900\n",
            "Scraping reviews for Foggier Window...\n"
          ]
        },
        {
          "name": "stderr",
          "output_type": "stream",
          "text": [
            "\rProcessing:  66%|██████▌   | 164/250 [2:04:55<59:24, 41.45s/it]"
          ]
        },
        {
          "name": "stdout",
          "output_type": "stream",
          "text": [
            "3925\n",
            "Scraping reviews for Double Dry Hopped Mylar Bags...\n"
          ]
        },
        {
          "name": "stderr",
          "output_type": "stream",
          "text": [
            "\rProcessing:  66%|██████▌   | 165/250 [2:05:18<50:50, 35.89s/it]"
          ]
        },
        {
          "name": "stdout",
          "output_type": "stream",
          "text": [
            "3950\n",
            "Scraping reviews for Ground State...\n"
          ]
        },
        {
          "name": "stderr",
          "output_type": "stream",
          "text": [
            "\rProcessing:  66%|██████▋   | 166/250 [2:06:04<54:21, 38.83s/it]"
          ]
        },
        {
          "name": "stdout",
          "output_type": "stream",
          "text": [
            "3975\n",
            "Scraping reviews for Orviamo...\n"
          ]
        },
        {
          "name": "stderr",
          "output_type": "stream",
          "text": [
            "\rProcessing:  67%|██████▋   | 167/250 [2:09:44<2:08:53, 93.18s/it]"
          ]
        },
        {
          "name": "stdout",
          "output_type": "stream",
          "text": [
            "Reached 50 pages for Orviamo but did not find 25 non-empty reviews. Moving to the next beer.\n",
            "3994\n",
            "Scraping reviews for Canuckley...\n"
          ]
        },
        {
          "name": "stderr",
          "output_type": "stream",
          "text": [
            "\rProcessing:  67%|██████▋   | 168/250 [2:10:13<1:41:14, 74.08s/it]"
          ]
        },
        {
          "name": "stdout",
          "output_type": "stream",
          "text": [
            "4019\n",
            "Scraping reviews for Barrel-Aged Sump Coffee Stout...\n"
          ]
        },
        {
          "name": "stderr",
          "output_type": "stream",
          "text": [
            "\rProcessing:  68%|██████▊   | 169/250 [2:10:51<1:25:03, 63.00s/it]"
          ]
        },
        {
          "name": "stdout",
          "output_type": "stream",
          "text": [
            "4044\n",
            "Scraping reviews for Cutting Tiles - Galaxy...\n"
          ]
        },
        {
          "name": "stderr",
          "output_type": "stream",
          "text": [
            "\rProcessing:  68%|██████▊   | 170/250 [2:11:36<1:16:57, 57.72s/it]"
          ]
        },
        {
          "name": "stdout",
          "output_type": "stream",
          "text": [
            "4069\n",
            "Scraping reviews for Trappistes Rochefort 10...\n"
          ]
        },
        {
          "name": "stderr",
          "output_type": "stream",
          "text": [
            "\rProcessing:  68%|██████▊   | 171/250 [2:11:50<58:52, 44.71s/it]  "
          ]
        },
        {
          "name": "stdout",
          "output_type": "stream",
          "text": [
            "4094\n",
            "Scraping reviews for Impermanence...\n"
          ]
        },
        {
          "name": "stderr",
          "output_type": "stream",
          "text": [
            "\rProcessing:  69%|██████▉   | 172/250 [2:12:17<51:08, 39.33s/it]"
          ]
        },
        {
          "name": "stdout",
          "output_type": "stream",
          "text": [
            "4119\n",
            "Scraping reviews for BDCS...\n"
          ]
        },
        {
          "name": "stderr",
          "output_type": "stream",
          "text": [
            "\rProcessing:  69%|██████▉   | 173/250 [2:14:39<1:29:56, 70.08s/it]"
          ]
        },
        {
          "name": "stdout",
          "output_type": "stream",
          "text": [
            "4144\n",
            "Scraping reviews for Pseudo Sue...\n"
          ]
        },
        {
          "name": "stderr",
          "output_type": "stream",
          "text": [
            "\rProcessing:  70%|██████▉   | 174/250 [2:14:53<1:07:32, 53.32s/it]"
          ]
        },
        {
          "name": "stdout",
          "output_type": "stream",
          "text": [
            "4169\n",
            "Scraping reviews for Abrasive Ale...\n"
          ]
        },
        {
          "name": "stderr",
          "output_type": "stream",
          "text": [
            "\rProcessing:  70%|███████   | 175/250 [2:15:12<53:55, 43.13s/it]  "
          ]
        },
        {
          "name": "stdout",
          "output_type": "stream",
          "text": [
            "4194\n",
            "Scraping reviews for Midnight Still...\n"
          ]
        },
        {
          "name": "stderr",
          "output_type": "stream",
          "text": [
            "\rProcessing:  70%|███████   | 176/250 [2:16:27<1:04:51, 52.59s/it]"
          ]
        },
        {
          "name": "stdout",
          "output_type": "stream",
          "text": [
            "4219\n",
            "Scraping reviews for DFPF...\n"
          ]
        },
        {
          "name": "stderr",
          "output_type": "stream",
          "text": [
            "\rProcessing:  71%|███████   | 177/250 [2:17:24<1:05:24, 53.77s/it]"
          ]
        },
        {
          "name": "stdout",
          "output_type": "stream",
          "text": [
            "4244\n",
            "Scraping reviews for Affogato - Bourbon Barrel-Aged...\n"
          ]
        },
        {
          "name": "stderr",
          "output_type": "stream",
          "text": [
            "\rProcessing:  71%|███████   | 178/250 [2:18:01<58:39, 48.88s/it]  "
          ]
        },
        {
          "name": "stdout",
          "output_type": "stream",
          "text": [
            "4269\n",
            "Scraping reviews for Susan...\n"
          ]
        },
        {
          "name": "stderr",
          "output_type": "stream",
          "text": [
            "\rProcessing:  72%|███████▏  | 179/250 [2:18:29<50:32, 42.72s/it]"
          ]
        },
        {
          "name": "stdout",
          "output_type": "stream",
          "text": [
            "4294\n",
            "Scraping reviews for Speedway Stout - Vietnamese Coffee...\n"
          ]
        },
        {
          "name": "stderr",
          "output_type": "stream",
          "text": [
            "\rProcessing:  72%|███████▏  | 180/250 [2:18:59<45:08, 38.69s/it]"
          ]
        },
        {
          "name": "stdout",
          "output_type": "stream",
          "text": [
            "4319\n",
            "Scraping reviews for La Fosse...\n"
          ]
        },
        {
          "name": "stderr",
          "output_type": "stream",
          "text": [
            "\rProcessing:  72%|███████▏  | 181/250 [2:19:45<47:08, 40.99s/it]"
          ]
        },
        {
          "name": "stdout",
          "output_type": "stream",
          "text": [
            "4344\n",
            "Scraping reviews for Hunahpu's Imperial Stout - Bourbon Barrel-Aged...\n"
          ]
        },
        {
          "name": "stderr",
          "output_type": "stream",
          "text": [
            "\rProcessing:  73%|███████▎  | 182/250 [2:20:27<46:54, 41.39s/it]"
          ]
        },
        {
          "name": "stdout",
          "output_type": "stream",
          "text": [
            "4369\n",
            "Scraping reviews for Somewhere, Something Incredible Is Waiting To Be Known...\n"
          ]
        },
        {
          "name": "stderr",
          "output_type": "stream",
          "text": [
            "\rProcessing:  73%|███████▎  | 183/250 [2:21:02<43:58, 39.38s/it]"
          ]
        },
        {
          "name": "stdout",
          "output_type": "stream",
          "text": [
            "4394\n",
            "Scraping reviews for Double Dry Hopped Melcher Street...\n"
          ]
        },
        {
          "name": "stderr",
          "output_type": "stream",
          "text": [
            "\rProcessing:  74%|███████▎  | 184/250 [2:21:40<42:44, 38.85s/it]"
          ]
        },
        {
          "name": "stdout",
          "output_type": "stream",
          "text": [
            "4419\n",
            "Scraping reviews for Fort Point Pale Ale - Mosaic Dry Hopped...\n"
          ]
        },
        {
          "name": "stderr",
          "output_type": "stream",
          "text": [
            "\rProcessing:  74%|███████▍  | 185/250 [2:22:18<42:00, 38.78s/it]"
          ]
        },
        {
          "name": "stdout",
          "output_type": "stream",
          "text": [
            "4444\n",
            "Scraping reviews for Heavy Mettle...\n"
          ]
        },
        {
          "name": "stderr",
          "output_type": "stream",
          "text": [
            "\rProcessing:  74%|███████▍  | 186/250 [2:22:48<38:29, 36.09s/it]"
          ]
        },
        {
          "name": "stdout",
          "output_type": "stream",
          "text": [
            "4469\n",
            "Scraping reviews for Oude Geuze Golden Blend...\n"
          ]
        },
        {
          "name": "stderr",
          "output_type": "stream",
          "text": [
            "\rProcessing:  75%|███████▍  | 187/250 [2:23:10<33:28, 31.89s/it]"
          ]
        },
        {
          "name": "stdout",
          "output_type": "stream",
          "text": [
            "4494\n",
            "Scraping reviews for Hommage...\n"
          ]
        },
        {
          "name": "stderr",
          "output_type": "stream",
          "text": [
            "\rProcessing:  75%|███████▌  | 188/250 [2:23:34<30:18, 29.33s/it]"
          ]
        },
        {
          "name": "stdout",
          "output_type": "stream",
          "text": [
            "4519\n",
            "Scraping reviews for Saison Bernice...\n"
          ]
        },
        {
          "name": "stderr",
          "output_type": "stream",
          "text": [
            "\rProcessing:  76%|███████▌  | 189/250 [2:24:02<29:26, 28.95s/it]"
          ]
        },
        {
          "name": "stdout",
          "output_type": "stream",
          "text": [
            "4544\n",
            "Scraping reviews for KBS - Maple Mackinac Fudge...\n"
          ]
        },
        {
          "name": "stderr",
          "output_type": "stream",
          "text": [
            "\rProcessing:  76%|███████▌  | 190/250 [2:24:20<25:40, 25.68s/it]"
          ]
        },
        {
          "name": "stdout",
          "output_type": "stream",
          "text": [
            "4569\n",
            "Scraping reviews for Coconut B-Bomb...\n"
          ]
        },
        {
          "name": "stderr",
          "output_type": "stream",
          "text": [
            "\rProcessing:  76%|███████▋  | 191/250 [2:24:44<24:51, 25.28s/it]"
          ]
        },
        {
          "name": "stdout",
          "output_type": "stream",
          "text": [
            "4594\n",
            "Scraping reviews for The Greenest Green...\n"
          ]
        },
        {
          "name": "stderr",
          "output_type": "stream",
          "text": [
            "\rProcessing:  77%|███████▋  | 192/250 [2:25:16<26:27, 27.37s/it]"
          ]
        },
        {
          "name": "stdout",
          "output_type": "stream",
          "text": [
            "4619\n",
            "Scraping reviews for Double Barrel Jesus...\n"
          ]
        },
        {
          "name": "stderr",
          "output_type": "stream",
          "text": [
            "\rProcessing:  77%|███████▋  | 193/250 [2:25:55<29:12, 30.74s/it]"
          ]
        },
        {
          "name": "stdout",
          "output_type": "stream",
          "text": [
            "4644\n",
            "Scraping reviews for Clare's Thirsty Ale...\n"
          ]
        },
        {
          "name": "stderr",
          "output_type": "stream",
          "text": [
            "\rProcessing:  78%|███████▊  | 194/250 [2:26:28<29:18, 31.41s/it]"
          ]
        },
        {
          "name": "stdout",
          "output_type": "stream",
          "text": [
            "4669\n",
            "Scraping reviews for Oude Geuze Cuvée Armand & Gaston...\n"
          ]
        },
        {
          "name": "stderr",
          "output_type": "stream",
          "text": [
            "\rProcessing:  78%|███████▊  | 195/250 [2:26:46<25:12, 27.50s/it]"
          ]
        },
        {
          "name": "stdout",
          "output_type": "stream",
          "text": [
            "4694\n",
            "Scraping reviews for Imperial German Chocolate Cupcake Stout...\n"
          ]
        },
        {
          "name": "stderr",
          "output_type": "stream",
          "text": [
            "\rProcessing:  78%|███████▊  | 196/250 [2:27:33<29:54, 33.23s/it]"
          ]
        },
        {
          "name": "stdout",
          "output_type": "stream",
          "text": [
            "4719\n",
            "Scraping reviews for Double Stack...\n"
          ]
        },
        {
          "name": "stderr",
          "output_type": "stream",
          "text": [
            "\rProcessing:  79%|███████▉  | 197/250 [2:27:53<25:45, 29.17s/it]"
          ]
        },
        {
          "name": "stdout",
          "output_type": "stream",
          "text": [
            "4744\n",
            "Scraping reviews for Thicket...\n"
          ]
        },
        {
          "name": "stderr",
          "output_type": "stream",
          "text": [
            "\rProcessing:  79%|███████▉  | 198/250 [2:28:34<28:35, 32.98s/it]"
          ]
        },
        {
          "name": "stdout",
          "output_type": "stream",
          "text": [
            "4769\n",
            "Scraping reviews for Barrel-Aged Silhouette...\n"
          ]
        },
        {
          "name": "stderr",
          "output_type": "stream",
          "text": [
            "\rProcessing:  80%|███████▉  | 199/250 [2:28:53<24:19, 28.61s/it]"
          ]
        },
        {
          "name": "stdout",
          "output_type": "stream",
          "text": [
            "4794\n",
            "Scraping reviews for Bomb!...\n"
          ]
        },
        {
          "name": "stderr",
          "output_type": "stream",
          "text": [
            "\rProcessing:  80%|████████  | 200/250 [2:29:04<19:28, 23.36s/it]"
          ]
        },
        {
          "name": "stdout",
          "output_type": "stream",
          "text": [
            "4819\n",
            "Scraping reviews for Yellow Bus...\n"
          ]
        },
        {
          "name": "stderr",
          "output_type": "stream",
          "text": [
            "\rProcessing:  80%|████████  | 201/250 [2:29:35<21:04, 25.80s/it]"
          ]
        },
        {
          "name": "stdout",
          "output_type": "stream",
          "text": [
            "4844\n",
            "Scraping reviews for Consecration...\n"
          ]
        },
        {
          "name": "stderr",
          "output_type": "stream",
          "text": [
            "\rProcessing:  81%|████████  | 202/250 [2:30:04<21:10, 26.47s/it]"
          ]
        },
        {
          "name": "stdout",
          "output_type": "stream",
          "text": [
            "4869\n",
            "Scraping reviews for Permanent Funeral...\n"
          ]
        },
        {
          "name": "stderr",
          "output_type": "stream",
          "text": [
            "\rProcessing:  81%|████████  | 203/250 [2:30:22<18:45, 23.94s/it]"
          ]
        },
        {
          "name": "stdout",
          "output_type": "stream",
          "text": [
            "4894\n",
            "Scraping reviews for Everett...\n"
          ]
        },
        {
          "name": "stderr",
          "output_type": "stream",
          "text": [
            "\rProcessing:  82%|████████▏ | 204/250 [2:30:48<18:59, 24.76s/it]"
          ]
        },
        {
          "name": "stdout",
          "output_type": "stream",
          "text": [
            "4919\n",
            "Scraping reviews for Triple Citra Daydream...\n"
          ]
        },
        {
          "name": "stderr",
          "output_type": "stream",
          "text": [
            "\rProcessing:  82%|████████▏ | 205/250 [2:31:14<18:47, 25.06s/it]"
          ]
        },
        {
          "name": "stdout",
          "output_type": "stream",
          "text": [
            "4944\n",
            "Scraping reviews for Congress Street IPA...\n"
          ]
        },
        {
          "name": "stderr",
          "output_type": "stream",
          "text": [
            "\rProcessing:  82%|████████▏ | 206/250 [2:31:50<20:43, 28.25s/it]"
          ]
        },
        {
          "name": "stdout",
          "output_type": "stream",
          "text": [
            "4969\n",
            "Scraping reviews for Affogato...\n"
          ]
        },
        {
          "name": "stderr",
          "output_type": "stream",
          "text": [
            "\rProcessing:  83%|████████▎ | 207/250 [2:33:07<30:51, 43.06s/it]"
          ]
        },
        {
          "name": "stdout",
          "output_type": "stream",
          "text": [
            "4994\n",
            "Scraping reviews for Mocha Wednesday...\n"
          ]
        },
        {
          "name": "stderr",
          "output_type": "stream",
          "text": [
            "\rProcessing:  83%|████████▎ | 208/250 [2:33:53<30:35, 43.71s/it]"
          ]
        },
        {
          "name": "stdout",
          "output_type": "stream",
          "text": [
            "5019\n",
            "Scraping reviews for Space Trace...\n"
          ]
        },
        {
          "name": "stderr",
          "output_type": "stream",
          "text": [
            "\rProcessing:  84%|████████▎ | 209/250 [2:34:42<31:04, 45.49s/it]"
          ]
        },
        {
          "name": "stdout",
          "output_type": "stream",
          "text": [
            "5044\n",
            "Scraping reviews for No Rules...\n"
          ]
        },
        {
          "name": "stderr",
          "output_type": "stream",
          "text": [
            "\rProcessing:  84%|████████▍ | 210/250 [2:35:10<26:43, 40.08s/it]"
          ]
        },
        {
          "name": "stdout",
          "output_type": "stream",
          "text": [
            "5069\n",
            "Scraping reviews for Peche Du Fermier...\n"
          ]
        },
        {
          "name": "stderr",
          "output_type": "stream",
          "text": [
            "\rProcessing:  84%|████████▍ | 211/250 [2:36:01<28:10, 43.35s/it]"
          ]
        },
        {
          "name": "stdout",
          "output_type": "stream",
          "text": [
            "5094\n",
            "Scraping reviews for CitraQuench'l...\n"
          ]
        },
        {
          "name": "stderr",
          "output_type": "stream",
          "text": [
            "\rProcessing:  85%|████████▍ | 212/250 [2:36:21<23:06, 36.48s/it]"
          ]
        },
        {
          "name": "stdout",
          "output_type": "stream",
          "text": [
            "5119\n",
            "Scraping reviews for Insert Hip Hop Reference There...\n"
          ]
        },
        {
          "name": "stderr",
          "output_type": "stream",
          "text": [
            "\rProcessing:  85%|████████▌ | 213/250 [2:36:57<22:27, 36.41s/it]"
          ]
        },
        {
          "name": "stdout",
          "output_type": "stream",
          "text": [
            "5144\n",
            "Scraping reviews for Reaction State...\n"
          ]
        },
        {
          "name": "stderr",
          "output_type": "stream",
          "text": [
            "\rProcessing:  86%|████████▌ | 214/250 [2:37:30<21:07, 35.21s/it]"
          ]
        },
        {
          "name": "stdout",
          "output_type": "stream",
          "text": [
            "5169\n",
            "Scraping reviews for Damon (Bourbon Barrel Aged)...\n"
          ]
        },
        {
          "name": "stderr",
          "output_type": "stream",
          "text": [
            "\rProcessing:  86%|████████▌ | 215/250 [2:37:54<18:39, 31.99s/it]"
          ]
        },
        {
          "name": "stdout",
          "output_type": "stream",
          "text": [
            "5194\n",
            "Scraping reviews for Starry Noche...\n"
          ]
        },
        {
          "name": "stderr",
          "output_type": "stream",
          "text": [
            "\rProcessing:  86%|████████▋ | 216/250 [2:38:14<16:03, 28.33s/it]"
          ]
        },
        {
          "name": "stdout",
          "output_type": "stream",
          "text": [
            "5219\n",
            "Scraping reviews for Bourbon County Double Barrel Toasted Barrel Stout...\n"
          ]
        },
        {
          "name": "stderr",
          "output_type": "stream",
          "text": [
            "\rProcessing:  87%|████████▋ | 217/250 [2:38:40<15:09, 27.55s/it]"
          ]
        },
        {
          "name": "stdout",
          "output_type": "stream",
          "text": [
            "5244\n",
            "Scraping reviews for Old Stock Cellar Reserve (Aged In Brandy Barrels)...\n"
          ]
        },
        {
          "name": "stderr",
          "output_type": "stream",
          "text": [
            "\rProcessing:  87%|████████▋ | 218/250 [2:39:03<13:58, 26.21s/it]"
          ]
        },
        {
          "name": "stdout",
          "output_type": "stream",
          "text": [
            "5269\n",
            "Scraping reviews for Foggy Window...\n"
          ]
        },
        {
          "name": "stderr",
          "output_type": "stream",
          "text": [
            "\rProcessing:  88%|████████▊ | 219/250 [2:39:38<14:54, 28.84s/it]"
          ]
        },
        {
          "name": "stdout",
          "output_type": "stream",
          "text": [
            "5294\n",
            "Scraping reviews for Double Dry Hopped All Citra Everything...\n"
          ]
        },
        {
          "name": "stderr",
          "output_type": "stream",
          "text": [
            "\rProcessing:  88%|████████▊ | 220/250 [2:39:53<12:23, 24.78s/it]"
          ]
        },
        {
          "name": "stdout",
          "output_type": "stream",
          "text": [
            "5319\n",
            "Scraping reviews for Truth - Vanilla Bean...\n"
          ]
        },
        {
          "name": "stderr",
          "output_type": "stream",
          "text": [
            "\rProcessing:  88%|████████▊ | 221/250 [2:43:20<38:24, 79.46s/it]"
          ]
        },
        {
          "name": "stdout",
          "output_type": "stream",
          "text": [
            "Reached 50 pages for Truth - Vanilla Bean but did not find 25 non-empty reviews. Moving to the next beer.\n",
            "5331\n",
            "Scraping reviews for Jammy...\n"
          ]
        },
        {
          "name": "stderr",
          "output_type": "stream",
          "text": [
            "\rProcessing:  89%|████████▉ | 222/250 [2:47:11<58:19, 125.00s/it]"
          ]
        },
        {
          "name": "stdout",
          "output_type": "stream",
          "text": [
            "Reached 50 pages for Jammy but did not find 25 non-empty reviews. Moving to the next beer.\n",
            "5350\n",
            "Scraping reviews for Bad Boy...\n"
          ]
        },
        {
          "name": "stderr",
          "output_type": "stream",
          "text": [
            "\rProcessing:  89%|████████▉ | 223/250 [2:47:52<44:49, 99.61s/it] "
          ]
        },
        {
          "name": "stdout",
          "output_type": "stream",
          "text": [
            "5375\n",
            "Scraping reviews for Hold On To Sunshine...\n"
          ]
        },
        {
          "name": "stderr",
          "output_type": "stream",
          "text": [
            "\rProcessing:  90%|████████▉ | 224/250 [2:48:15<33:11, 76.62s/it]"
          ]
        },
        {
          "name": "stdout",
          "output_type": "stream",
          "text": [
            "5400\n",
            "Scraping reviews for Barrel-Aged Malevolence Chocolate Caliente...\n"
          ]
        },
        {
          "name": "stderr",
          "output_type": "stream",
          "text": [
            "\rProcessing:  90%|█████████ | 225/250 [2:51:58<50:13, 120.53s/it]"
          ]
        },
        {
          "name": "stdout",
          "output_type": "stream",
          "text": [
            "Reached 50 pages for Barrel-Aged Malevolence Chocolate Caliente but did not find 25 non-empty reviews. Moving to the next beer.\n",
            "5421\n",
            "Scraping reviews for PNC Imperial Buckwheat Stout...\n"
          ]
        },
        {
          "name": "stderr",
          "output_type": "stream",
          "text": [
            "\rProcessing:  90%|█████████ | 226/250 [2:52:25<37:00, 92.53s/it] "
          ]
        },
        {
          "name": "stdout",
          "output_type": "stream",
          "text": [
            "5446\n",
            "Scraping reviews for Darkness...\n"
          ]
        },
        {
          "name": "stderr",
          "output_type": "stream",
          "text": [
            "\rProcessing:  91%|█████████ | 227/250 [2:52:41<26:38, 69.50s/it]"
          ]
        },
        {
          "name": "stdout",
          "output_type": "stream",
          "text": [
            "5471\n",
            "Scraping reviews for Leche Borracho...\n"
          ]
        },
        {
          "name": "stderr",
          "output_type": "stream",
          "text": [
            "\rProcessing:  91%|█████████ | 228/250 [2:53:21<22:17, 60.81s/it]"
          ]
        },
        {
          "name": "stdout",
          "output_type": "stream",
          "text": [
            "5496\n",
            "Scraping reviews for Crusher...\n"
          ]
        },
        {
          "name": "stderr",
          "output_type": "stream",
          "text": [
            "\rProcessing:  92%|█████████▏| 229/250 [2:53:50<17:53, 51.12s/it]"
          ]
        },
        {
          "name": "stdout",
          "output_type": "stream",
          "text": [
            "5521\n",
            "Scraping reviews for Sosus...\n"
          ]
        },
        {
          "name": "stderr",
          "output_type": "stream",
          "text": [
            "\rProcessing:  92%|█████████▏| 230/250 [2:54:18<14:46, 44.33s/it]"
          ]
        },
        {
          "name": "stdout",
          "output_type": "stream",
          "text": [
            "5546\n",
            "Scraping reviews for Apple Brandy Barrel Noir...\n"
          ]
        },
        {
          "name": "stderr",
          "output_type": "stream",
          "text": [
            "\rProcessing:  92%|█████████▏| 231/250 [2:54:49<12:43, 40.21s/it]"
          ]
        },
        {
          "name": "stdout",
          "output_type": "stream",
          "text": [
            "5571\n",
            "Scraping reviews for Popinski - Bourbon Barrel-Aged - Peanut Butter And Marshmallow...\n"
          ]
        },
        {
          "name": "stderr",
          "output_type": "stream",
          "text": [
            "\rProcessing:  93%|█████████▎| 232/250 [2:58:30<28:18, 94.39s/it]"
          ]
        },
        {
          "name": "stdout",
          "output_type": "stream",
          "text": [
            "Reached 50 pages for Popinski - Bourbon Barrel-Aged - Peanut Butter And Marshmallow but did not find 25 non-empty reviews. Moving to the next beer.\n",
            "5580\n",
            "Scraping reviews for Barrel Aged Bomb!...\n"
          ]
        },
        {
          "name": "stderr",
          "output_type": "stream",
          "text": [
            "\rProcessing:  93%|█████████▎| 233/250 [2:59:13<22:25, 79.13s/it]"
          ]
        },
        {
          "name": "stdout",
          "output_type": "stream",
          "text": [
            "5605\n",
            "Scraping reviews for Barrel Aged Christmas Bomb!...\n"
          ]
        },
        {
          "name": "stderr",
          "output_type": "stream",
          "text": [
            "\rProcessing:  94%|█████████▎| 234/250 [3:00:15<19:41, 73.86s/it]"
          ]
        },
        {
          "name": "stdout",
          "output_type": "stream",
          "text": [
            "5630\n",
            "Scraping reviews for Black Tuesday - Rum Barrel-Aged...\n"
          ]
        },
        {
          "name": "stderr",
          "output_type": "stream",
          "text": [
            "\rProcessing:  94%|█████████▍| 235/250 [3:00:44<15:09, 60.65s/it]"
          ]
        },
        {
          "name": "stdout",
          "output_type": "stream",
          "text": [
            "5655\n",
            "Scraping reviews for Blanc De Blancs...\n"
          ]
        },
        {
          "name": "stderr",
          "output_type": "stream",
          "text": [
            "\rProcessing:  94%|█████████▍| 236/250 [3:01:30<13:07, 56.21s/it]"
          ]
        },
        {
          "name": "stdout",
          "output_type": "stream",
          "text": [
            "5680\n",
            "Scraping reviews for Miles To Go Before I Sleep...\n"
          ]
        },
        {
          "name": "stderr",
          "output_type": "stream",
          "text": [
            "\rProcessing:  95%|█████████▍| 237/250 [3:01:55<10:06, 46.67s/it]"
          ]
        },
        {
          "name": "stdout",
          "output_type": "stream",
          "text": [
            "5705\n",
            "Scraping reviews for Aurelian Lure...\n"
          ]
        },
        {
          "name": "stderr",
          "output_type": "stream",
          "text": [
            "\rProcessing:  95%|█████████▌| 238/250 [3:02:45<09:31, 47.59s/it]"
          ]
        },
        {
          "name": "stdout",
          "output_type": "stream",
          "text": [
            "5730\n",
            "Scraping reviews for Juicy...\n"
          ]
        },
        {
          "name": "stderr",
          "output_type": "stream",
          "text": [
            "\rProcessing:  96%|█████████▌| 239/250 [3:03:17<07:53, 43.02s/it]"
          ]
        },
        {
          "name": "stdout",
          "output_type": "stream",
          "text": [
            "5755\n",
            "Scraping reviews for Henna: Barrel-Aged Double Rainbow...\n"
          ]
        },
        {
          "name": "stderr",
          "output_type": "stream",
          "text": [
            "\rProcessing:  96%|█████████▌| 240/250 [3:06:53<15:48, 94.89s/it]"
          ]
        },
        {
          "name": "stdout",
          "output_type": "stream",
          "text": [
            "Reached 50 pages for Henna: Barrel-Aged Double Rainbow but did not find 25 non-empty reviews. Moving to the next beer.\n",
            "5769\n",
            "Scraping reviews for Darkstar November...\n"
          ]
        },
        {
          "name": "stderr",
          "output_type": "stream",
          "text": [
            "\rProcessing:  96%|█████████▋| 241/250 [3:07:22<11:16, 75.17s/it]"
          ]
        },
        {
          "name": "stdout",
          "output_type": "stream",
          "text": [
            "5794\n",
            "Scraping reviews for Bourbon Barrel Oro Negro...\n"
          ]
        },
        {
          "name": "stderr",
          "output_type": "stream",
          "text": [
            "\rProcessing:  97%|█████████▋| 242/250 [3:07:43<07:51, 58.88s/it]"
          ]
        },
        {
          "name": "stdout",
          "output_type": "stream",
          "text": [
            "5819\n",
            "Scraping reviews for Cellarman Barrel Aged Saison...\n"
          ]
        },
        {
          "name": "stderr",
          "output_type": "stream",
          "text": [
            "\rProcessing:  97%|█████████▋| 243/250 [3:08:23<06:12, 53.23s/it]"
          ]
        },
        {
          "name": "stdout",
          "output_type": "stream",
          "text": [
            "5844\n",
            "Scraping reviews for Abt 12...\n"
          ]
        },
        {
          "name": "stderr",
          "output_type": "stream",
          "text": [
            "\rProcessing:  98%|█████████▊| 244/250 [3:08:36<04:07, 41.20s/it]"
          ]
        },
        {
          "name": "stdout",
          "output_type": "stream",
          "text": [
            "5869\n",
            "Scraping reviews for The Abyss...\n"
          ]
        },
        {
          "name": "stderr",
          "output_type": "stream",
          "text": [
            "\rProcessing:  98%|█████████▊| 245/250 [3:08:56<02:53, 34.75s/it]"
          ]
        },
        {
          "name": "stdout",
          "output_type": "stream",
          "text": [
            "5894\n",
            "Scraping reviews for All That Is And All That Ever Will Be...\n"
          ]
        },
        {
          "name": "stderr",
          "output_type": "stream",
          "text": [
            "\rProcessing:  98%|█████████▊| 246/250 [3:09:26<02:13, 33.37s/it]"
          ]
        },
        {
          "name": "stdout",
          "output_type": "stream",
          "text": [
            "5919\n",
            "Scraping reviews for Abraxas...\n"
          ]
        },
        {
          "name": "stderr",
          "output_type": "stream",
          "text": [
            "\rProcessing:  99%|█████████▉| 247/250 [3:09:39<01:21, 27.17s/it]"
          ]
        },
        {
          "name": "stdout",
          "output_type": "stream",
          "text": [
            "5944\n",
            "Scraping reviews for Stickee Monkee...\n"
          ]
        },
        {
          "name": "stderr",
          "output_type": "stream",
          "text": [
            "\rProcessing:  99%|█████████▉| 248/250 [3:09:57<00:48, 24.42s/it]"
          ]
        },
        {
          "name": "stdout",
          "output_type": "stream",
          "text": [
            "5969\n",
            "Scraping reviews for Samuel Adams Utopias...\n"
          ]
        },
        {
          "name": "stderr",
          "output_type": "stream",
          "text": [
            "Processing: 100%|█████████▉| 249/250 [3:10:21<00:45, 45.87s/it]"
          ]
        },
        {
          "name": "stdout",
          "output_type": "stream",
          "text": [
            "5994\n"
          ]
        },
        {
          "name": "stderr",
          "output_type": "stream",
          "text": [
            "\n"
          ]
        },
        {
          "name": "stdout",
          "output_type": "stream",
          "text": [
            "WebDriver closed...\n",
            "Results saved to beer_reviews.csv\n"
          ]
        }
      ],
      "source": [
        "import csv\n",
        "# Main function to execute the scraping and data saving\n",
        "def main():\n",
        "    login_to_beer_advocate()\n",
        "    # Get the list of desired beers to scrape\n",
        "    desired_beers = beer_list_to_scrape\n",
        "    # Scrape reviews for the desired beers\n",
        "    scraped_reviews = scrape_reviews_for_beers(beer_list_to_scrape)\n",
        "    driver.quit()\n",
        "    print(\"WebDriver closed...\")\n",
        "    # Save the scraped data to a CSV file\n",
        "    with open('beer_reviews.csv', 'w', newline='') as file:\n",
        "            writer = csv.DictWriter(file, fieldnames=[\"Beer\", \"Username\", \"Location\", \"Rating\", \"Review\", \"Date\"])\n",
        "            writer.writeheader()\n",
        "            writer.writerows(scraped_reviews)\n",
        "            print(\"Results saved to beer_reviews.csv\")\n",
        "\n",
        "# Entry point of the script\n",
        "if __name__ == '__main__':\n",
        "    main()"
      ]
    },
    {
      "cell_type": "markdown",
      "metadata": {
        "id": "kdLOmWrQvUcJ"
      },
      "source": [
        "##**Task B.**\n",
        "Assume that a customer, who will be using this recommender system, has specified 3 attributes in a product. E.g., one website describes multiple attributes of beer (but you should choose attributes from the actual data)\n",
        "\n",
        "https://www.dummies.com/food-drink/drinks/beer/beer-for-dummies-cheat-sheet/\n",
        "\n",
        "* **Aggressive** (Boldly assertive aroma and/or taste)\n",
        "* **Balanced:** Malt and hops in similar proportions; equal representation of malt sweetness and hop bitterness in the flavor — especially at the finish\n",
        "* **Complex:** Multidimensional; many flavors and sensations on the palate\n",
        "* **Crisp:** Highly carbonated; effervescent\n",
        "* **Fruity:** Flavors reminiscent of various fruits or Hoppy: Herbal, earthy, spicy, or citric aromas and flavors of hops or Malty: Grainy, caramel-like; can be sweet or dry\n",
        "* **Robust:** Rich and full-bodied\n",
        "\n",
        "Use the above attributes as examples only, for a word frequency analysis of beer reviews is a better way to find important attributes in the actual data.\n",
        "\n",
        "**Assume that a customer has specified 3 attributes of the product as being important to him or her.**"
      ]
    },
    {
      "cell_type": "code",
      "execution_count": null,
      "metadata": {
        "colab": {
          "base_uri": "https://localhost:8080/",
          "height": 73
        },
        "id": "d9pdOI3fwh9H",
        "outputId": "d953a6bc-3686-45d8-82e5-0ef823ee0f4f"
      },
      "outputs": [
        {
          "data": {
            "text/html": [
              "\n",
              "     <input type=\"file\" id=\"files-11f7461b-9f70-4860-b2b4-8c25044a0fb8\" name=\"files[]\" multiple disabled\n",
              "        style=\"border:none\" />\n",
              "     <output id=\"result-11f7461b-9f70-4860-b2b4-8c25044a0fb8\">\n",
              "      Upload widget is only available when the cell has been executed in the\n",
              "      current browser session. Please rerun this cell to enable.\n",
              "      </output>\n",
              "      <script>// Copyright 2017 Google LLC\n",
              "//\n",
              "// Licensed under the Apache License, Version 2.0 (the \"License\");\n",
              "// you may not use this file except in compliance with the License.\n",
              "// You may obtain a copy of the License at\n",
              "//\n",
              "//      http://www.apache.org/licenses/LICENSE-2.0\n",
              "//\n",
              "// Unless required by applicable law or agreed to in writing, software\n",
              "// distributed under the License is distributed on an \"AS IS\" BASIS,\n",
              "// WITHOUT WARRANTIES OR CONDITIONS OF ANY KIND, either express or implied.\n",
              "// See the License for the specific language governing permissions and\n",
              "// limitations under the License.\n",
              "\n",
              "/**\n",
              " * @fileoverview Helpers for google.colab Python module.\n",
              " */\n",
              "(function(scope) {\n",
              "function span(text, styleAttributes = {}) {\n",
              "  const element = document.createElement('span');\n",
              "  element.textContent = text;\n",
              "  for (const key of Object.keys(styleAttributes)) {\n",
              "    element.style[key] = styleAttributes[key];\n",
              "  }\n",
              "  return element;\n",
              "}\n",
              "\n",
              "// Max number of bytes which will be uploaded at a time.\n",
              "const MAX_PAYLOAD_SIZE = 100 * 1024;\n",
              "\n",
              "function _uploadFiles(inputId, outputId) {\n",
              "  const steps = uploadFilesStep(inputId, outputId);\n",
              "  const outputElement = document.getElementById(outputId);\n",
              "  // Cache steps on the outputElement to make it available for the next call\n",
              "  // to uploadFilesContinue from Python.\n",
              "  outputElement.steps = steps;\n",
              "\n",
              "  return _uploadFilesContinue(outputId);\n",
              "}\n",
              "\n",
              "// This is roughly an async generator (not supported in the browser yet),\n",
              "// where there are multiple asynchronous steps and the Python side is going\n",
              "// to poll for completion of each step.\n",
              "// This uses a Promise to block the python side on completion of each step,\n",
              "// then passes the result of the previous step as the input to the next step.\n",
              "function _uploadFilesContinue(outputId) {\n",
              "  const outputElement = document.getElementById(outputId);\n",
              "  const steps = outputElement.steps;\n",
              "\n",
              "  const next = steps.next(outputElement.lastPromiseValue);\n",
              "  return Promise.resolve(next.value.promise).then((value) => {\n",
              "    // Cache the last promise value to make it available to the next\n",
              "    // step of the generator.\n",
              "    outputElement.lastPromiseValue = value;\n",
              "    return next.value.response;\n",
              "  });\n",
              "}\n",
              "\n",
              "/**\n",
              " * Generator function which is called between each async step of the upload\n",
              " * process.\n",
              " * @param {string} inputId Element ID of the input file picker element.\n",
              " * @param {string} outputId Element ID of the output display.\n",
              " * @return {!Iterable<!Object>} Iterable of next steps.\n",
              " */\n",
              "function* uploadFilesStep(inputId, outputId) {\n",
              "  const inputElement = document.getElementById(inputId);\n",
              "  inputElement.disabled = false;\n",
              "\n",
              "  const outputElement = document.getElementById(outputId);\n",
              "  outputElement.innerHTML = '';\n",
              "\n",
              "  const pickedPromise = new Promise((resolve) => {\n",
              "    inputElement.addEventListener('change', (e) => {\n",
              "      resolve(e.target.files);\n",
              "    });\n",
              "  });\n",
              "\n",
              "  const cancel = document.createElement('button');\n",
              "  inputElement.parentElement.appendChild(cancel);\n",
              "  cancel.textContent = 'Cancel upload';\n",
              "  const cancelPromise = new Promise((resolve) => {\n",
              "    cancel.onclick = () => {\n",
              "      resolve(null);\n",
              "    };\n",
              "  });\n",
              "\n",
              "  // Wait for the user to pick the files.\n",
              "  const files = yield {\n",
              "    promise: Promise.race([pickedPromise, cancelPromise]),\n",
              "    response: {\n",
              "      action: 'starting',\n",
              "    }\n",
              "  };\n",
              "\n",
              "  cancel.remove();\n",
              "\n",
              "  // Disable the input element since further picks are not allowed.\n",
              "  inputElement.disabled = true;\n",
              "\n",
              "  if (!files) {\n",
              "    return {\n",
              "      response: {\n",
              "        action: 'complete',\n",
              "      }\n",
              "    };\n",
              "  }\n",
              "\n",
              "  for (const file of files) {\n",
              "    const li = document.createElement('li');\n",
              "    li.append(span(file.name, {fontWeight: 'bold'}));\n",
              "    li.append(span(\n",
              "        `(${file.type || 'n/a'}) - ${file.size} bytes, ` +\n",
              "        `last modified: ${\n",
              "            file.lastModifiedDate ? file.lastModifiedDate.toLocaleDateString() :\n",
              "                                    'n/a'} - `));\n",
              "    const percent = span('0% done');\n",
              "    li.appendChild(percent);\n",
              "\n",
              "    outputElement.appendChild(li);\n",
              "\n",
              "    const fileDataPromise = new Promise((resolve) => {\n",
              "      const reader = new FileReader();\n",
              "      reader.onload = (e) => {\n",
              "        resolve(e.target.result);\n",
              "      };\n",
              "      reader.readAsArrayBuffer(file);\n",
              "    });\n",
              "    // Wait for the data to be ready.\n",
              "    let fileData = yield {\n",
              "      promise: fileDataPromise,\n",
              "      response: {\n",
              "        action: 'continue',\n",
              "      }\n",
              "    };\n",
              "\n",
              "    // Use a chunked sending to avoid message size limits. See b/62115660.\n",
              "    let position = 0;\n",
              "    do {\n",
              "      const length = Math.min(fileData.byteLength - position, MAX_PAYLOAD_SIZE);\n",
              "      const chunk = new Uint8Array(fileData, position, length);\n",
              "      position += length;\n",
              "\n",
              "      const base64 = btoa(String.fromCharCode.apply(null, chunk));\n",
              "      yield {\n",
              "        response: {\n",
              "          action: 'append',\n",
              "          file: file.name,\n",
              "          data: base64,\n",
              "        },\n",
              "      };\n",
              "\n",
              "      let percentDone = fileData.byteLength === 0 ?\n",
              "          100 :\n",
              "          Math.round((position / fileData.byteLength) * 100);\n",
              "      percent.textContent = `${percentDone}% done`;\n",
              "\n",
              "    } while (position < fileData.byteLength);\n",
              "  }\n",
              "\n",
              "  // All done.\n",
              "  yield {\n",
              "    response: {\n",
              "      action: 'complete',\n",
              "    }\n",
              "  };\n",
              "}\n",
              "\n",
              "scope.google = scope.google || {};\n",
              "scope.google.colab = scope.google.colab || {};\n",
              "scope.google.colab._files = {\n",
              "  _uploadFiles,\n",
              "  _uploadFilesContinue,\n",
              "};\n",
              "})(self);\n",
              "</script> "
            ],
            "text/plain": [
              "<IPython.core.display.HTML object>"
            ]
          },
          "metadata": {},
          "output_type": "display_data"
        },
        {
          "name": "stdout",
          "output_type": "stream",
          "text": [
            "Saving beer_reviews (2).csv to beer_reviews (2).csv\n"
          ]
        }
      ],
      "source": [
        "# Uploading the scrapped reviews saved in CSV, to avoid re-running the spraper\n",
        "from google.colab import files\n",
        "uploaded = files.upload()"
      ]
    },
    {
      "cell_type": "code",
      "execution_count": null,
      "metadata": {
        "colab": {
          "base_uri": "https://localhost:8080/",
          "height": 493
        },
        "id": "r1KOaoYbxNY9",
        "outputId": "413610cd-5f6c-4f3f-afb8-2394d09efcdb"
      },
      "outputs": [
        {
          "name": "stderr",
          "output_type": "stream",
          "text": [
            "[nltk_data] Downloading package stopwords to /root/nltk_data...\n",
            "[nltk_data]   Package stopwords is already up-to-date!\n",
            "[nltk_data] Downloading package punkt to /root/nltk_data...\n",
            "[nltk_data]   Package punkt is already up-to-date!\n"
          ]
        },
        {
          "data": {
            "text/html": [
              "\n",
              "  <div id=\"df-1cf29736-9c02-42b5-9f92-8396de56ee07\" class=\"colab-df-container\">\n",
              "    <div>\n",
              "<style scoped>\n",
              "    .dataframe tbody tr th:only-of-type {\n",
              "        vertical-align: middle;\n",
              "    }\n",
              "\n",
              "    .dataframe tbody tr th {\n",
              "        vertical-align: top;\n",
              "    }\n",
              "\n",
              "    .dataframe thead th {\n",
              "        text-align: right;\n",
              "    }\n",
              "</style>\n",
              "<table border=\"1\" class=\"dataframe\">\n",
              "  <thead>\n",
              "    <tr style=\"text-align: right;\">\n",
              "      <th></th>\n",
              "      <th>Word</th>\n",
              "      <th>Frequency</th>\n",
              "    </tr>\n",
              "  </thead>\n",
              "  <tbody>\n",
              "    <tr>\n",
              "      <th>5</th>\n",
              "      <td>beer</td>\n",
              "      <td>4075</td>\n",
              "    </tr>\n",
              "    <tr>\n",
              "      <th>22</th>\n",
              "      <td>head</td>\n",
              "      <td>3133</td>\n",
              "    </tr>\n",
              "    <tr>\n",
              "      <th>31</th>\n",
              "      <td>taste</td>\n",
              "      <td>2646</td>\n",
              "    </tr>\n",
              "    <tr>\n",
              "      <th>28</th>\n",
              "      <td>chocolate</td>\n",
              "      <td>2418</td>\n",
              "    </tr>\n",
              "    <tr>\n",
              "      <th>20</th>\n",
              "      <td>dark</td>\n",
              "      <td>2151</td>\n",
              "    </tr>\n",
              "    <tr>\n",
              "      <th>...</th>\n",
              "      <td>...</td>\n",
              "      <td>...</td>\n",
              "    </tr>\n",
              "    <tr>\n",
              "      <th>9842</th>\n",
              "      <td>substandard</td>\n",
              "      <td>1</td>\n",
              "    </tr>\n",
              "    <tr>\n",
              "      <th>9841</th>\n",
              "      <td>surprisngly</td>\n",
              "      <td>1</td>\n",
              "    </tr>\n",
              "    <tr>\n",
              "      <th>9840</th>\n",
              "      <td>recess</td>\n",
              "      <td>1</td>\n",
              "    </tr>\n",
              "    <tr>\n",
              "      <th>4564</th>\n",
              "      <td>guatemala</td>\n",
              "      <td>1</td>\n",
              "    </tr>\n",
              "    <tr>\n",
              "      <th>14533</th>\n",
              "      <td>doused</td>\n",
              "      <td>1</td>\n",
              "    </tr>\n",
              "  </tbody>\n",
              "</table>\n",
              "<p>14534 rows × 2 columns</p>\n",
              "</div>\n",
              "    <div class=\"colab-df-buttons\">\n",
              "\n",
              "  <div class=\"colab-df-container\">\n",
              "    <button class=\"colab-df-convert\" onclick=\"convertToInteractive('df-1cf29736-9c02-42b5-9f92-8396de56ee07')\"\n",
              "            title=\"Convert this dataframe to an interactive table.\"\n",
              "            style=\"display:none;\">\n",
              "\n",
              "  <svg xmlns=\"http://www.w3.org/2000/svg\" height=\"24px\" viewBox=\"0 -960 960 960\">\n",
              "    <path d=\"M120-120v-720h720v720H120Zm60-500h600v-160H180v160Zm220 220h160v-160H400v160Zm0 220h160v-160H400v160ZM180-400h160v-160H180v160Zm440 0h160v-160H620v160ZM180-180h160v-160H180v160Zm440 0h160v-160H620v160Z\"/>\n",
              "  </svg>\n",
              "    </button>\n",
              "\n",
              "  <style>\n",
              "    .colab-df-container {\n",
              "      display:flex;\n",
              "      gap: 12px;\n",
              "    }\n",
              "\n",
              "    .colab-df-convert {\n",
              "      background-color: #E8F0FE;\n",
              "      border: none;\n",
              "      border-radius: 50%;\n",
              "      cursor: pointer;\n",
              "      display: none;\n",
              "      fill: #1967D2;\n",
              "      height: 32px;\n",
              "      padding: 0 0 0 0;\n",
              "      width: 32px;\n",
              "    }\n",
              "\n",
              "    .colab-df-convert:hover {\n",
              "      background-color: #E2EBFA;\n",
              "      box-shadow: 0px 1px 2px rgba(60, 64, 67, 0.3), 0px 1px 3px 1px rgba(60, 64, 67, 0.15);\n",
              "      fill: #174EA6;\n",
              "    }\n",
              "\n",
              "    .colab-df-buttons div {\n",
              "      margin-bottom: 4px;\n",
              "    }\n",
              "\n",
              "    [theme=dark] .colab-df-convert {\n",
              "      background-color: #3B4455;\n",
              "      fill: #D2E3FC;\n",
              "    }\n",
              "\n",
              "    [theme=dark] .colab-df-convert:hover {\n",
              "      background-color: #434B5C;\n",
              "      box-shadow: 0px 1px 3px 1px rgba(0, 0, 0, 0.15);\n",
              "      filter: drop-shadow(0px 1px 2px rgba(0, 0, 0, 0.3));\n",
              "      fill: #FFFFFF;\n",
              "    }\n",
              "  </style>\n",
              "\n",
              "    <script>\n",
              "      const buttonEl =\n",
              "        document.querySelector('#df-1cf29736-9c02-42b5-9f92-8396de56ee07 button.colab-df-convert');\n",
              "      buttonEl.style.display =\n",
              "        google.colab.kernel.accessAllowed ? 'block' : 'none';\n",
              "\n",
              "      async function convertToInteractive(key) {\n",
              "        const element = document.querySelector('#df-1cf29736-9c02-42b5-9f92-8396de56ee07');\n",
              "        const dataTable =\n",
              "          await google.colab.kernel.invokeFunction('convertToInteractive',\n",
              "                                                    [key], {});\n",
              "        if (!dataTable) return;\n",
              "\n",
              "        const docLinkHtml = 'Like what you see? Visit the ' +\n",
              "          '<a target=\"_blank\" href=https://colab.research.google.com/notebooks/data_table.ipynb>data table notebook</a>'\n",
              "          + ' to learn more about interactive tables.';\n",
              "        element.innerHTML = '';\n",
              "        dataTable['output_type'] = 'display_data';\n",
              "        await google.colab.output.renderOutput(dataTable, element);\n",
              "        const docLink = document.createElement('div');\n",
              "        docLink.innerHTML = docLinkHtml;\n",
              "        element.appendChild(docLink);\n",
              "      }\n",
              "    </script>\n",
              "  </div>\n",
              "\n",
              "\n",
              "<div id=\"df-f9cc79c8-5361-4500-a3ee-c34b1b9dd670\">\n",
              "  <button class=\"colab-df-quickchart\" onclick=\"quickchart('df-f9cc79c8-5361-4500-a3ee-c34b1b9dd670')\"\n",
              "            title=\"Suggest charts.\"\n",
              "            style=\"display:none;\">\n",
              "\n",
              "<svg xmlns=\"http://www.w3.org/2000/svg\" height=\"24px\"viewBox=\"0 0 24 24\"\n",
              "     width=\"24px\">\n",
              "    <g>\n",
              "        <path d=\"M19 3H5c-1.1 0-2 .9-2 2v14c0 1.1.9 2 2 2h14c1.1 0 2-.9 2-2V5c0-1.1-.9-2-2-2zM9 17H7v-7h2v7zm4 0h-2V7h2v10zm4 0h-2v-4h2v4z\"/>\n",
              "    </g>\n",
              "</svg>\n",
              "  </button>\n",
              "\n",
              "<style>\n",
              "  .colab-df-quickchart {\n",
              "      --bg-color: #E8F0FE;\n",
              "      --fill-color: #1967D2;\n",
              "      --hover-bg-color: #E2EBFA;\n",
              "      --hover-fill-color: #174EA6;\n",
              "      --disabled-fill-color: #AAA;\n",
              "      --disabled-bg-color: #DDD;\n",
              "  }\n",
              "\n",
              "  [theme=dark] .colab-df-quickchart {\n",
              "      --bg-color: #3B4455;\n",
              "      --fill-color: #D2E3FC;\n",
              "      --hover-bg-color: #434B5C;\n",
              "      --hover-fill-color: #FFFFFF;\n",
              "      --disabled-bg-color: #3B4455;\n",
              "      --disabled-fill-color: #666;\n",
              "  }\n",
              "\n",
              "  .colab-df-quickchart {\n",
              "    background-color: var(--bg-color);\n",
              "    border: none;\n",
              "    border-radius: 50%;\n",
              "    cursor: pointer;\n",
              "    display: none;\n",
              "    fill: var(--fill-color);\n",
              "    height: 32px;\n",
              "    padding: 0;\n",
              "    width: 32px;\n",
              "  }\n",
              "\n",
              "  .colab-df-quickchart:hover {\n",
              "    background-color: var(--hover-bg-color);\n",
              "    box-shadow: 0 1px 2px rgba(60, 64, 67, 0.3), 0 1px 3px 1px rgba(60, 64, 67, 0.15);\n",
              "    fill: var(--button-hover-fill-color);\n",
              "  }\n",
              "\n",
              "  .colab-df-quickchart-complete:disabled,\n",
              "  .colab-df-quickchart-complete:disabled:hover {\n",
              "    background-color: var(--disabled-bg-color);\n",
              "    fill: var(--disabled-fill-color);\n",
              "    box-shadow: none;\n",
              "  }\n",
              "\n",
              "  .colab-df-spinner {\n",
              "    border: 2px solid var(--fill-color);\n",
              "    border-color: transparent;\n",
              "    border-bottom-color: var(--fill-color);\n",
              "    animation:\n",
              "      spin 1s steps(1) infinite;\n",
              "  }\n",
              "\n",
              "  @keyframes spin {\n",
              "    0% {\n",
              "      border-color: transparent;\n",
              "      border-bottom-color: var(--fill-color);\n",
              "      border-left-color: var(--fill-color);\n",
              "    }\n",
              "    20% {\n",
              "      border-color: transparent;\n",
              "      border-left-color: var(--fill-color);\n",
              "      border-top-color: var(--fill-color);\n",
              "    }\n",
              "    30% {\n",
              "      border-color: transparent;\n",
              "      border-left-color: var(--fill-color);\n",
              "      border-top-color: var(--fill-color);\n",
              "      border-right-color: var(--fill-color);\n",
              "    }\n",
              "    40% {\n",
              "      border-color: transparent;\n",
              "      border-right-color: var(--fill-color);\n",
              "      border-top-color: var(--fill-color);\n",
              "    }\n",
              "    60% {\n",
              "      border-color: transparent;\n",
              "      border-right-color: var(--fill-color);\n",
              "    }\n",
              "    80% {\n",
              "      border-color: transparent;\n",
              "      border-right-color: var(--fill-color);\n",
              "      border-bottom-color: var(--fill-color);\n",
              "    }\n",
              "    90% {\n",
              "      border-color: transparent;\n",
              "      border-bottom-color: var(--fill-color);\n",
              "    }\n",
              "  }\n",
              "</style>\n",
              "\n",
              "  <script>\n",
              "    async function quickchart(key) {\n",
              "      const quickchartButtonEl =\n",
              "        document.querySelector('#' + key + ' button');\n",
              "      quickchartButtonEl.disabled = true;  // To prevent multiple clicks.\n",
              "      quickchartButtonEl.classList.add('colab-df-spinner');\n",
              "      try {\n",
              "        const charts = await google.colab.kernel.invokeFunction(\n",
              "            'suggestCharts', [key], {});\n",
              "      } catch (error) {\n",
              "        console.error('Error during call to suggestCharts:', error);\n",
              "      }\n",
              "      quickchartButtonEl.classList.remove('colab-df-spinner');\n",
              "      quickchartButtonEl.classList.add('colab-df-quickchart-complete');\n",
              "    }\n",
              "    (() => {\n",
              "      let quickchartButtonEl =\n",
              "        document.querySelector('#df-f9cc79c8-5361-4500-a3ee-c34b1b9dd670 button');\n",
              "      quickchartButtonEl.style.display =\n",
              "        google.colab.kernel.accessAllowed ? 'block' : 'none';\n",
              "    })();\n",
              "  </script>\n",
              "</div>\n",
              "    </div>\n",
              "  </div>\n"
            ],
            "text/plain": [
              "              Word  Frequency\n",
              "5             beer       4075\n",
              "22            head       3133\n",
              "31           taste       2646\n",
              "28       chocolate       2418\n",
              "20            dark       2151\n",
              "...            ...        ...\n",
              "9842   substandard          1\n",
              "9841   surprisngly          1\n",
              "9840        recess          1\n",
              "4564     guatemala          1\n",
              "14533       doused          1\n",
              "\n",
              "[14534 rows x 2 columns]"
            ]
          },
          "execution_count": 5,
          "metadata": {},
          "output_type": "execute_result"
        }
      ],
      "source": [
        "scraped=pd.read_csv(\"beer_reviews (2).csv\")\n",
        "\n",
        "# Assuming you have a DataFrame named 'scraped' with a 'product_review' column\n",
        "# Download the NLTK stopwords dataset\n",
        "nltk.download('stopwords')\n",
        "nltk.download('punkt')\n",
        "\n",
        "# Define a list of stopwords and punctuation\n",
        "stop_words = set(stopwords.words('english'))\n",
        "punctuation = set(string.punctuation)\n",
        "\n",
        "# should we lemmatize words?, like dark, darker, darkest all these mentions would be similar\n",
        "#lemmatizer = WordNetLemmatizer()\n",
        "\n",
        "# Tokenize and process each product review\n",
        "word_counts = Counter()\n",
        "for review in scraped['Review']:\n",
        "    # Tokenize the text\n",
        "    words = word_tokenize(review.lower())\n",
        "\n",
        "    # Remove stopwords, punctuation, and non-alphanumeric characters\n",
        "    #words = [lemmatizer.lemmatize(word) for word in words if word.isalnum() and word not in stop_words and word not in punctuation]\n",
        "    words = [word for word in words if word.isalnum() and word not in stop_words and word not in punctuation]\n",
        "\n",
        "    # Update word counts\n",
        "    word_counts.update(words)\n",
        "\n",
        "# Convert the word frequency counts to a DataFrame for analysis or visualization\n",
        "word_freq_df = pd.DataFrame(word_counts.items(), columns=['Word', 'Frequency'])\n",
        "\n",
        "# Sort by frequency in descending order\n",
        "word_freq_df = word_freq_df.sort_values(by='Frequency', ascending=False)\n",
        "# Display the most common words\n",
        "word_freq_df.to_csv(\"word_freq_df.csv\",index=False)\n",
        "selected_attributes=['bourbon','dark', 'chocolate', 'coffee', 'light', 'sweet', 'vanilla', 'aroma', 'orange', 'oak', 'fruit']\n",
        "word_freq_df"
      ]
    },
    {
      "cell_type": "code",
      "execution_count": null,
      "metadata": {
        "colab": {
          "base_uri": "https://localhost:8080/",
          "height": 569
        },
        "id": "J53shQ9Sp0Lr",
        "outputId": "4b0dab3c-545c-4665-bc44-bf976f6be478"
      },
      "outputs": [
        {
          "data": {
            "image/png": "[encoded data removed]",
            "text/plain": [
              "<Figure size 1200x600 with 1 Axes>"
            ]
          },
          "metadata": {},
          "output_type": "display_data"
        }
      ],
      "source": [
        "import seaborn as sns\n",
        "import matplotlib.pyplot as plt\n",
        "\n",
        "# Create a bar chart using Seaborn with 'coolwarm' colormap and vertical bars\n",
        "plt.figure(figsize=(12, 6))\n",
        "sns.barplot(x='Word', y='Frequency', data=word_freq_df[word_freq_df['Word'].isin(selected_attributes)], palette='coolwarm')\n",
        "plt.title('Word Frequencies for Selected Attributes')\n",
        "plt.xlabel('Attribute')\n",
        "plt.ylabel('Frequency')\n",
        "plt.xticks(rotation=45)\n",
        "plt.tight_layout()\n",
        "plt.show()\n"
      ]
    },
    {
      "cell_type": "code",
      "execution_count": null,
      "metadata": {
        "colab": {
          "base_uri": "https://localhost:8080/",
          "height": 73
        },
        "id": "X5VAfpFGxbFl",
        "outputId": "70977627-e933-4b8d-de4d-e4cf0279e841"
      },
      "outputs": [
        {
          "data": {
            "text/html": [
              "\n",
              "     <input type=\"file\" id=\"files-6524e6e1-6713-4427-85bc-047f92d419aa\" name=\"files[]\" multiple disabled\n",
              "        style=\"border:none\" />\n",
              "     <output id=\"result-6524e6e1-6713-4427-85bc-047f92d419aa\">\n",
              "      Upload widget is only available when the cell has been executed in the\n",
              "      current browser session. Please rerun this cell to enable.\n",
              "      </output>\n",
              "      <script>// Copyright 2017 Google LLC\n",
              "//\n",
              "// Licensed under the Apache License, Version 2.0 (the \"License\");\n",
              "// you may not use this file except in compliance with the License.\n",
              "// You may obtain a copy of the License at\n",
              "//\n",
              "//      http://www.apache.org/licenses/LICENSE-2.0\n",
              "//\n",
              "// Unless required by applicable law or agreed to in writing, software\n",
              "// distributed under the License is distributed on an \"AS IS\" BASIS,\n",
              "// WITHOUT WARRANTIES OR CONDITIONS OF ANY KIND, either express or implied.\n",
              "// See the License for the specific language governing permissions and\n",
              "// limitations under the License.\n",
              "\n",
              "/**\n",
              " * @fileoverview Helpers for google.colab Python module.\n",
              " */\n",
              "(function(scope) {\n",
              "function span(text, styleAttributes = {}) {\n",
              "  const element = document.createElement('span');\n",
              "  element.textContent = text;\n",
              "  for (const key of Object.keys(styleAttributes)) {\n",
              "    element.style[key] = styleAttributes[key];\n",
              "  }\n",
              "  return element;\n",
              "}\n",
              "\n",
              "// Max number of bytes which will be uploaded at a time.\n",
              "const MAX_PAYLOAD_SIZE = 100 * 1024;\n",
              "\n",
              "function _uploadFiles(inputId, outputId) {\n",
              "  const steps = uploadFilesStep(inputId, outputId);\n",
              "  const outputElement = document.getElementById(outputId);\n",
              "  // Cache steps on the outputElement to make it available for the next call\n",
              "  // to uploadFilesContinue from Python.\n",
              "  outputElement.steps = steps;\n",
              "\n",
              "  return _uploadFilesContinue(outputId);\n",
              "}\n",
              "\n",
              "// This is roughly an async generator (not supported in the browser yet),\n",
              "// where there are multiple asynchronous steps and the Python side is going\n",
              "// to poll for completion of each step.\n",
              "// This uses a Promise to block the python side on completion of each step,\n",
              "// then passes the result of the previous step as the input to the next step.\n",
              "function _uploadFilesContinue(outputId) {\n",
              "  const outputElement = document.getElementById(outputId);\n",
              "  const steps = outputElement.steps;\n",
              "\n",
              "  const next = steps.next(outputElement.lastPromiseValue);\n",
              "  return Promise.resolve(next.value.promise).then((value) => {\n",
              "    // Cache the last promise value to make it available to the next\n",
              "    // step of the generator.\n",
              "    outputElement.lastPromiseValue = value;\n",
              "    return next.value.response;\n",
              "  });\n",
              "}\n",
              "\n",
              "/**\n",
              " * Generator function which is called between each async step of the upload\n",
              " * process.\n",
              " * @param {string} inputId Element ID of the input file picker element.\n",
              " * @param {string} outputId Element ID of the output display.\n",
              " * @return {!Iterable<!Object>} Iterable of next steps.\n",
              " */\n",
              "function* uploadFilesStep(inputId, outputId) {\n",
              "  const inputElement = document.getElementById(inputId);\n",
              "  inputElement.disabled = false;\n",
              "\n",
              "  const outputElement = document.getElementById(outputId);\n",
              "  outputElement.innerHTML = '';\n",
              "\n",
              "  const pickedPromise = new Promise((resolve) => {\n",
              "    inputElement.addEventListener('change', (e) => {\n",
              "      resolve(e.target.files);\n",
              "    });\n",
              "  });\n",
              "\n",
              "  const cancel = document.createElement('button');\n",
              "  inputElement.parentElement.appendChild(cancel);\n",
              "  cancel.textContent = 'Cancel upload';\n",
              "  const cancelPromise = new Promise((resolve) => {\n",
              "    cancel.onclick = () => {\n",
              "      resolve(null);\n",
              "    };\n",
              "  });\n",
              "\n",
              "  // Wait for the user to pick the files.\n",
              "  const files = yield {\n",
              "    promise: Promise.race([pickedPromise, cancelPromise]),\n",
              "    response: {\n",
              "      action: 'starting',\n",
              "    }\n",
              "  };\n",
              "\n",
              "  cancel.remove();\n",
              "\n",
              "  // Disable the input element since further picks are not allowed.\n",
              "  inputElement.disabled = true;\n",
              "\n",
              "  if (!files) {\n",
              "    return {\n",
              "      response: {\n",
              "        action: 'complete',\n",
              "      }\n",
              "    };\n",
              "  }\n",
              "\n",
              "  for (const file of files) {\n",
              "    const li = document.createElement('li');\n",
              "    li.append(span(file.name, {fontWeight: 'bold'}));\n",
              "    li.append(span(\n",
              "        `(${file.type || 'n/a'}) - ${file.size} bytes, ` +\n",
              "        `last modified: ${\n",
              "            file.lastModifiedDate ? file.lastModifiedDate.toLocaleDateString() :\n",
              "                                    'n/a'} - `));\n",
              "    const percent = span('0% done');\n",
              "    li.appendChild(percent);\n",
              "\n",
              "    outputElement.appendChild(li);\n",
              "\n",
              "    const fileDataPromise = new Promise((resolve) => {\n",
              "      const reader = new FileReader();\n",
              "      reader.onload = (e) => {\n",
              "        resolve(e.target.result);\n",
              "      };\n",
              "      reader.readAsArrayBuffer(file);\n",
              "    });\n",
              "    // Wait for the data to be ready.\n",
              "    let fileData = yield {\n",
              "      promise: fileDataPromise,\n",
              "      response: {\n",
              "        action: 'continue',\n",
              "      }\n",
              "    };\n",
              "\n",
              "    // Use a chunked sending to avoid message size limits. See b/62115660.\n",
              "    let position = 0;\n",
              "    do {\n",
              "      const length = Math.min(fileData.byteLength - position, MAX_PAYLOAD_SIZE);\n",
              "      const chunk = new Uint8Array(fileData, position, length);\n",
              "      position += length;\n",
              "\n",
              "      const base64 = btoa(String.fromCharCode.apply(null, chunk));\n",
              "      yield {\n",
              "        response: {\n",
              "          action: 'append',\n",
              "          file: file.name,\n",
              "          data: base64,\n",
              "        },\n",
              "      };\n",
              "\n",
              "      let percentDone = fileData.byteLength === 0 ?\n",
              "          100 :\n",
              "          Math.round((position / fileData.byteLength) * 100);\n",
              "      percent.textContent = `${percentDone}% done`;\n",
              "\n",
              "    } while (position < fileData.byteLength);\n",
              "  }\n",
              "\n",
              "  // All done.\n",
              "  yield {\n",
              "    response: {\n",
              "      action: 'complete',\n",
              "    }\n",
              "  };\n",
              "}\n",
              "\n",
              "scope.google = scope.google || {};\n",
              "scope.google.colab = scope.google.colab || {};\n",
              "scope.google.colab._files = {\n",
              "  _uploadFiles,\n",
              "  _uploadFilesContinue,\n",
              "};\n",
              "})(self);\n",
              "</script> "
            ],
            "text/plain": [
              "<IPython.core.display.HTML object>"
            ]
          },
          "metadata": {},
          "output_type": "display_data"
        },
        {
          "name": "stdout",
          "output_type": "stream",
          "text": [
            "Saving User Selection.csv to User Selection.csv\n"
          ]
        }
      ],
      "source": [
        "# Reading the user selection file\n",
        "from google.colab import files\n",
        "uploaded = files.upload()"
      ]
    },
    {
      "cell_type": "code",
      "execution_count": null,
      "metadata": {
        "colab": {
          "base_uri": "https://localhost:8080/"
        },
        "id": "UYG2SjPAxply",
        "outputId": "28231136-9143-4384-99d7-607930676a1c"
      },
      "outputs": [
        {
          "name": "stdout",
          "output_type": "stream",
          "text": [
            "      Word  Frequency\n",
            "0     dark        526\n",
            "1  vanilla        508\n",
            "2   orange        401\n"
          ]
        }
      ],
      "source": [
        "user_selection=pd.read_csv(\"User Selection.csv\")\n",
        "print(user_selection)"
      ]
    },
    {
      "cell_type": "code",
      "execution_count": null,
      "metadata": {
        "id": "3ztJinMVxt_K"
      },
      "outputs": [],
      "source": [
        "cos_compare = \" \".join(user_selection[\"Word\"])"
      ]
    },
    {
      "cell_type": "markdown",
      "metadata": {
        "id": "_Y_tRVLoxvmN"
      },
      "source": [
        "## **Task C.**\n",
        "Perform a similarity analysis using cosine similarity (without word embeddings) with the 3 attributes specified by the customer and the reviews.The similarity script should accept as input a file with the product attributes, and calculate similarity scores (between 0 and 1) between these attributes and each review. That is, the output file should have 3 columns – product_name (for each product, the product_name will repeat as many times as there are reviews of the product), product_review and similarity_score."
      ]
    },
    {
      "cell_type": "code",
      "execution_count": null,
      "metadata": {
        "colab": {
          "base_uri": "https://localhost:8080/",
          "height": 1000
        },
        "id": "e_ZOAW38yG5B",
        "outputId": "984b05d4-253d-412e-ec8b-8e9df41c9cc0"
      },
      "outputs": [
        {
          "name": "stdout",
          "output_type": "stream",
          "text": [
            "2023-10-01 23:14:40.484420: W tensorflow/compiler/tf2tensorrt/utils/py_utils.cc:38] TF-TRT Warning: Could not find TensorRT\n",
            "Collecting en-core-web-md==3.6.0\n",
            "  Downloading https://github.com/explosion/spacy-models/releases/download/en_core_web_md-3.6.0/en_core_web_md-3.6.0-py3-none-any.whl (42.8 MB)\n",
            "\u001b[2K     \u001b[90m━━━━━━━━━━━━━━━━━━━━━━━━━━━━━━━━━━━━━━━━\u001b[0m \u001b[32m42.8/42.8 MB\u001b[0m \u001b[31m20.9 MB/s\u001b[0m eta \u001b[36m0:00:00\u001b[0m\n",
            "\u001b[?25hRequirement already satisfied: spacy<3.7.0,>=3.6.0 in /usr/local/lib/python3.10/dist-packages (from en-core-web-md==3.6.0) (3.6.1)\n",
            "Requirement already satisfied: spacy-legacy<3.1.0,>=3.0.11 in /usr/local/lib/python3.10/dist-packages (from spacy<3.7.0,>=3.6.0->en-core-web-md==3.6.0) (3.0.12)\n",
            "Requirement already satisfied: spacy-loggers<2.0.0,>=1.0.0 in /usr/local/lib/python3.10/dist-packages (from spacy<3.7.0,>=3.6.0->en-core-web-md==3.6.0) (1.0.4)\n",
            "Requirement already satisfied: murmurhash<1.1.0,>=0.28.0 in /usr/local/lib/python3.10/dist-packages (from spacy<3.7.0,>=3.6.0->en-core-web-md==3.6.0) (1.0.9)\n",
            "Requirement already satisfied: cymem<2.1.0,>=2.0.2 in /usr/local/lib/python3.10/dist-packages (from spacy<3.7.0,>=3.6.0->en-core-web-md==3.6.0) (2.0.7)\n",
            "Requirement already satisfied: preshed<3.1.0,>=3.0.2 in /usr/local/lib/python3.10/dist-packages (from spacy<3.7.0,>=3.6.0->en-core-web-md==3.6.0) (3.0.8)\n",
            "Requirement already satisfied: thinc<8.2.0,>=8.1.8 in /usr/local/lib/python3.10/dist-packages (from spacy<3.7.0,>=3.6.0->en-core-web-md==3.6.0) (8.1.12)\n",
            "Requirement already satisfied: wasabi<1.2.0,>=0.9.1 in /usr/local/lib/python3.10/dist-packages (from spacy<3.7.0,>=3.6.0->en-core-web-md==3.6.0) (1.1.2)\n",
            "Requirement already satisfied: srsly<3.0.0,>=2.4.3 in /usr/local/lib/python3.10/dist-packages (from spacy<3.7.0,>=3.6.0->en-core-web-md==3.6.0) (2.4.7)\n",
            "Requirement already satisfied: catalogue<2.1.0,>=2.0.6 in /usr/local/lib/python3.10/dist-packages (from spacy<3.7.0,>=3.6.0->en-core-web-md==3.6.0) (2.0.9)\n",
            "Requirement already satisfied: typer<0.10.0,>=0.3.0 in /usr/local/lib/python3.10/dist-packages (from spacy<3.7.0,>=3.6.0->en-core-web-md==3.6.0) (0.9.0)\n",
            "Requirement already satisfied: pathy>=0.10.0 in /usr/local/lib/python3.10/dist-packages (from spacy<3.7.0,>=3.6.0->en-core-web-md==3.6.0) (0.10.2)\n",
            "Requirement already satisfied: smart-open<7.0.0,>=5.2.1 in /usr/local/lib/python3.10/dist-packages (from spacy<3.7.0,>=3.6.0->en-core-web-md==3.6.0) (6.4.0)\n",
            "Requirement already satisfied: tqdm<5.0.0,>=4.38.0 in /usr/local/lib/python3.10/dist-packages (from spacy<3.7.0,>=3.6.0->en-core-web-md==3.6.0) (4.66.1)\n",
            "Requirement already satisfied: numpy>=1.15.0 in /usr/local/lib/python3.10/dist-packages (from spacy<3.7.0,>=3.6.0->en-core-web-md==3.6.0) (1.23.5)\n",
            "Requirement already satisfied: requests<3.0.0,>=2.13.0 in /usr/local/lib/python3.10/dist-packages (from spacy<3.7.0,>=3.6.0->en-core-web-md==3.6.0) (2.31.0)\n",
            "Requirement already satisfied: pydantic!=1.8,!=1.8.1,<3.0.0,>=1.7.4 in /usr/local/lib/python3.10/dist-packages (from spacy<3.7.0,>=3.6.0->en-core-web-md==3.6.0) (1.10.12)\n",
            "Requirement already satisfied: jinja2 in /usr/local/lib/python3.10/dist-packages (from spacy<3.7.0,>=3.6.0->en-core-web-md==3.6.0) (3.1.2)\n",
            "Requirement already satisfied: setuptools in /usr/local/lib/python3.10/dist-packages (from spacy<3.7.0,>=3.6.0->en-core-web-md==3.6.0) (67.7.2)\n",
            "Requirement already satisfied: packaging>=20.0 in /usr/local/lib/python3.10/dist-packages (from spacy<3.7.0,>=3.6.0->en-core-web-md==3.6.0) (23.1)\n",
            "Requirement already satisfied: langcodes<4.0.0,>=3.2.0 in /usr/local/lib/python3.10/dist-packages (from spacy<3.7.0,>=3.6.0->en-core-web-md==3.6.0) (3.3.0)\n",
            "Requirement already satisfied: typing-extensions>=4.2.0 in /usr/local/lib/python3.10/dist-packages (from pydantic!=1.8,!=1.8.1,<3.0.0,>=1.7.4->spacy<3.7.0,>=3.6.0->en-core-web-md==3.6.0) (4.5.0)\n",
            "Requirement already satisfied: charset-normalizer<4,>=2 in /usr/local/lib/python3.10/dist-packages (from requests<3.0.0,>=2.13.0->spacy<3.7.0,>=3.6.0->en-core-web-md==3.6.0) (3.2.0)\n",
            "Requirement already satisfied: idna<4,>=2.5 in /usr/local/lib/python3.10/dist-packages (from requests<3.0.0,>=2.13.0->spacy<3.7.0,>=3.6.0->en-core-web-md==3.6.0) (3.4)\n",
            "Requirement already satisfied: urllib3<3,>=1.21.1 in /usr/local/lib/python3.10/dist-packages (from requests<3.0.0,>=2.13.0->spacy<3.7.0,>=3.6.0->en-core-web-md==3.6.0) (2.0.4)\n",
            "Requirement already satisfied: certifi>=2017.4.17 in /usr/local/lib/python3.10/dist-packages (from requests<3.0.0,>=2.13.0->spacy<3.7.0,>=3.6.0->en-core-web-md==3.6.0) (2023.7.22)\n",
            "Requirement already satisfied: blis<0.8.0,>=0.7.8 in /usr/local/lib/python3.10/dist-packages (from thinc<8.2.0,>=8.1.8->spacy<3.7.0,>=3.6.0->en-core-web-md==3.6.0) (0.7.10)\n",
            "Requirement already satisfied: confection<1.0.0,>=0.0.1 in /usr/local/lib/python3.10/dist-packages (from thinc<8.2.0,>=8.1.8->spacy<3.7.0,>=3.6.0->en-core-web-md==3.6.0) (0.1.2)\n",
            "Requirement already satisfied: click<9.0.0,>=7.1.1 in /usr/local/lib/python3.10/dist-packages (from typer<0.10.0,>=0.3.0->spacy<3.7.0,>=3.6.0->en-core-web-md==3.6.0) (8.1.7)\n",
            "Requirement already satisfied: MarkupSafe>=2.0 in /usr/local/lib/python3.10/dist-packages (from jinja2->spacy<3.7.0,>=3.6.0->en-core-web-md==3.6.0) (2.1.3)\n",
            "Installing collected packages: en-core-web-md\n",
            "Successfully installed en-core-web-md-3.6.0\n",
            "\u001b[38;5;2m✔ Download and installation successful\u001b[0m\n",
            "You can now load the package via spacy.load('en_core_web_md')\n"
          ]
        },
        {
          "name": "stderr",
          "output_type": "stream",
          "text": [
            "<ipython-input-10-b1be6a2f0e90>:24: UserWarning: [W008] Evaluating Doc.similarity based on empty vectors.\n",
            "  lambda x: nlp(x).similarity(nlp(cos_compare))\n"
          ]
        },
        {
          "data": {
            "text/html": [
              "\n",
              "  <div id=\"df-c47b98e7-8312-4143-a104-19bcde16fbbd\" class=\"colab-df-container\">\n",
              "    <div>\n",
              "<style scoped>\n",
              "    .dataframe tbody tr th:only-of-type {\n",
              "        vertical-align: middle;\n",
              "    }\n",
              "\n",
              "    .dataframe tbody tr th {\n",
              "        vertical-align: top;\n",
              "    }\n",
              "\n",
              "    .dataframe thead th {\n",
              "        text-align: right;\n",
              "    }\n",
              "</style>\n",
              "<table border=\"1\" class=\"dataframe\">\n",
              "  <thead>\n",
              "    <tr style=\"text-align: right;\">\n",
              "      <th></th>\n",
              "      <th>Beer</th>\n",
              "      <th>Review</th>\n",
              "      <th>cosine_similarity_countvec</th>\n",
              "      <th>cosine_similarity_spacy</th>\n",
              "    </tr>\n",
              "  </thead>\n",
              "  <tbody>\n",
              "    <tr>\n",
              "      <th>4655</th>\n",
              "      <td>Clare's Thirsty Ale</td>\n",
              "      <td>Pours black with a finger of mocha head.\\nSmel...</td>\n",
              "      <td>0.505181</td>\n",
              "      <td>0.839566</td>\n",
              "    </tr>\n",
              "    <tr>\n",
              "      <th>5456</th>\n",
              "      <td>Darkness</td>\n",
              "      <td>Pours luxuriously dark, with bronze caramel an...</td>\n",
              "      <td>0.501280</td>\n",
              "      <td>0.875576</td>\n",
              "    </tr>\n",
              "    <tr>\n",
              "      <th>4130</th>\n",
              "      <td>BDCS</td>\n",
              "      <td>L: Dark mahogany with a reddish tint. Slight r...</td>\n",
              "      <td>0.430331</td>\n",
              "      <td>0.836140</td>\n",
              "    </tr>\n",
              "    <tr>\n",
              "      <th>2677</th>\n",
              "      <td>Black Tuesday</td>\n",
              "      <td>From the 750 ml bottle in a snifter via Blueja...</td>\n",
              "      <td>0.414698</td>\n",
              "      <td>0.818239</td>\n",
              "    </tr>\n",
              "    <tr>\n",
              "      <th>2121</th>\n",
              "      <td>Coffee Cinnamon B-Bomb</td>\n",
              "      <td>8 ounce pour - $10.00 at Woodstock Beer Market...</td>\n",
              "      <td>0.413449</td>\n",
              "      <td>0.809507</td>\n",
              "    </tr>\n",
              "    <tr>\n",
              "      <th>...</th>\n",
              "      <td>...</td>\n",
              "      <td>...</td>\n",
              "      <td>...</td>\n",
              "      <td>...</td>\n",
              "    </tr>\n",
              "    <tr>\n",
              "      <th>2455</th>\n",
              "      <td>4th Anniversary</td>\n",
              "      <td>4th anniversary re-boot for 8th anniversary.</td>\n",
              "      <td>0.000000</td>\n",
              "      <td>0.072428</td>\n",
              "    </tr>\n",
              "    <tr>\n",
              "      <th>2458</th>\n",
              "      <td>4th Anniversary</td>\n",
              "      <td>Poured from a can (2/5) into a Teku\\n\\nL: soli...</td>\n",
              "      <td>0.000000</td>\n",
              "      <td>0.735133</td>\n",
              "    </tr>\n",
              "    <tr>\n",
              "      <th>2459</th>\n",
              "      <td>4th Anniversary</td>\n",
              "      <td>Pure perfection. Fruity and juicy. Tasty and s...</td>\n",
              "      <td>0.000000</td>\n",
              "      <td>0.478924</td>\n",
              "    </tr>\n",
              "    <tr>\n",
              "      <th>2461</th>\n",
              "      <td>4th Anniversary</td>\n",
              "      <td>Very cloudy straw appearance with white head t...</td>\n",
              "      <td>0.000000</td>\n",
              "      <td>0.704177</td>\n",
              "    </tr>\n",
              "    <tr>\n",
              "      <th>5993</th>\n",
              "      <td>Samuel Adams Utopias</td>\n",
              "      <td>2009 Vintage. Drank 2/1/19</td>\n",
              "      <td>0.000000</td>\n",
              "      <td>0.421038</td>\n",
              "    </tr>\n",
              "  </tbody>\n",
              "</table>\n",
              "<p>5994 rows × 4 columns</p>\n",
              "</div>\n",
              "    <div class=\"colab-df-buttons\">\n",
              "\n",
              "  <div class=\"colab-df-container\">\n",
              "    <button class=\"colab-df-convert\" onclick=\"convertToInteractive('df-c47b98e7-8312-4143-a104-19bcde16fbbd')\"\n",
              "            title=\"Convert this dataframe to an interactive table.\"\n",
              "            style=\"display:none;\">\n",
              "\n",
              "  <svg xmlns=\"http://www.w3.org/2000/svg\" height=\"24px\" viewBox=\"0 -960 960 960\">\n",
              "    <path d=\"M120-120v-720h720v720H120Zm60-500h600v-160H180v160Zm220 220h160v-160H400v160Zm0 220h160v-160H400v160ZM180-400h160v-160H180v160Zm440 0h160v-160H620v160ZM180-180h160v-160H180v160Zm440 0h160v-160H620v160Z\"/>\n",
              "  </svg>\n",
              "    </button>\n",
              "\n",
              "  <style>\n",
              "    .colab-df-container {\n",
              "      display:flex;\n",
              "      gap: 12px;\n",
              "    }\n",
              "\n",
              "    .colab-df-convert {\n",
              "      background-color: #E8F0FE;\n",
              "      border: none;\n",
              "      border-radius: 50%;\n",
              "      cursor: pointer;\n",
              "      display: none;\n",
              "      fill: #1967D2;\n",
              "      height: 32px;\n",
              "      padding: 0 0 0 0;\n",
              "      width: 32px;\n",
              "    }\n",
              "\n",
              "    .colab-df-convert:hover {\n",
              "      background-color: #E2EBFA;\n",
              "      box-shadow: 0px 1px 2px rgba(60, 64, 67, 0.3), 0px 1px 3px 1px rgba(60, 64, 67, 0.15);\n",
              "      fill: #174EA6;\n",
              "    }\n",
              "\n",
              "    .colab-df-buttons div {\n",
              "      margin-bottom: 4px;\n",
              "    }\n",
              "\n",
              "    [theme=dark] .colab-df-convert {\n",
              "      background-color: #3B4455;\n",
              "      fill: #D2E3FC;\n",
              "    }\n",
              "\n",
              "    [theme=dark] .colab-df-convert:hover {\n",
              "      background-color: #434B5C;\n",
              "      box-shadow: 0px 1px 3px 1px rgba(0, 0, 0, 0.15);\n",
              "      filter: drop-shadow(0px 1px 2px rgba(0, 0, 0, 0.3));\n",
              "      fill: #FFFFFF;\n",
              "    }\n",
              "  </style>\n",
              "\n",
              "    <script>\n",
              "      const buttonEl =\n",
              "        document.querySelector('#df-c47b98e7-8312-4143-a104-19bcde16fbbd button.colab-df-convert');\n",
              "      buttonEl.style.display =\n",
              "        google.colab.kernel.accessAllowed ? 'block' : 'none';\n",
              "\n",
              "      async function convertToInteractive(key) {\n",
              "        const element = document.querySelector('#df-c47b98e7-8312-4143-a104-19bcde16fbbd');\n",
              "        const dataTable =\n",
              "          await google.colab.kernel.invokeFunction('convertToInteractive',\n",
              "                                                    [key], {});\n",
              "        if (!dataTable) return;\n",
              "\n",
              "        const docLinkHtml = 'Like what you see? Visit the ' +\n",
              "          '<a target=\"_blank\" href=https://colab.research.google.com/notebooks/data_table.ipynb>data table notebook</a>'\n",
              "          + ' to learn more about interactive tables.';\n",
              "        element.innerHTML = '';\n",
              "        dataTable['output_type'] = 'display_data';\n",
              "        await google.colab.output.renderOutput(dataTable, element);\n",
              "        const docLink = document.createElement('div');\n",
              "        docLink.innerHTML = docLinkHtml;\n",
              "        element.appendChild(docLink);\n",
              "      }\n",
              "    </script>\n",
              "  </div>\n",
              "\n",
              "\n",
              "<div id=\"df-dcc3fae8-ed18-46d2-8439-aa6354e47c1e\">\n",
              "  <button class=\"colab-df-quickchart\" onclick=\"quickchart('df-dcc3fae8-ed18-46d2-8439-aa6354e47c1e')\"\n",
              "            title=\"Suggest charts.\"\n",
              "            style=\"display:none;\">\n",
              "\n",
              "<svg xmlns=\"http://www.w3.org/2000/svg\" height=\"24px\"viewBox=\"0 0 24 24\"\n",
              "     width=\"24px\">\n",
              "    <g>\n",
              "        <path d=\"M19 3H5c-1.1 0-2 .9-2 2v14c0 1.1.9 2 2 2h14c1.1 0 2-.9 2-2V5c0-1.1-.9-2-2-2zM9 17H7v-7h2v7zm4 0h-2V7h2v10zm4 0h-2v-4h2v4z\"/>\n",
              "    </g>\n",
              "</svg>\n",
              "  </button>\n",
              "\n",
              "<style>\n",
              "  .colab-df-quickchart {\n",
              "      --bg-color: #E8F0FE;\n",
              "      --fill-color: #1967D2;\n",
              "      --hover-bg-color: #E2EBFA;\n",
              "      --hover-fill-color: #174EA6;\n",
              "      --disabled-fill-color: #AAA;\n",
              "      --disabled-bg-color: #DDD;\n",
              "  }\n",
              "\n",
              "  [theme=dark] .colab-df-quickchart {\n",
              "      --bg-color: #3B4455;\n",
              "      --fill-color: #D2E3FC;\n",
              "      --hover-bg-color: #434B5C;\n",
              "      --hover-fill-color: #FFFFFF;\n",
              "      --disabled-bg-color: #3B4455;\n",
              "      --disabled-fill-color: #666;\n",
              "  }\n",
              "\n",
              "  .colab-df-quickchart {\n",
              "    background-color: var(--bg-color);\n",
              "    border: none;\n",
              "    border-radius: 50%;\n",
              "    cursor: pointer;\n",
              "    display: none;\n",
              "    fill: var(--fill-color);\n",
              "    height: 32px;\n",
              "    padding: 0;\n",
              "    width: 32px;\n",
              "  }\n",
              "\n",
              "  .colab-df-quickchart:hover {\n",
              "    background-color: var(--hover-bg-color);\n",
              "    box-shadow: 0 1px 2px rgba(60, 64, 67, 0.3), 0 1px 3px 1px rgba(60, 64, 67, 0.15);\n",
              "    fill: var(--button-hover-fill-color);\n",
              "  }\n",
              "\n",
              "  .colab-df-quickchart-complete:disabled,\n",
              "  .colab-df-quickchart-complete:disabled:hover {\n",
              "    background-color: var(--disabled-bg-color);\n",
              "    fill: var(--disabled-fill-color);\n",
              "    box-shadow: none;\n",
              "  }\n",
              "\n",
              "  .colab-df-spinner {\n",
              "    border: 2px solid var(--fill-color);\n",
              "    border-color: transparent;\n",
              "    border-bottom-color: var(--fill-color);\n",
              "    animation:\n",
              "      spin 1s steps(1) infinite;\n",
              "  }\n",
              "\n",
              "  @keyframes spin {\n",
              "    0% {\n",
              "      border-color: transparent;\n",
              "      border-bottom-color: var(--fill-color);\n",
              "      border-left-color: var(--fill-color);\n",
              "    }\n",
              "    20% {\n",
              "      border-color: transparent;\n",
              "      border-left-color: var(--fill-color);\n",
              "      border-top-color: var(--fill-color);\n",
              "    }\n",
              "    30% {\n",
              "      border-color: transparent;\n",
              "      border-left-color: var(--fill-color);\n",
              "      border-top-color: var(--fill-color);\n",
              "      border-right-color: var(--fill-color);\n",
              "    }\n",
              "    40% {\n",
              "      border-color: transparent;\n",
              "      border-right-color: var(--fill-color);\n",
              "      border-top-color: var(--fill-color);\n",
              "    }\n",
              "    60% {\n",
              "      border-color: transparent;\n",
              "      border-right-color: var(--fill-color);\n",
              "    }\n",
              "    80% {\n",
              "      border-color: transparent;\n",
              "      border-right-color: var(--fill-color);\n",
              "      border-bottom-color: var(--fill-color);\n",
              "    }\n",
              "    90% {\n",
              "      border-color: transparent;\n",
              "      border-bottom-color: var(--fill-color);\n",
              "    }\n",
              "  }\n",
              "</style>\n",
              "\n",
              "  <script>\n",
              "    async function quickchart(key) {\n",
              "      const quickchartButtonEl =\n",
              "        document.querySelector('#' + key + ' button');\n",
              "      quickchartButtonEl.disabled = true;  // To prevent multiple clicks.\n",
              "      quickchartButtonEl.classList.add('colab-df-spinner');\n",
              "      try {\n",
              "        const charts = await google.colab.kernel.invokeFunction(\n",
              "            'suggestCharts', [key], {});\n",
              "      } catch (error) {\n",
              "        console.error('Error during call to suggestCharts:', error);\n",
              "      }\n",
              "      quickchartButtonEl.classList.remove('colab-df-spinner');\n",
              "      quickchartButtonEl.classList.add('colab-df-quickchart-complete');\n",
              "    }\n",
              "    (() => {\n",
              "      let quickchartButtonEl =\n",
              "        document.querySelector('#df-dcc3fae8-ed18-46d2-8439-aa6354e47c1e button');\n",
              "      quickchartButtonEl.style.display =\n",
              "        google.colab.kernel.accessAllowed ? 'block' : 'none';\n",
              "    })();\n",
              "  </script>\n",
              "</div>\n",
              "    </div>\n",
              "  </div>\n"
            ],
            "text/plain": [
              "                        Beer  \\\n",
              "4655     Clare's Thirsty Ale   \n",
              "5456                Darkness   \n",
              "4130                    BDCS   \n",
              "2677           Black Tuesday   \n",
              "2121  Coffee Cinnamon B-Bomb   \n",
              "...                      ...   \n",
              "2455         4th Anniversary   \n",
              "2458         4th Anniversary   \n",
              "2459         4th Anniversary   \n",
              "2461         4th Anniversary   \n",
              "5993    Samuel Adams Utopias   \n",
              "\n",
              "                                                 Review  \\\n",
              "4655  Pours black with a finger of mocha head.\\nSmel...   \n",
              "5456  Pours luxuriously dark, with bronze caramel an...   \n",
              "4130  L: Dark mahogany with a reddish tint. Slight r...   \n",
              "2677  From the 750 ml bottle in a snifter via Blueja...   \n",
              "2121  8 ounce pour - $10.00 at Woodstock Beer Market...   \n",
              "...                                                 ...   \n",
              "2455       4th anniversary re-boot for 8th anniversary.   \n",
              "2458  Poured from a can (2/5) into a Teku\\n\\nL: soli...   \n",
              "2459  Pure perfection. Fruity and juicy. Tasty and s...   \n",
              "2461  Very cloudy straw appearance with white head t...   \n",
              "5993                         2009 Vintage. Drank 2/1/19   \n",
              "\n",
              "      cosine_similarity_countvec  cosine_similarity_spacy  \n",
              "4655                    0.505181                 0.839566  \n",
              "5456                    0.501280                 0.875576  \n",
              "4130                    0.430331                 0.836140  \n",
              "2677                    0.414698                 0.818239  \n",
              "2121                    0.413449                 0.809507  \n",
              "...                          ...                      ...  \n",
              "2455                    0.000000                 0.072428  \n",
              "2458                    0.000000                 0.735133  \n",
              "2459                    0.000000                 0.478924  \n",
              "2461                    0.000000                 0.704177  \n",
              "5993                    0.000000                 0.421038  \n",
              "\n",
              "[5994 rows x 4 columns]"
            ]
          },
          "execution_count": 10,
          "metadata": {},
          "output_type": "execute_result"
        }
      ],
      "source": [
        "import pandas as pd\n",
        "from sklearn.metrics.pairwise import cosine_similarity\n",
        "from sklearn.feature_extraction.text import CountVectorizer\n",
        "import spacy\n",
        "!python -m spacy download en_core_web_md\n",
        "\n",
        "# Load the spaCy model\n",
        "nlp = spacy.load(\"en_core_web_md\")\n",
        "\n",
        "scraped['processed_review'] = scraped['Review'].apply(\n",
        "    lambda x: ' '.join([word.text.lower() for word in nlp(x) if word.is_alpha and word.text.lower() not in stop_words])\n",
        ")\n",
        "\n",
        "scraped.head()\n",
        "\n",
        "# Calculate cosine similarity using CountVectorizer\n",
        "vectorizer = CountVectorizer()\n",
        "X = vectorizer.fit_transform(scraped['processed_review'])\n",
        "Y = vectorizer.transform([cos_compare])\n",
        "cosine_similarities_countvec = cosine_similarity(X, Y)\n",
        "\n",
        "# Calculate cosine similarity using spaCy\n",
        "scraped['cosine_similarity_spacy'] = scraped['processed_review'].apply(\n",
        "    lambda x: nlp(x).similarity(nlp(cos_compare))\n",
        ")\n",
        "\n",
        "# Add cosine similarity values from CountVectorizer to the DataFrame\n",
        "scraped['cosine_similarity_countvec'] = cosine_similarities_countvec\n",
        "\n",
        "# Display the DataFrame with both cosine similarity columns\n",
        "scraped[['Beer', 'Review', 'cosine_similarity_countvec', 'cosine_similarity_spacy']].sort_values(\"cosine_similarity_countvec\", ascending=False)"
      ]
    },
    {
      "cell_type": "markdown",
      "metadata": {
        "id": "GWhLYugvyyiS"
      },
      "source": [
        "## **Task D.**\n",
        "For every review, perform a sentiment analysis (using VADER or any LLM). In case you have to change the default values of words in the VADER lexicon, use this article:\n",
        "\n",
        "https://medium.com/swlh/adding-context-to-unsupervised-sentiment-analysis-7b6693d2c9f8"
      ]
    },
    {
      "cell_type": "code",
      "execution_count": null,
      "metadata": {
        "id": "dYCd_xa6zD0c"
      },
      "outputs": [],
      "source": [
        "sentiment_ratings=[]\n",
        "prompt_list=[]"
      ]
    },
    {
      "cell_type": "markdown",
      "metadata": {
        "id": "kQdZmnpOzHk8"
      },
      "source": [
        "## **Using ChatGPT to fetch sentiment scores**"
      ]
    },
    {
      "cell_type": "code",
      "execution_count": null,
      "metadata": {
        "id": "PpDpI20uzQvR"
      },
      "outputs": [],
      "source": [
        "import os\n",
        "import openai\n",
        "\n",
        "openai.api_key = \" \"\n",
        "\n",
        "\n",
        "for index, row in scraped.iterrows():\n",
        "    print(index)\n",
        "    # Extract the text from the \"Review\" column\n",
        "    review_text = row[\"Review\"]\n",
        "\n",
        "    # Send a request to GPT-3 to rate sentiment\n",
        "    completion = openai.ChatCompletion.create(\n",
        "        model=\"gpt-3.5-turbo\",\n",
        "        messages=[\n",
        "            {\"role\": \"user\", \"content\": \"Rate the sentiment of the following text on a scale of 1-5, with 1 being very negative and 5 being very positive, I will be casting this to a float in python, so do not include any other unnecessary text apart from a number from 1 to 5:\"+review_text}\n",
        "        ]\n",
        "    )\n",
        "\n",
        "    # Extract and append the sentiment rating (1-5) from GPT-3's response\n",
        "    sentiment_rating = completion.choices[0].message[\"content\"]\n",
        "    prompt=\"Rate the sentiment of the following text on a scale of 1-5, with 1 being very negative and 5 being very positive, I will be casting this to a float in python, so do not include any other unnecessary text apart from a number from 1 to 5:\"+review_text\n",
        "    sentiment_ratings.append(sentiment_rating)\n",
        "    prompt_list.append(prompt)\n",
        "    df = pd.DataFrame({'Sentiment_Rating': sentiment_ratings, 'Prompt': prompt_list})\n",
        "\n",
        "scraped['Sentiment_Rating'], scraped['Prompt'] = df[\"Sentiment_Rating\"], df[\"Prompt\"]\n",
        "\n",
        "scraped['Sentiment_Rating'] = pd.to_numeric(scraped['Sentiment_Rating'], errors='coerce')\n",
        "scraped = scraped[~scraped['Sentiment_Rating'].isna()]"
      ]
    },
    {
      "cell_type": "code",
      "execution_count": null,
      "metadata": {
        "colab": {
          "base_uri": "https://localhost:8080/",
          "height": 73
        },
        "id": "fEoNMaLGzsyc",
        "outputId": "7a16fdc3-549b-47e0-830f-fb9f29ee6533"
      },
      "outputs": [
        {
          "data": {
            "text/html": [
              "\n",
              "     <input type=\"file\" id=\"files-6b5f62f1-0427-48ab-9ec7-53503818bdb7\" name=\"files[]\" multiple disabled\n",
              "        style=\"border:none\" />\n",
              "     <output id=\"result-6b5f62f1-0427-48ab-9ec7-53503818bdb7\">\n",
              "      Upload widget is only available when the cell has been executed in the\n",
              "      current browser session. Please rerun this cell to enable.\n",
              "      </output>\n",
              "      <script>// Copyright 2017 Google LLC\n",
              "//\n",
              "// Licensed under the Apache License, Version 2.0 (the \"License\");\n",
              "// you may not use this file except in compliance with the License.\n",
              "// You may obtain a copy of the License at\n",
              "//\n",
              "//      http://www.apache.org/licenses/LICENSE-2.0\n",
              "//\n",
              "// Unless required by applicable law or agreed to in writing, software\n",
              "// distributed under the License is distributed on an \"AS IS\" BASIS,\n",
              "// WITHOUT WARRANTIES OR CONDITIONS OF ANY KIND, either express or implied.\n",
              "// See the License for the specific language governing permissions and\n",
              "// limitations under the License.\n",
              "\n",
              "/**\n",
              " * @fileoverview Helpers for google.colab Python module.\n",
              " */\n",
              "(function(scope) {\n",
              "function span(text, styleAttributes = {}) {\n",
              "  const element = document.createElement('span');\n",
              "  element.textContent = text;\n",
              "  for (const key of Object.keys(styleAttributes)) {\n",
              "    element.style[key] = styleAttributes[key];\n",
              "  }\n",
              "  return element;\n",
              "}\n",
              "\n",
              "// Max number of bytes which will be uploaded at a time.\n",
              "const MAX_PAYLOAD_SIZE = 100 * 1024;\n",
              "\n",
              "function _uploadFiles(inputId, outputId) {\n",
              "  const steps = uploadFilesStep(inputId, outputId);\n",
              "  const outputElement = document.getElementById(outputId);\n",
              "  // Cache steps on the outputElement to make it available for the next call\n",
              "  // to uploadFilesContinue from Python.\n",
              "  outputElement.steps = steps;\n",
              "\n",
              "  return _uploadFilesContinue(outputId);\n",
              "}\n",
              "\n",
              "// This is roughly an async generator (not supported in the browser yet),\n",
              "// where there are multiple asynchronous steps and the Python side is going\n",
              "// to poll for completion of each step.\n",
              "// This uses a Promise to block the python side on completion of each step,\n",
              "// then passes the result of the previous step as the input to the next step.\n",
              "function _uploadFilesContinue(outputId) {\n",
              "  const outputElement = document.getElementById(outputId);\n",
              "  const steps = outputElement.steps;\n",
              "\n",
              "  const next = steps.next(outputElement.lastPromiseValue);\n",
              "  return Promise.resolve(next.value.promise).then((value) => {\n",
              "    // Cache the last promise value to make it available to the next\n",
              "    // step of the generator.\n",
              "    outputElement.lastPromiseValue = value;\n",
              "    return next.value.response;\n",
              "  });\n",
              "}\n",
              "\n",
              "/**\n",
              " * Generator function which is called between each async step of the upload\n",
              " * process.\n",
              " * @param {string} inputId Element ID of the input file picker element.\n",
              " * @param {string} outputId Element ID of the output display.\n",
              " * @return {!Iterable<!Object>} Iterable of next steps.\n",
              " */\n",
              "function* uploadFilesStep(inputId, outputId) {\n",
              "  const inputElement = document.getElementById(inputId);\n",
              "  inputElement.disabled = false;\n",
              "\n",
              "  const outputElement = document.getElementById(outputId);\n",
              "  outputElement.innerHTML = '';\n",
              "\n",
              "  const pickedPromise = new Promise((resolve) => {\n",
              "    inputElement.addEventListener('change', (e) => {\n",
              "      resolve(e.target.files);\n",
              "    });\n",
              "  });\n",
              "\n",
              "  const cancel = document.createElement('button');\n",
              "  inputElement.parentElement.appendChild(cancel);\n",
              "  cancel.textContent = 'Cancel upload';\n",
              "  const cancelPromise = new Promise((resolve) => {\n",
              "    cancel.onclick = () => {\n",
              "      resolve(null);\n",
              "    };\n",
              "  });\n",
              "\n",
              "  // Wait for the user to pick the files.\n",
              "  const files = yield {\n",
              "    promise: Promise.race([pickedPromise, cancelPromise]),\n",
              "    response: {\n",
              "      action: 'starting',\n",
              "    }\n",
              "  };\n",
              "\n",
              "  cancel.remove();\n",
              "\n",
              "  // Disable the input element since further picks are not allowed.\n",
              "  inputElement.disabled = true;\n",
              "\n",
              "  if (!files) {\n",
              "    return {\n",
              "      response: {\n",
              "        action: 'complete',\n",
              "      }\n",
              "    };\n",
              "  }\n",
              "\n",
              "  for (const file of files) {\n",
              "    const li = document.createElement('li');\n",
              "    li.append(span(file.name, {fontWeight: 'bold'}));\n",
              "    li.append(span(\n",
              "        `(${file.type || 'n/a'}) - ${file.size} bytes, ` +\n",
              "        `last modified: ${\n",
              "            file.lastModifiedDate ? file.lastModifiedDate.toLocaleDateString() :\n",
              "                                    'n/a'} - `));\n",
              "    const percent = span('0% done');\n",
              "    li.appendChild(percent);\n",
              "\n",
              "    outputElement.appendChild(li);\n",
              "\n",
              "    const fileDataPromise = new Promise((resolve) => {\n",
              "      const reader = new FileReader();\n",
              "      reader.onload = (e) => {\n",
              "        resolve(e.target.result);\n",
              "      };\n",
              "      reader.readAsArrayBuffer(file);\n",
              "    });\n",
              "    // Wait for the data to be ready.\n",
              "    let fileData = yield {\n",
              "      promise: fileDataPromise,\n",
              "      response: {\n",
              "        action: 'continue',\n",
              "      }\n",
              "    };\n",
              "\n",
              "    // Use a chunked sending to avoid message size limits. See b/62115660.\n",
              "    let position = 0;\n",
              "    do {\n",
              "      const length = Math.min(fileData.byteLength - position, MAX_PAYLOAD_SIZE);\n",
              "      const chunk = new Uint8Array(fileData, position, length);\n",
              "      position += length;\n",
              "\n",
              "      const base64 = btoa(String.fromCharCode.apply(null, chunk));\n",
              "      yield {\n",
              "        response: {\n",
              "          action: 'append',\n",
              "          file: file.name,\n",
              "          data: base64,\n",
              "        },\n",
              "      };\n",
              "\n",
              "      let percentDone = fileData.byteLength === 0 ?\n",
              "          100 :\n",
              "          Math.round((position / fileData.byteLength) * 100);\n",
              "      percent.textContent = `${percentDone}% done`;\n",
              "\n",
              "    } while (position < fileData.byteLength);\n",
              "  }\n",
              "\n",
              "  // All done.\n",
              "  yield {\n",
              "    response: {\n",
              "      action: 'complete',\n",
              "    }\n",
              "  };\n",
              "}\n",
              "\n",
              "scope.google = scope.google || {};\n",
              "scope.google.colab = scope.google.colab || {};\n",
              "scope.google.colab._files = {\n",
              "  _uploadFiles,\n",
              "  _uploadFilesContinue,\n",
              "};\n",
              "})(self);\n",
              "</script> "
            ],
            "text/plain": [
              "<IPython.core.display.HTML object>"
            ]
          },
          "metadata": {},
          "output_type": "display_data"
        },
        {
          "name": "stdout",
          "output_type": "stream",
          "text": [
            "Saving checkpoint.csv to checkpoint.csv\n"
          ]
        }
      ],
      "source": [
        "# Reading the file with sentiments from ChatGPT\n",
        "from google.colab import files\n",
        "uploaded = files.upload()"
      ]
    },
    {
      "cell_type": "code",
      "execution_count": null,
      "metadata": {
        "colab": {
          "base_uri": "https://localhost:8080/",
          "height": 660
        },
        "id": "yOJ4BcSRzvZS",
        "outputId": "834811e0-270c-4d3b-e3fc-e5e1fdee34ae"
      },
      "outputs": [
        {
          "data": {
            "text/html": [
              "\n",
              "  <div id=\"df-f5086a43-a459-4a2b-b2be-0cb320fbb078\" class=\"colab-df-container\">\n",
              "    <div>\n",
              "<style scoped>\n",
              "    .dataframe tbody tr th:only-of-type {\n",
              "        vertical-align: middle;\n",
              "    }\n",
              "\n",
              "    .dataframe tbody tr th {\n",
              "        vertical-align: top;\n",
              "    }\n",
              "\n",
              "    .dataframe thead th {\n",
              "        text-align: right;\n",
              "    }\n",
              "</style>\n",
              "<table border=\"1\" class=\"dataframe\">\n",
              "  <thead>\n",
              "    <tr style=\"text-align: right;\">\n",
              "      <th></th>\n",
              "      <th>Beer</th>\n",
              "      <th>Username</th>\n",
              "      <th>Location</th>\n",
              "      <th>Rating</th>\n",
              "      <th>Review</th>\n",
              "      <th>Date</th>\n",
              "      <th>processed_review</th>\n",
              "      <th>cosine_similarity_spacy</th>\n",
              "      <th>cosine_similarity_countvec</th>\n",
              "      <th>Sentiment_Rating</th>\n",
              "      <th>Prompt</th>\n",
              "    </tr>\n",
              "  </thead>\n",
              "  <tbody>\n",
              "    <tr>\n",
              "      <th>0</th>\n",
              "      <td>Kentucky Brunch Brand Stout</td>\n",
              "      <td>NaN</td>\n",
              "      <td>Hawaii</td>\n",
              "      <td>5/5</td>\n",
              "      <td>Amazing stout, expensive but worth the price!</td>\n",
              "      <td>Aug 06, 2023</td>\n",
              "      <td>amazing stout expensive worth price</td>\n",
              "      <td>0.330812</td>\n",
              "      <td>0.0000</td>\n",
              "      <td>1.0</td>\n",
              "      <td>Rate the sentiment of the following text on a ...</td>\n",
              "    </tr>\n",
              "    <tr>\n",
              "      <th>1</th>\n",
              "      <td>Kentucky Brunch Brand Stout</td>\n",
              "      <td>NaN</td>\n",
              "      <td>Michigan</td>\n",
              "      <td>5/5</td>\n",
              "      <td>This beer meet and exceeded all the unreal hyp...</td>\n",
              "      <td>Jul 08, 2023</td>\n",
              "      <td>beer meet exceeded unreal hype simply amazing</td>\n",
              "      <td>0.291398</td>\n",
              "      <td>0.0000</td>\n",
              "      <td>2.0</td>\n",
              "      <td>Rate the sentiment of the following text on a ...</td>\n",
              "    </tr>\n",
              "    <tr>\n",
              "      <th>2</th>\n",
              "      <td>Kentucky Brunch Brand Stout</td>\n",
              "      <td>NaN</td>\n",
              "      <td>Arkansas</td>\n",
              "      <td>5/5</td>\n",
              "      <td>Let it sit and warm to the room a little ... u...</td>\n",
              "      <td>May 17, 2023</td>\n",
              "      <td>let sit warm room little unbelievable</td>\n",
              "      <td>0.444795</td>\n",
              "      <td>0.0000</td>\n",
              "      <td>3.0</td>\n",
              "      <td>Rate the sentiment of the following text on a ...</td>\n",
              "    </tr>\n",
              "    <tr>\n",
              "      <th>3</th>\n",
              "      <td>Kentucky Brunch Brand Stout</td>\n",
              "      <td>NaN</td>\n",
              "      <td>Colorado</td>\n",
              "      <td>4.67/5</td>\n",
              "      <td>A small pour, ebony dark, no real head. Intens...</td>\n",
              "      <td>May 12, 2023</td>\n",
              "      <td>small pour ebony dark real head intense rich a...</td>\n",
              "      <td>0.652681</td>\n",
              "      <td>0.1659</td>\n",
              "      <td>3.0</td>\n",
              "      <td>Rate the sentiment of the following text on a ...</td>\n",
              "    </tr>\n",
              "    <tr>\n",
              "      <th>4</th>\n",
              "      <td>Kentucky Brunch Brand Stout</td>\n",
              "      <td>NaN</td>\n",
              "      <td>Iowa</td>\n",
              "      <td>5/5</td>\n",
              "      <td>Vintage 2022, served on tap at Toppling Goliat...</td>\n",
              "      <td>Dec 04, 2022</td>\n",
              "      <td>vintage served tap toppling goliath snulip gla...</td>\n",
              "      <td>0.716661</td>\n",
              "      <td>0.0000</td>\n",
              "      <td>2.5</td>\n",
              "      <td>Rate the sentiment of the following text on a ...</td>\n",
              "    </tr>\n",
              "  </tbody>\n",
              "</table>\n",
              "</div>\n",
              "    <div class=\"colab-df-buttons\">\n",
              "\n",
              "  <div class=\"colab-df-container\">\n",
              "    <button class=\"colab-df-convert\" onclick=\"convertToInteractive('df-f5086a43-a459-4a2b-b2be-0cb320fbb078')\"\n",
              "            title=\"Convert this dataframe to an interactive table.\"\n",
              "            style=\"display:none;\">\n",
              "\n",
              "  <svg xmlns=\"http://www.w3.org/2000/svg\" height=\"24px\" viewBox=\"0 -960 960 960\">\n",
              "    <path d=\"M120-120v-720h720v720H120Zm60-500h600v-160H180v160Zm220 220h160v-160H400v160Zm0 220h160v-160H400v160ZM180-400h160v-160H180v160Zm440 0h160v-160H620v160ZM180-180h160v-160H180v160Zm440 0h160v-160H620v160Z\"/>\n",
              "  </svg>\n",
              "    </button>\n",
              "\n",
              "  <style>\n",
              "    .colab-df-container {\n",
              "      display:flex;\n",
              "      gap: 12px;\n",
              "    }\n",
              "\n",
              "    .colab-df-convert {\n",
              "      background-color: #E8F0FE;\n",
              "      border: none;\n",
              "      border-radius: 50%;\n",
              "      cursor: pointer;\n",
              "      display: none;\n",
              "      fill: #1967D2;\n",
              "      height: 32px;\n",
              "      padding: 0 0 0 0;\n",
              "      width: 32px;\n",
              "    }\n",
              "\n",
              "    .colab-df-convert:hover {\n",
              "      background-color: #E2EBFA;\n",
              "      box-shadow: 0px 1px 2px rgba(60, 64, 67, 0.3), 0px 1px 3px 1px rgba(60, 64, 67, 0.15);\n",
              "      fill: #174EA6;\n",
              "    }\n",
              "\n",
              "    .colab-df-buttons div {\n",
              "      margin-bottom: 4px;\n",
              "    }\n",
              "\n",
              "    [theme=dark] .colab-df-convert {\n",
              "      background-color: #3B4455;\n",
              "      fill: #D2E3FC;\n",
              "    }\n",
              "\n",
              "    [theme=dark] .colab-df-convert:hover {\n",
              "      background-color: #434B5C;\n",
              "      box-shadow: 0px 1px 3px 1px rgba(0, 0, 0, 0.15);\n",
              "      filter: drop-shadow(0px 1px 2px rgba(0, 0, 0, 0.3));\n",
              "      fill: #FFFFFF;\n",
              "    }\n",
              "  </style>\n",
              "\n",
              "    <script>\n",
              "      const buttonEl =\n",
              "        document.querySelector('#df-f5086a43-a459-4a2b-b2be-0cb320fbb078 button.colab-df-convert');\n",
              "      buttonEl.style.display =\n",
              "        google.colab.kernel.accessAllowed ? 'block' : 'none';\n",
              "\n",
              "      async function convertToInteractive(key) {\n",
              "        const element = document.querySelector('#df-f5086a43-a459-4a2b-b2be-0cb320fbb078');\n",
              "        const dataTable =\n",
              "          await google.colab.kernel.invokeFunction('convertToInteractive',\n",
              "                                                    [key], {});\n",
              "        if (!dataTable) return;\n",
              "\n",
              "        const docLinkHtml = 'Like what you see? Visit the ' +\n",
              "          '<a target=\"_blank\" href=https://colab.research.google.com/notebooks/data_table.ipynb>data table notebook</a>'\n",
              "          + ' to learn more about interactive tables.';\n",
              "        element.innerHTML = '';\n",
              "        dataTable['output_type'] = 'display_data';\n",
              "        await google.colab.output.renderOutput(dataTable, element);\n",
              "        const docLink = document.createElement('div');\n",
              "        docLink.innerHTML = docLinkHtml;\n",
              "        element.appendChild(docLink);\n",
              "      }\n",
              "    </script>\n",
              "  </div>\n",
              "\n",
              "\n",
              "<div id=\"df-c2c13438-f82f-4349-a946-94f5ca537ec0\">\n",
              "  <button class=\"colab-df-quickchart\" onclick=\"quickchart('df-c2c13438-f82f-4349-a946-94f5ca537ec0')\"\n",
              "            title=\"Suggest charts.\"\n",
              "            style=\"display:none;\">\n",
              "\n",
              "<svg xmlns=\"http://www.w3.org/2000/svg\" height=\"24px\"viewBox=\"0 0 24 24\"\n",
              "     width=\"24px\">\n",
              "    <g>\n",
              "        <path d=\"M19 3H5c-1.1 0-2 .9-2 2v14c0 1.1.9 2 2 2h14c1.1 0 2-.9 2-2V5c0-1.1-.9-2-2-2zM9 17H7v-7h2v7zm4 0h-2V7h2v10zm4 0h-2v-4h2v4z\"/>\n",
              "    </g>\n",
              "</svg>\n",
              "  </button>\n",
              "\n",
              "<style>\n",
              "  .colab-df-quickchart {\n",
              "      --bg-color: #E8F0FE;\n",
              "      --fill-color: #1967D2;\n",
              "      --hover-bg-color: #E2EBFA;\n",
              "      --hover-fill-color: #174EA6;\n",
              "      --disabled-fill-color: #AAA;\n",
              "      --disabled-bg-color: #DDD;\n",
              "  }\n",
              "\n",
              "  [theme=dark] .colab-df-quickchart {\n",
              "      --bg-color: #3B4455;\n",
              "      --fill-color: #D2E3FC;\n",
              "      --hover-bg-color: #434B5C;\n",
              "      --hover-fill-color: #FFFFFF;\n",
              "      --disabled-bg-color: #3B4455;\n",
              "      --disabled-fill-color: #666;\n",
              "  }\n",
              "\n",
              "  .colab-df-quickchart {\n",
              "    background-color: var(--bg-color);\n",
              "    border: none;\n",
              "    border-radius: 50%;\n",
              "    cursor: pointer;\n",
              "    display: none;\n",
              "    fill: var(--fill-color);\n",
              "    height: 32px;\n",
              "    padding: 0;\n",
              "    width: 32px;\n",
              "  }\n",
              "\n",
              "  .colab-df-quickchart:hover {\n",
              "    background-color: var(--hover-bg-color);\n",
              "    box-shadow: 0 1px 2px rgba(60, 64, 67, 0.3), 0 1px 3px 1px rgba(60, 64, 67, 0.15);\n",
              "    fill: var(--button-hover-fill-color);\n",
              "  }\n",
              "\n",
              "  .colab-df-quickchart-complete:disabled,\n",
              "  .colab-df-quickchart-complete:disabled:hover {\n",
              "    background-color: var(--disabled-bg-color);\n",
              "    fill: var(--disabled-fill-color);\n",
              "    box-shadow: none;\n",
              "  }\n",
              "\n",
              "  .colab-df-spinner {\n",
              "    border: 2px solid var(--fill-color);\n",
              "    border-color: transparent;\n",
              "    border-bottom-color: var(--fill-color);\n",
              "    animation:\n",
              "      spin 1s steps(1) infinite;\n",
              "  }\n",
              "\n",
              "  @keyframes spin {\n",
              "    0% {\n",
              "      border-color: transparent;\n",
              "      border-bottom-color: var(--fill-color);\n",
              "      border-left-color: var(--fill-color);\n",
              "    }\n",
              "    20% {\n",
              "      border-color: transparent;\n",
              "      border-left-color: var(--fill-color);\n",
              "      border-top-color: var(--fill-color);\n",
              "    }\n",
              "    30% {\n",
              "      border-color: transparent;\n",
              "      border-left-color: var(--fill-color);\n",
              "      border-top-color: var(--fill-color);\n",
              "      border-right-color: var(--fill-color);\n",
              "    }\n",
              "    40% {\n",
              "      border-color: transparent;\n",
              "      border-right-color: var(--fill-color);\n",
              "      border-top-color: var(--fill-color);\n",
              "    }\n",
              "    60% {\n",
              "      border-color: transparent;\n",
              "      border-right-color: var(--fill-color);\n",
              "    }\n",
              "    80% {\n",
              "      border-color: transparent;\n",
              "      border-right-color: var(--fill-color);\n",
              "      border-bottom-color: var(--fill-color);\n",
              "    }\n",
              "    90% {\n",
              "      border-color: transparent;\n",
              "      border-bottom-color: var(--fill-color);\n",
              "    }\n",
              "  }\n",
              "</style>\n",
              "\n",
              "  <script>\n",
              "    async function quickchart(key) {\n",
              "      const quickchartButtonEl =\n",
              "        document.querySelector('#' + key + ' button');\n",
              "      quickchartButtonEl.disabled = true;  // To prevent multiple clicks.\n",
              "      quickchartButtonEl.classList.add('colab-df-spinner');\n",
              "      try {\n",
              "        const charts = await google.colab.kernel.invokeFunction(\n",
              "            'suggestCharts', [key], {});\n",
              "      } catch (error) {\n",
              "        console.error('Error during call to suggestCharts:', error);\n",
              "      }\n",
              "      quickchartButtonEl.classList.remove('colab-df-spinner');\n",
              "      quickchartButtonEl.classList.add('colab-df-quickchart-complete');\n",
              "    }\n",
              "    (() => {\n",
              "      let quickchartButtonEl =\n",
              "        document.querySelector('#df-c2c13438-f82f-4349-a946-94f5ca537ec0 button');\n",
              "      quickchartButtonEl.style.display =\n",
              "        google.colab.kernel.accessAllowed ? 'block' : 'none';\n",
              "    })();\n",
              "  </script>\n",
              "</div>\n",
              "    </div>\n",
              "  </div>\n"
            ],
            "text/plain": [
              "                          Beer  Username  Location  Rating  \\\n",
              "0  Kentucky Brunch Brand Stout       NaN    Hawaii     5/5   \n",
              "1  Kentucky Brunch Brand Stout       NaN  Michigan     5/5   \n",
              "2  Kentucky Brunch Brand Stout       NaN  Arkansas     5/5   \n",
              "3  Kentucky Brunch Brand Stout       NaN  Colorado  4.67/5   \n",
              "4  Kentucky Brunch Brand Stout       NaN      Iowa     5/5   \n",
              "\n",
              "                                              Review          Date  \\\n",
              "0      Amazing stout, expensive but worth the price!  Aug 06, 2023   \n",
              "1  This beer meet and exceeded all the unreal hyp...  Jul 08, 2023   \n",
              "2  Let it sit and warm to the room a little ... u...  May 17, 2023   \n",
              "3  A small pour, ebony dark, no real head. Intens...  May 12, 2023   \n",
              "4  Vintage 2022, served on tap at Toppling Goliat...  Dec 04, 2022   \n",
              "\n",
              "                                    processed_review  cosine_similarity_spacy  \\\n",
              "0                amazing stout expensive worth price                 0.330812   \n",
              "1      beer meet exceeded unreal hype simply amazing                 0.291398   \n",
              "2              let sit warm room little unbelievable                 0.444795   \n",
              "3  small pour ebony dark real head intense rich a...                 0.652681   \n",
              "4  vintage served tap toppling goliath snulip gla...                 0.716661   \n",
              "\n",
              "   cosine_similarity_countvec  Sentiment_Rating  \\\n",
              "0                      0.0000               1.0   \n",
              "1                      0.0000               2.0   \n",
              "2                      0.0000               3.0   \n",
              "3                      0.1659               3.0   \n",
              "4                      0.0000               2.5   \n",
              "\n",
              "                                              Prompt  \n",
              "0  Rate the sentiment of the following text on a ...  \n",
              "1  Rate the sentiment of the following text on a ...  \n",
              "2  Rate the sentiment of the following text on a ...  \n",
              "3  Rate the sentiment of the following text on a ...  \n",
              "4  Rate the sentiment of the following text on a ...  "
            ]
          },
          "execution_count": 13,
          "metadata": {},
          "output_type": "execute_result"
        }
      ],
      "source": [
        "checkpoint=pd.read_csv(\"checkpoint.csv\")\n",
        "scraped['Sentiment_Rating'], scraped['Prompt'] = checkpoint[\"Sentiment_Rating\"], checkpoint[\"Prompt\"]\n",
        "scraped['Sentiment_Rating'] = pd.to_numeric(scraped['Sentiment_Rating'], errors='coerce')\n",
        "scraped = scraped[~scraped['Sentiment_Rating'].isna()]\n",
        "scraped.head(5)"
      ]
    },
    {
      "cell_type": "markdown",
      "metadata": {
        "id": "NsKqbjntzyUY"
      },
      "source": [
        "## **Task E.**\n",
        "Create an evaluation score for each beer that uses both similarity and sentiment scores.\n",
        "\n",
        "Now **recommend 3 products** to the customer."
      ]
    },
    {
      "cell_type": "code",
      "execution_count": null,
      "metadata": {
        "colab": {
          "base_uri": "https://localhost:8080/"
        },
        "id": "PBfX97FV0nIg",
        "outputId": "7e23508e-d6d3-46be-f0af-f7fba2ed4f8c"
      },
      "outputs": [
        {
          "name": "stdout",
          "output_type": "stream",
          "text": [
            "The three recommended Beers based on the user attribute preferences (BOW) are\n",
            "1.O.W.K.\n",
            "2.Fundamental Observation\n",
            "3.Modem Tones - Bourbon Barrel-Aged - Vanilla\n",
            "\n",
            "The three recommended Beers based on the user attribute preferences (Spacy) are\n",
            "1.Cellarman Barrel Aged Saison\n",
            "2.O.W.K.\n",
            "3.KBS - Maple Mackinac Fudge\n"
          ]
        }
      ],
      "source": [
        "# Recommending 3 products based on cosine similarity\n",
        "scraped[\"Combined_Score_bow\"]=scraped[\"cosine_similarity_countvec\"]*scraped[\"Sentiment_Rating\"]\n",
        "reco1=scraped[[\"Beer\",\"Combined_Score_bow\"]].groupby([\"Beer\"]).mean().reset_index()\\\n",
        "                                        .sort_values(by=\"Combined_Score_bow\",ascending=False)\n",
        "\n",
        "print(f\"\"\"The three recommended Beers based on the user attribute preferences (BOW) are\n",
        "1.{reco1.iloc[0,0]}\n",
        "2.{reco1.iloc[1,0]}\n",
        "3.{reco1.iloc[2,0]}\\n\"\"\")\n",
        "\n",
        "# Recommending 3 products based on cosine similarity\n",
        "\n",
        "scraped[\"Combined_Score_spacy\"]=scraped[\"cosine_similarity_spacy\"]*scraped[\"Sentiment_Rating\"]\n",
        "reco2=scraped[[\"Beer\",\"Combined_Score_spacy\"]].groupby([\"Beer\"]).mean().reset_index()\\\n",
        "                                        .sort_values(by=\"Combined_Score_spacy\",ascending=False)\n",
        "\n",
        "print(f\"\"\"The three recommended Beers based on the user attribute preferences (Spacy) are\n",
        "1.{reco2.iloc[0,0]}\n",
        "2.{reco2.iloc[1,0]}\n",
        "3.{reco2.iloc[2,0]}\"\"\")"
      ]
    },
    {
      "cell_type": "markdown",
      "metadata": {
        "id": "EIKxOlhI0L5u"
      },
      "source": [
        "## **Task F.**\n",
        "How would your recommendation change if you use word vectors (e.g., the spaCy package with medium sized pretrained word vectors) instead of the plain vanilla bag-of-words cosine similarity? One way to analyze the difference would be to consider the % of reviews that mention a preferred attribute. E.g., if you recommend a product, what % of its reviews mention an attribute specified by the customer? Do you see any difference across bag-of-words and word vector approaches? Explain. This article may be useful:\n",
        "\n",
        " https://medium.com/swlh/word-embeddings-versus-bag-of-words-the-curious-case-of-recommender-systems-6ac1604d4424?source=friends_link&sk=d746da9f094d1222a35519387afc6338\n",
        "\n",
        "Note that the article doesn’t claim that bag-of-words will always be better than word embeddings for recommender systems. It lays out conditions under which it is likely to be the case. That is, depending on the attributes you use, you may or may not see the same effect."
      ]
    },
    {
      "cell_type": "code",
      "execution_count": null,
      "metadata": {
        "colab": {
          "base_uri": "https://localhost:8080/",
          "height": 237
        },
        "id": "Tf0DRQA40K5z",
        "outputId": "0e8b9c48-92e1-480d-bdd6-7e5fa6680e1d"
      },
      "outputs": [
        {
          "data": {
            "text/html": [
              "\n",
              "  <div id=\"df-23c05049-0fa0-470c-a520-b4a695197317\" class=\"colab-df-container\">\n",
              "    <div>\n",
              "<style scoped>\n",
              "    .dataframe tbody tr th:only-of-type {\n",
              "        vertical-align: middle;\n",
              "    }\n",
              "\n",
              "    .dataframe tbody tr th {\n",
              "        vertical-align: top;\n",
              "    }\n",
              "\n",
              "    .dataframe thead th {\n",
              "        text-align: right;\n",
              "    }\n",
              "</style>\n",
              "<table border=\"1\" class=\"dataframe\">\n",
              "  <thead>\n",
              "    <tr style=\"text-align: right;\">\n",
              "      <th></th>\n",
              "      <th>Beer</th>\n",
              "      <th>Combined_Score_bow</th>\n",
              "      <th>Combined_Score_spacy</th>\n",
              "    </tr>\n",
              "  </thead>\n",
              "  <tbody>\n",
              "    <tr>\n",
              "      <th>175</th>\n",
              "      <td>O.W.K.</td>\n",
              "      <td>1.087879</td>\n",
              "      <td>NaN</td>\n",
              "    </tr>\n",
              "    <tr>\n",
              "      <th>109</th>\n",
              "      <td>Fundamental Observation</td>\n",
              "      <td>0.877533</td>\n",
              "      <td>NaN</td>\n",
              "    </tr>\n",
              "    <tr>\n",
              "      <th>165</th>\n",
              "      <td>Modem Tones - Bourbon Barrel-Aged - Vanilla</td>\n",
              "      <td>0.851150</td>\n",
              "      <td>NaN</td>\n",
              "    </tr>\n",
              "    <tr>\n",
              "      <th>52</th>\n",
              "      <td>Cellarman Barrel Aged Saison</td>\n",
              "      <td>NaN</td>\n",
              "      <td>3.287321</td>\n",
              "    </tr>\n",
              "    <tr>\n",
              "      <th>175</th>\n",
              "      <td>O.W.K.</td>\n",
              "      <td>NaN</td>\n",
              "      <td>3.273568</td>\n",
              "    </tr>\n",
              "    <tr>\n",
              "      <th>140</th>\n",
              "      <td>KBS - Maple Mackinac Fudge</td>\n",
              "      <td>NaN</td>\n",
              "      <td>3.207576</td>\n",
              "    </tr>\n",
              "  </tbody>\n",
              "</table>\n",
              "</div>\n",
              "    <div class=\"colab-df-buttons\">\n",
              "\n",
              "  <div class=\"colab-df-container\">\n",
              "    <button class=\"colab-df-convert\" onclick=\"convertToInteractive('df-23c05049-0fa0-470c-a520-b4a695197317')\"\n",
              "            title=\"Convert this dataframe to an interactive table.\"\n",
              "            style=\"display:none;\">\n",
              "\n",
              "  <svg xmlns=\"http://www.w3.org/2000/svg\" height=\"24px\" viewBox=\"0 -960 960 960\">\n",
              "    <path d=\"M120-120v-720h720v720H120Zm60-500h600v-160H180v160Zm220 220h160v-160H400v160Zm0 220h160v-160H400v160ZM180-400h160v-160H180v160Zm440 0h160v-160H620v160ZM180-180h160v-160H180v160Zm440 0h160v-160H620v160Z\"/>\n",
              "  </svg>\n",
              "    </button>\n",
              "\n",
              "  <style>\n",
              "    .colab-df-container {\n",
              "      display:flex;\n",
              "      gap: 12px;\n",
              "    }\n",
              "\n",
              "    .colab-df-convert {\n",
              "      background-color: #E8F0FE;\n",
              "      border: none;\n",
              "      border-radius: 50%;\n",
              "      cursor: pointer;\n",
              "      display: none;\n",
              "      fill: #1967D2;\n",
              "      height: 32px;\n",
              "      padding: 0 0 0 0;\n",
              "      width: 32px;\n",
              "    }\n",
              "\n",
              "    .colab-df-convert:hover {\n",
              "      background-color: #E2EBFA;\n",
              "      box-shadow: 0px 1px 2px rgba(60, 64, 67, 0.3), 0px 1px 3px 1px rgba(60, 64, 67, 0.15);\n",
              "      fill: #174EA6;\n",
              "    }\n",
              "\n",
              "    .colab-df-buttons div {\n",
              "      margin-bottom: 4px;\n",
              "    }\n",
              "\n",
              "    [theme=dark] .colab-df-convert {\n",
              "      background-color: #3B4455;\n",
              "      fill: #D2E3FC;\n",
              "    }\n",
              "\n",
              "    [theme=dark] .colab-df-convert:hover {\n",
              "      background-color: #434B5C;\n",
              "      box-shadow: 0px 1px 3px 1px rgba(0, 0, 0, 0.15);\n",
              "      filter: drop-shadow(0px 1px 2px rgba(0, 0, 0, 0.3));\n",
              "      fill: #FFFFFF;\n",
              "    }\n",
              "  </style>\n",
              "\n",
              "    <script>\n",
              "      const buttonEl =\n",
              "        document.querySelector('#df-23c05049-0fa0-470c-a520-b4a695197317 button.colab-df-convert');\n",
              "      buttonEl.style.display =\n",
              "        google.colab.kernel.accessAllowed ? 'block' : 'none';\n",
              "\n",
              "      async function convertToInteractive(key) {\n",
              "        const element = document.querySelector('#df-23c05049-0fa0-470c-a520-b4a695197317');\n",
              "        const dataTable =\n",
              "          await google.colab.kernel.invokeFunction('convertToInteractive',\n",
              "                                                    [key], {});\n",
              "        if (!dataTable) return;\n",
              "\n",
              "        const docLinkHtml = 'Like what you see? Visit the ' +\n",
              "          '<a target=\"_blank\" href=https://colab.research.google.com/notebooks/data_table.ipynb>data table notebook</a>'\n",
              "          + ' to learn more about interactive tables.';\n",
              "        element.innerHTML = '';\n",
              "        dataTable['output_type'] = 'display_data';\n",
              "        await google.colab.output.renderOutput(dataTable, element);\n",
              "        const docLink = document.createElement('div');\n",
              "        docLink.innerHTML = docLinkHtml;\n",
              "        element.appendChild(docLink);\n",
              "      }\n",
              "    </script>\n",
              "  </div>\n",
              "\n",
              "\n",
              "<div id=\"df-ada770f8-03ea-4264-8943-a979b1211633\">\n",
              "  <button class=\"colab-df-quickchart\" onclick=\"quickchart('df-ada770f8-03ea-4264-8943-a979b1211633')\"\n",
              "            title=\"Suggest charts.\"\n",
              "            style=\"display:none;\">\n",
              "\n",
              "<svg xmlns=\"http://www.w3.org/2000/svg\" height=\"24px\"viewBox=\"0 0 24 24\"\n",
              "     width=\"24px\">\n",
              "    <g>\n",
              "        <path d=\"M19 3H5c-1.1 0-2 .9-2 2v14c0 1.1.9 2 2 2h14c1.1 0 2-.9 2-2V5c0-1.1-.9-2-2-2zM9 17H7v-7h2v7zm4 0h-2V7h2v10zm4 0h-2v-4h2v4z\"/>\n",
              "    </g>\n",
              "</svg>\n",
              "  </button>\n",
              "\n",
              "<style>\n",
              "  .colab-df-quickchart {\n",
              "      --bg-color: #E8F0FE;\n",
              "      --fill-color: #1967D2;\n",
              "      --hover-bg-color: #E2EBFA;\n",
              "      --hover-fill-color: #174EA6;\n",
              "      --disabled-fill-color: #AAA;\n",
              "      --disabled-bg-color: #DDD;\n",
              "  }\n",
              "\n",
              "  [theme=dark] .colab-df-quickchart {\n",
              "      --bg-color: #3B4455;\n",
              "      --fill-color: #D2E3FC;\n",
              "      --hover-bg-color: #434B5C;\n",
              "      --hover-fill-color: #FFFFFF;\n",
              "      --disabled-bg-color: #3B4455;\n",
              "      --disabled-fill-color: #666;\n",
              "  }\n",
              "\n",
              "  .colab-df-quickchart {\n",
              "    background-color: var(--bg-color);\n",
              "    border: none;\n",
              "    border-radius: 50%;\n",
              "    cursor: pointer;\n",
              "    display: none;\n",
              "    fill: var(--fill-color);\n",
              "    height: 32px;\n",
              "    padding: 0;\n",
              "    width: 32px;\n",
              "  }\n",
              "\n",
              "  .colab-df-quickchart:hover {\n",
              "    background-color: var(--hover-bg-color);\n",
              "    box-shadow: 0 1px 2px rgba(60, 64, 67, 0.3), 0 1px 3px 1px rgba(60, 64, 67, 0.15);\n",
              "    fill: var(--button-hover-fill-color);\n",
              "  }\n",
              "\n",
              "  .colab-df-quickchart-complete:disabled,\n",
              "  .colab-df-quickchart-complete:disabled:hover {\n",
              "    background-color: var(--disabled-bg-color);\n",
              "    fill: var(--disabled-fill-color);\n",
              "    box-shadow: none;\n",
              "  }\n",
              "\n",
              "  .colab-df-spinner {\n",
              "    border: 2px solid var(--fill-color);\n",
              "    border-color: transparent;\n",
              "    border-bottom-color: var(--fill-color);\n",
              "    animation:\n",
              "      spin 1s steps(1) infinite;\n",
              "  }\n",
              "\n",
              "  @keyframes spin {\n",
              "    0% {\n",
              "      border-color: transparent;\n",
              "      border-bottom-color: var(--fill-color);\n",
              "      border-left-color: var(--fill-color);\n",
              "    }\n",
              "    20% {\n",
              "      border-color: transparent;\n",
              "      border-left-color: var(--fill-color);\n",
              "      border-top-color: var(--fill-color);\n",
              "    }\n",
              "    30% {\n",
              "      border-color: transparent;\n",
              "      border-left-color: var(--fill-color);\n",
              "      border-top-color: var(--fill-color);\n",
              "      border-right-color: var(--fill-color);\n",
              "    }\n",
              "    40% {\n",
              "      border-color: transparent;\n",
              "      border-right-color: var(--fill-color);\n",
              "      border-top-color: var(--fill-color);\n",
              "    }\n",
              "    60% {\n",
              "      border-color: transparent;\n",
              "      border-right-color: var(--fill-color);\n",
              "    }\n",
              "    80% {\n",
              "      border-color: transparent;\n",
              "      border-right-color: var(--fill-color);\n",
              "      border-bottom-color: var(--fill-color);\n",
              "    }\n",
              "    90% {\n",
              "      border-color: transparent;\n",
              "      border-bottom-color: var(--fill-color);\n",
              "    }\n",
              "  }\n",
              "</style>\n",
              "\n",
              "  <script>\n",
              "    async function quickchart(key) {\n",
              "      const quickchartButtonEl =\n",
              "        document.querySelector('#' + key + ' button');\n",
              "      quickchartButtonEl.disabled = true;  // To prevent multiple clicks.\n",
              "      quickchartButtonEl.classList.add('colab-df-spinner');\n",
              "      try {\n",
              "        const charts = await google.colab.kernel.invokeFunction(\n",
              "            'suggestCharts', [key], {});\n",
              "      } catch (error) {\n",
              "        console.error('Error during call to suggestCharts:', error);\n",
              "      }\n",
              "      quickchartButtonEl.classList.remove('colab-df-spinner');\n",
              "      quickchartButtonEl.classList.add('colab-df-quickchart-complete');\n",
              "    }\n",
              "    (() => {\n",
              "      let quickchartButtonEl =\n",
              "        document.querySelector('#df-ada770f8-03ea-4264-8943-a979b1211633 button');\n",
              "      quickchartButtonEl.style.display =\n",
              "        google.colab.kernel.accessAllowed ? 'block' : 'none';\n",
              "    })();\n",
              "  </script>\n",
              "</div>\n",
              "    </div>\n",
              "  </div>\n"
            ],
            "text/plain": [
              "                                            Beer  Combined_Score_bow  \\\n",
              "175                                       O.W.K.            1.087879   \n",
              "109                      Fundamental Observation            0.877533   \n",
              "165  Modem Tones - Bourbon Barrel-Aged - Vanilla            0.851150   \n",
              "52                  Cellarman Barrel Aged Saison                 NaN   \n",
              "175                                       O.W.K.                 NaN   \n",
              "140                   KBS - Maple Mackinac Fudge                 NaN   \n",
              "\n",
              "     Combined_Score_spacy  \n",
              "175                   NaN  \n",
              "109                   NaN  \n",
              "165                   NaN  \n",
              "52               3.287321  \n",
              "175              3.273568  \n",
              "140              3.207576  "
            ]
          },
          "execution_count": 15,
          "metadata": {},
          "output_type": "execute_result"
        }
      ],
      "source": [
        "reco_check=pd.concat([reco1.head(3),reco2.head(3)],axis=0)\n",
        "reco_check"
      ]
    },
    {
      "cell_type": "code",
      "execution_count": null,
      "metadata": {
        "colab": {
          "base_uri": "https://localhost:8080/",
          "height": 237
        },
        "id": "-3vddhh70wEp",
        "outputId": "8a4359a5-fe2d-4cb7-dc71-2d0223a73793"
      },
      "outputs": [
        {
          "data": {
            "text/html": [
              "\n",
              "  <div id=\"df-7bce730c-f915-49b8-84ab-86dca328fc21\" class=\"colab-df-container\">\n",
              "    <div>\n",
              "<style scoped>\n",
              "    .dataframe tbody tr th:only-of-type {\n",
              "        vertical-align: middle;\n",
              "    }\n",
              "\n",
              "    .dataframe tbody tr th {\n",
              "        vertical-align: top;\n",
              "    }\n",
              "\n",
              "    .dataframe thead th {\n",
              "        text-align: right;\n",
              "    }\n",
              "</style>\n",
              "<table border=\"1\" class=\"dataframe\">\n",
              "  <thead>\n",
              "    <tr style=\"text-align: right;\">\n",
              "      <th></th>\n",
              "      <th>Beer</th>\n",
              "      <th>Combined_Score_bow</th>\n",
              "      <th>Combined_Score_spacy</th>\n",
              "      <th>dark</th>\n",
              "      <th>vanilla</th>\n",
              "      <th>orange</th>\n",
              "    </tr>\n",
              "  </thead>\n",
              "  <tbody>\n",
              "    <tr>\n",
              "      <th>3</th>\n",
              "      <td>Modem Tones - Bourbon Barrel-Aged - Vanilla</td>\n",
              "      <td>0.851150</td>\n",
              "      <td>NaN</td>\n",
              "      <td>0.416667</td>\n",
              "      <td>0.833333</td>\n",
              "      <td>0.00</td>\n",
              "    </tr>\n",
              "    <tr>\n",
              "      <th>2</th>\n",
              "      <td>Fundamental Observation</td>\n",
              "      <td>0.877533</td>\n",
              "      <td>NaN</td>\n",
              "      <td>0.541667</td>\n",
              "      <td>0.875000</td>\n",
              "      <td>0.00</td>\n",
              "    </tr>\n",
              "    <tr>\n",
              "      <th>0</th>\n",
              "      <td>O.W.K.</td>\n",
              "      <td>1.087879</td>\n",
              "      <td>NaN</td>\n",
              "      <td>0.222222</td>\n",
              "      <td>0.888889</td>\n",
              "      <td>0.00</td>\n",
              "    </tr>\n",
              "    <tr>\n",
              "      <th>1</th>\n",
              "      <td>O.W.K.</td>\n",
              "      <td>NaN</td>\n",
              "      <td>3.273568</td>\n",
              "      <td>0.222222</td>\n",
              "      <td>0.888889</td>\n",
              "      <td>0.00</td>\n",
              "    </tr>\n",
              "    <tr>\n",
              "      <th>4</th>\n",
              "      <td>Cellarman Barrel Aged Saison</td>\n",
              "      <td>NaN</td>\n",
              "      <td>3.287321</td>\n",
              "      <td>0.080000</td>\n",
              "      <td>0.040000</td>\n",
              "      <td>0.16</td>\n",
              "    </tr>\n",
              "    <tr>\n",
              "      <th>5</th>\n",
              "      <td>KBS - Maple Mackinac Fudge</td>\n",
              "      <td>NaN</td>\n",
              "      <td>3.207576</td>\n",
              "      <td>0.440000</td>\n",
              "      <td>0.400000</td>\n",
              "      <td>0.00</td>\n",
              "    </tr>\n",
              "  </tbody>\n",
              "</table>\n",
              "</div>\n",
              "    <div class=\"colab-df-buttons\">\n",
              "\n",
              "  <div class=\"colab-df-container\">\n",
              "    <button class=\"colab-df-convert\" onclick=\"convertToInteractive('df-7bce730c-f915-49b8-84ab-86dca328fc21')\"\n",
              "            title=\"Convert this dataframe to an interactive table.\"\n",
              "            style=\"display:none;\">\n",
              "\n",
              "  <svg xmlns=\"http://www.w3.org/2000/svg\" height=\"24px\" viewBox=\"0 -960 960 960\">\n",
              "    <path d=\"M120-120v-720h720v720H120Zm60-500h600v-160H180v160Zm220 220h160v-160H400v160Zm0 220h160v-160H400v160ZM180-400h160v-160H180v160Zm440 0h160v-160H620v160ZM180-180h160v-160H180v160Zm440 0h160v-160H620v160Z\"/>\n",
              "  </svg>\n",
              "    </button>\n",
              "\n",
              "  <style>\n",
              "    .colab-df-container {\n",
              "      display:flex;\n",
              "      gap: 12px;\n",
              "    }\n",
              "\n",
              "    .colab-df-convert {\n",
              "      background-color: #E8F0FE;\n",
              "      border: none;\n",
              "      border-radius: 50%;\n",
              "      cursor: pointer;\n",
              "      display: none;\n",
              "      fill: #1967D2;\n",
              "      height: 32px;\n",
              "      padding: 0 0 0 0;\n",
              "      width: 32px;\n",
              "    }\n",
              "\n",
              "    .colab-df-convert:hover {\n",
              "      background-color: #E2EBFA;\n",
              "      box-shadow: 0px 1px 2px rgba(60, 64, 67, 0.3), 0px 1px 3px 1px rgba(60, 64, 67, 0.15);\n",
              "      fill: #174EA6;\n",
              "    }\n",
              "\n",
              "    .colab-df-buttons div {\n",
              "      margin-bottom: 4px;\n",
              "    }\n",
              "\n",
              "    [theme=dark] .colab-df-convert {\n",
              "      background-color: #3B4455;\n",
              "      fill: #D2E3FC;\n",
              "    }\n",
              "\n",
              "    [theme=dark] .colab-df-convert:hover {\n",
              "      background-color: #434B5C;\n",
              "      box-shadow: 0px 1px 3px 1px rgba(0, 0, 0, 0.15);\n",
              "      filter: drop-shadow(0px 1px 2px rgba(0, 0, 0, 0.3));\n",
              "      fill: #FFFFFF;\n",
              "    }\n",
              "  </style>\n",
              "\n",
              "    <script>\n",
              "      const buttonEl =\n",
              "        document.querySelector('#df-7bce730c-f915-49b8-84ab-86dca328fc21 button.colab-df-convert');\n",
              "      buttonEl.style.display =\n",
              "        google.colab.kernel.accessAllowed ? 'block' : 'none';\n",
              "\n",
              "      async function convertToInteractive(key) {\n",
              "        const element = document.querySelector('#df-7bce730c-f915-49b8-84ab-86dca328fc21');\n",
              "        const dataTable =\n",
              "          await google.colab.kernel.invokeFunction('convertToInteractive',\n",
              "                                                    [key], {});\n",
              "        if (!dataTable) return;\n",
              "\n",
              "        const docLinkHtml = 'Like what you see? Visit the ' +\n",
              "          '<a target=\"_blank\" href=https://colab.research.google.com/notebooks/data_table.ipynb>data table notebook</a>'\n",
              "          + ' to learn more about interactive tables.';\n",
              "        element.innerHTML = '';\n",
              "        dataTable['output_type'] = 'display_data';\n",
              "        await google.colab.output.renderOutput(dataTable, element);\n",
              "        const docLink = document.createElement('div');\n",
              "        docLink.innerHTML = docLinkHtml;\n",
              "        element.appendChild(docLink);\n",
              "      }\n",
              "    </script>\n",
              "  </div>\n",
              "\n",
              "\n",
              "<div id=\"df-13ba3122-cbaa-40a1-8dc7-7d613ffae199\">\n",
              "  <button class=\"colab-df-quickchart\" onclick=\"quickchart('df-13ba3122-cbaa-40a1-8dc7-7d613ffae199')\"\n",
              "            title=\"Suggest charts.\"\n",
              "            style=\"display:none;\">\n",
              "\n",
              "<svg xmlns=\"http://www.w3.org/2000/svg\" height=\"24px\"viewBox=\"0 0 24 24\"\n",
              "     width=\"24px\">\n",
              "    <g>\n",
              "        <path d=\"M19 3H5c-1.1 0-2 .9-2 2v14c0 1.1.9 2 2 2h14c1.1 0 2-.9 2-2V5c0-1.1-.9-2-2-2zM9 17H7v-7h2v7zm4 0h-2V7h2v10zm4 0h-2v-4h2v4z\"/>\n",
              "    </g>\n",
              "</svg>\n",
              "  </button>\n",
              "\n",
              "<style>\n",
              "  .colab-df-quickchart {\n",
              "      --bg-color: #E8F0FE;\n",
              "      --fill-color: #1967D2;\n",
              "      --hover-bg-color: #E2EBFA;\n",
              "      --hover-fill-color: #174EA6;\n",
              "      --disabled-fill-color: #AAA;\n",
              "      --disabled-bg-color: #DDD;\n",
              "  }\n",
              "\n",
              "  [theme=dark] .colab-df-quickchart {\n",
              "      --bg-color: #3B4455;\n",
              "      --fill-color: #D2E3FC;\n",
              "      --hover-bg-color: #434B5C;\n",
              "      --hover-fill-color: #FFFFFF;\n",
              "      --disabled-bg-color: #3B4455;\n",
              "      --disabled-fill-color: #666;\n",
              "  }\n",
              "\n",
              "  .colab-df-quickchart {\n",
              "    background-color: var(--bg-color);\n",
              "    border: none;\n",
              "    border-radius: 50%;\n",
              "    cursor: pointer;\n",
              "    display: none;\n",
              "    fill: var(--fill-color);\n",
              "    height: 32px;\n",
              "    padding: 0;\n",
              "    width: 32px;\n",
              "  }\n",
              "\n",
              "  .colab-df-quickchart:hover {\n",
              "    background-color: var(--hover-bg-color);\n",
              "    box-shadow: 0 1px 2px rgba(60, 64, 67, 0.3), 0 1px 3px 1px rgba(60, 64, 67, 0.15);\n",
              "    fill: var(--button-hover-fill-color);\n",
              "  }\n",
              "\n",
              "  .colab-df-quickchart-complete:disabled,\n",
              "  .colab-df-quickchart-complete:disabled:hover {\n",
              "    background-color: var(--disabled-bg-color);\n",
              "    fill: var(--disabled-fill-color);\n",
              "    box-shadow: none;\n",
              "  }\n",
              "\n",
              "  .colab-df-spinner {\n",
              "    border: 2px solid var(--fill-color);\n",
              "    border-color: transparent;\n",
              "    border-bottom-color: var(--fill-color);\n",
              "    animation:\n",
              "      spin 1s steps(1) infinite;\n",
              "  }\n",
              "\n",
              "  @keyframes spin {\n",
              "    0% {\n",
              "      border-color: transparent;\n",
              "      border-bottom-color: var(--fill-color);\n",
              "      border-left-color: var(--fill-color);\n",
              "    }\n",
              "    20% {\n",
              "      border-color: transparent;\n",
              "      border-left-color: var(--fill-color);\n",
              "      border-top-color: var(--fill-color);\n",
              "    }\n",
              "    30% {\n",
              "      border-color: transparent;\n",
              "      border-left-color: var(--fill-color);\n",
              "      border-top-color: var(--fill-color);\n",
              "      border-right-color: var(--fill-color);\n",
              "    }\n",
              "    40% {\n",
              "      border-color: transparent;\n",
              "      border-right-color: var(--fill-color);\n",
              "      border-top-color: var(--fill-color);\n",
              "    }\n",
              "    60% {\n",
              "      border-color: transparent;\n",
              "      border-right-color: var(--fill-color);\n",
              "    }\n",
              "    80% {\n",
              "      border-color: transparent;\n",
              "      border-right-color: var(--fill-color);\n",
              "      border-bottom-color: var(--fill-color);\n",
              "    }\n",
              "    90% {\n",
              "      border-color: transparent;\n",
              "      border-bottom-color: var(--fill-color);\n",
              "    }\n",
              "  }\n",
              "</style>\n",
              "\n",
              "  <script>\n",
              "    async function quickchart(key) {\n",
              "      const quickchartButtonEl =\n",
              "        document.querySelector('#' + key + ' button');\n",
              "      quickchartButtonEl.disabled = true;  // To prevent multiple clicks.\n",
              "      quickchartButtonEl.classList.add('colab-df-spinner');\n",
              "      try {\n",
              "        const charts = await google.colab.kernel.invokeFunction(\n",
              "            'suggestCharts', [key], {});\n",
              "      } catch (error) {\n",
              "        console.error('Error during call to suggestCharts:', error);\n",
              "      }\n",
              "      quickchartButtonEl.classList.remove('colab-df-spinner');\n",
              "      quickchartButtonEl.classList.add('colab-df-quickchart-complete');\n",
              "    }\n",
              "    (() => {\n",
              "      let quickchartButtonEl =\n",
              "        document.querySelector('#df-13ba3122-cbaa-40a1-8dc7-7d613ffae199 button');\n",
              "      quickchartButtonEl.style.display =\n",
              "        google.colab.kernel.accessAllowed ? 'block' : 'none';\n",
              "    })();\n",
              "  </script>\n",
              "</div>\n",
              "    </div>\n",
              "  </div>\n"
            ],
            "text/plain": [
              "                                          Beer  Combined_Score_bow  \\\n",
              "3  Modem Tones - Bourbon Barrel-Aged - Vanilla            0.851150   \n",
              "2                      Fundamental Observation            0.877533   \n",
              "0                                       O.W.K.            1.087879   \n",
              "1                                       O.W.K.                 NaN   \n",
              "4                 Cellarman Barrel Aged Saison                 NaN   \n",
              "5                   KBS - Maple Mackinac Fudge                 NaN   \n",
              "\n",
              "   Combined_Score_spacy      dark   vanilla  orange  \n",
              "3                   NaN  0.416667  0.833333    0.00  \n",
              "2                   NaN  0.541667  0.875000    0.00  \n",
              "0                   NaN  0.222222  0.888889    0.00  \n",
              "1              3.273568  0.222222  0.888889    0.00  \n",
              "4              3.287321  0.080000  0.040000    0.16  \n",
              "5              3.207576  0.440000  0.400000    0.00  "
            ]
          },
          "execution_count": 16,
          "metadata": {},
          "output_type": "execute_result"
        }
      ],
      "source": [
        "for word in user_selection.iloc[:,0]:\n",
        "    scraped[word] = scraped['processed_review'].str.contains(word, case=False).astype(int)\n",
        "\n",
        "word_freq=scraped[list(user_selection.iloc[:,0])+[\"Beer\"]].groupby(\"Beer\").mean().reset_index()\n",
        "\n",
        "reco_check.merge(word_freq,how=\"inner\",on=\"Beer\").sort_values(by=\"Combined_Score_bow\")"
      ]
    },
    {
      "cell_type": "code",
      "execution_count": null,
      "metadata": {
        "colab": {
          "base_uri": "https://localhost:8080/",
          "height": 143
        },
        "id": "eR25gBK5edJc",
        "outputId": "81767620-b0bc-4b89-ce0e-c7abd5828738"
      },
      "outputs": [
        {
          "data": {
            "text/html": [
              "\n",
              "  <div id=\"df-494c48f8-1711-4902-8f40-b69375dcafd9\" class=\"colab-df-container\">\n",
              "    <div>\n",
              "<style scoped>\n",
              "    .dataframe tbody tr th:only-of-type {\n",
              "        vertical-align: middle;\n",
              "    }\n",
              "\n",
              "    .dataframe tbody tr th {\n",
              "        vertical-align: top;\n",
              "    }\n",
              "\n",
              "    .dataframe thead th {\n",
              "        text-align: right;\n",
              "    }\n",
              "</style>\n",
              "<table border=\"1\" class=\"dataframe\">\n",
              "  <thead>\n",
              "    <tr style=\"text-align: right;\">\n",
              "      <th></th>\n",
              "      <th>dark</th>\n",
              "      <th>vanilla</th>\n",
              "      <th>orange</th>\n",
              "      <th>Row_Average</th>\n",
              "    </tr>\n",
              "    <tr>\n",
              "      <th>Tag</th>\n",
              "      <th></th>\n",
              "      <th></th>\n",
              "      <th></th>\n",
              "      <th></th>\n",
              "    </tr>\n",
              "  </thead>\n",
              "  <tbody>\n",
              "    <tr>\n",
              "      <th>BOW</th>\n",
              "      <td>0.393519</td>\n",
              "      <td>0.865741</td>\n",
              "      <td>0.000000</td>\n",
              "      <td>0.419753</td>\n",
              "    </tr>\n",
              "    <tr>\n",
              "      <th>Spacy</th>\n",
              "      <td>0.247407</td>\n",
              "      <td>0.442963</td>\n",
              "      <td>0.053333</td>\n",
              "      <td>0.247901</td>\n",
              "    </tr>\n",
              "  </tbody>\n",
              "</table>\n",
              "</div>\n",
              "    <div class=\"colab-df-buttons\">\n",
              "\n",
              "  <div class=\"colab-df-container\">\n",
              "    <button class=\"colab-df-convert\" onclick=\"convertToInteractive('df-494c48f8-1711-4902-8f40-b69375dcafd9')\"\n",
              "            title=\"Convert this dataframe to an interactive table.\"\n",
              "            style=\"display:none;\">\n",
              "\n",
              "  <svg xmlns=\"http://www.w3.org/2000/svg\" height=\"24px\" viewBox=\"0 -960 960 960\">\n",
              "    <path d=\"M120-120v-720h720v720H120Zm60-500h600v-160H180v160Zm220 220h160v-160H400v160Zm0 220h160v-160H400v160ZM180-400h160v-160H180v160Zm440 0h160v-160H620v160ZM180-180h160v-160H180v160Zm440 0h160v-160H620v160Z\"/>\n",
              "  </svg>\n",
              "    </button>\n",
              "\n",
              "  <style>\n",
              "    .colab-df-container {\n",
              "      display:flex;\n",
              "      gap: 12px;\n",
              "    }\n",
              "\n",
              "    .colab-df-convert {\n",
              "      background-color: #E8F0FE;\n",
              "      border: none;\n",
              "      border-radius: 50%;\n",
              "      cursor: pointer;\n",
              "      display: none;\n",
              "      fill: #1967D2;\n",
              "      height: 32px;\n",
              "      padding: 0 0 0 0;\n",
              "      width: 32px;\n",
              "    }\n",
              "\n",
              "    .colab-df-convert:hover {\n",
              "      background-color: #E2EBFA;\n",
              "      box-shadow: 0px 1px 2px rgba(60, 64, 67, 0.3), 0px 1px 3px 1px rgba(60, 64, 67, 0.15);\n",
              "      fill: #174EA6;\n",
              "    }\n",
              "\n",
              "    .colab-df-buttons div {\n",
              "      margin-bottom: 4px;\n",
              "    }\n",
              "\n",
              "    [theme=dark] .colab-df-convert {\n",
              "      background-color: #3B4455;\n",
              "      fill: #D2E3FC;\n",
              "    }\n",
              "\n",
              "    [theme=dark] .colab-df-convert:hover {\n",
              "      background-color: #434B5C;\n",
              "      box-shadow: 0px 1px 3px 1px rgba(0, 0, 0, 0.15);\n",
              "      filter: drop-shadow(0px 1px 2px rgba(0, 0, 0, 0.3));\n",
              "      fill: #FFFFFF;\n",
              "    }\n",
              "  </style>\n",
              "\n",
              "    <script>\n",
              "      const buttonEl =\n",
              "        document.querySelector('#df-494c48f8-1711-4902-8f40-b69375dcafd9 button.colab-df-convert');\n",
              "      buttonEl.style.display =\n",
              "        google.colab.kernel.accessAllowed ? 'block' : 'none';\n",
              "\n",
              "      async function convertToInteractive(key) {\n",
              "        const element = document.querySelector('#df-494c48f8-1711-4902-8f40-b69375dcafd9');\n",
              "        const dataTable =\n",
              "          await google.colab.kernel.invokeFunction('convertToInteractive',\n",
              "                                                    [key], {});\n",
              "        if (!dataTable) return;\n",
              "\n",
              "        const docLinkHtml = 'Like what you see? Visit the ' +\n",
              "          '<a target=\"_blank\" href=https://colab.research.google.com/notebooks/data_table.ipynb>data table notebook</a>'\n",
              "          + ' to learn more about interactive tables.';\n",
              "        element.innerHTML = '';\n",
              "        dataTable['output_type'] = 'display_data';\n",
              "        await google.colab.output.renderOutput(dataTable, element);\n",
              "        const docLink = document.createElement('div');\n",
              "        docLink.innerHTML = docLinkHtml;\n",
              "        element.appendChild(docLink);\n",
              "      }\n",
              "    </script>\n",
              "  </div>\n",
              "\n",
              "\n",
              "<div id=\"df-6d201631-acd4-430a-9aee-dfede72fd0a7\">\n",
              "  <button class=\"colab-df-quickchart\" onclick=\"quickchart('df-6d201631-acd4-430a-9aee-dfede72fd0a7')\"\n",
              "            title=\"Suggest charts.\"\n",
              "            style=\"display:none;\">\n",
              "\n",
              "<svg xmlns=\"http://www.w3.org/2000/svg\" height=\"24px\"viewBox=\"0 0 24 24\"\n",
              "     width=\"24px\">\n",
              "    <g>\n",
              "        <path d=\"M19 3H5c-1.1 0-2 .9-2 2v14c0 1.1.9 2 2 2h14c1.1 0 2-.9 2-2V5c0-1.1-.9-2-2-2zM9 17H7v-7h2v7zm4 0h-2V7h2v10zm4 0h-2v-4h2v4z\"/>\n",
              "    </g>\n",
              "</svg>\n",
              "  </button>\n",
              "\n",
              "<style>\n",
              "  .colab-df-quickchart {\n",
              "      --bg-color: #E8F0FE;\n",
              "      --fill-color: #1967D2;\n",
              "      --hover-bg-color: #E2EBFA;\n",
              "      --hover-fill-color: #174EA6;\n",
              "      --disabled-fill-color: #AAA;\n",
              "      --disabled-bg-color: #DDD;\n",
              "  }\n",
              "\n",
              "  [theme=dark] .colab-df-quickchart {\n",
              "      --bg-color: #3B4455;\n",
              "      --fill-color: #D2E3FC;\n",
              "      --hover-bg-color: #434B5C;\n",
              "      --hover-fill-color: #FFFFFF;\n",
              "      --disabled-bg-color: #3B4455;\n",
              "      --disabled-fill-color: #666;\n",
              "  }\n",
              "\n",
              "  .colab-df-quickchart {\n",
              "    background-color: var(--bg-color);\n",
              "    border: none;\n",
              "    border-radius: 50%;\n",
              "    cursor: pointer;\n",
              "    display: none;\n",
              "    fill: var(--fill-color);\n",
              "    height: 32px;\n",
              "    padding: 0;\n",
              "    width: 32px;\n",
              "  }\n",
              "\n",
              "  .colab-df-quickchart:hover {\n",
              "    background-color: var(--hover-bg-color);\n",
              "    box-shadow: 0 1px 2px rgba(60, 64, 67, 0.3), 0 1px 3px 1px rgba(60, 64, 67, 0.15);\n",
              "    fill: var(--button-hover-fill-color);\n",
              "  }\n",
              "\n",
              "  .colab-df-quickchart-complete:disabled,\n",
              "  .colab-df-quickchart-complete:disabled:hover {\n",
              "    background-color: var(--disabled-bg-color);\n",
              "    fill: var(--disabled-fill-color);\n",
              "    box-shadow: none;\n",
              "  }\n",
              "\n",
              "  .colab-df-spinner {\n",
              "    border: 2px solid var(--fill-color);\n",
              "    border-color: transparent;\n",
              "    border-bottom-color: var(--fill-color);\n",
              "    animation:\n",
              "      spin 1s steps(1) infinite;\n",
              "  }\n",
              "\n",
              "  @keyframes spin {\n",
              "    0% {\n",
              "      border-color: transparent;\n",
              "      border-bottom-color: var(--fill-color);\n",
              "      border-left-color: var(--fill-color);\n",
              "    }\n",
              "    20% {\n",
              "      border-color: transparent;\n",
              "      border-left-color: var(--fill-color);\n",
              "      border-top-color: var(--fill-color);\n",
              "    }\n",
              "    30% {\n",
              "      border-color: transparent;\n",
              "      border-left-color: var(--fill-color);\n",
              "      border-top-color: var(--fill-color);\n",
              "      border-right-color: var(--fill-color);\n",
              "    }\n",
              "    40% {\n",
              "      border-color: transparent;\n",
              "      border-right-color: var(--fill-color);\n",
              "      border-top-color: var(--fill-color);\n",
              "    }\n",
              "    60% {\n",
              "      border-color: transparent;\n",
              "      border-right-color: var(--fill-color);\n",
              "    }\n",
              "    80% {\n",
              "      border-color: transparent;\n",
              "      border-right-color: var(--fill-color);\n",
              "      border-bottom-color: var(--fill-color);\n",
              "    }\n",
              "    90% {\n",
              "      border-color: transparent;\n",
              "      border-bottom-color: var(--fill-color);\n",
              "    }\n",
              "  }\n",
              "</style>\n",
              "\n",
              "  <script>\n",
              "    async function quickchart(key) {\n",
              "      const quickchartButtonEl =\n",
              "        document.querySelector('#' + key + ' button');\n",
              "      quickchartButtonEl.disabled = true;  // To prevent multiple clicks.\n",
              "      quickchartButtonEl.classList.add('colab-df-spinner');\n",
              "      try {\n",
              "        const charts = await google.colab.kernel.invokeFunction(\n",
              "            'suggestCharts', [key], {});\n",
              "      } catch (error) {\n",
              "        console.error('Error during call to suggestCharts:', error);\n",
              "      }\n",
              "      quickchartButtonEl.classList.remove('colab-df-spinner');\n",
              "      quickchartButtonEl.classList.add('colab-df-quickchart-complete');\n",
              "    }\n",
              "    (() => {\n",
              "      let quickchartButtonEl =\n",
              "        document.querySelector('#df-6d201631-acd4-430a-9aee-dfede72fd0a7 button');\n",
              "      quickchartButtonEl.style.display =\n",
              "        google.colab.kernel.accessAllowed ? 'block' : 'none';\n",
              "    })();\n",
              "  </script>\n",
              "</div>\n",
              "    </div>\n",
              "  </div>\n"
            ],
            "text/plain": [
              "           dark   vanilla    orange  Row_Average\n",
              "Tag                                             \n",
              "BOW    0.393519  0.865741  0.000000     0.419753\n",
              "Spacy  0.247407  0.442963  0.053333     0.247901"
            ]
          },
          "execution_count": 18,
          "metadata": {},
          "output_type": "execute_result"
        }
      ],
      "source": [
        "temp_df = reco_check.merge(word_freq,how=\"inner\",on=\"Beer\").sort_values(by=\"Combined_Score_bow\")\n",
        "temp_df[\"Tag\"] = \"INT\"\n",
        "temp_df.loc[~temp_df[\"Combined_Score_bow\"].isna(), \"Tag\"] = \"BOW\"\n",
        "temp_df.loc[temp_df[\"Combined_Score_bow\"].isna(), \"Tag\"] = \"Spacy\"\n",
        "aggre=temp_df[[\"Tag\"]+list(user_selection.iloc[:,0])].groupby(\"Tag\").mean().copy(deep=True)\n",
        "aggre['Row_Average'] = aggre[list(user_selection.iloc[:,0])].mean(axis=1)\n",
        "aggre"
      ]
    },
    {
      "cell_type": "markdown",
      "metadata": {
        "id": "nFUuaJrpnyDr"
      },
      "source": [
        "We can see that from the Row_Average value that the frequency of occurence of the user selected attributes is higher in the BOW cosine similarity, this is expected as BOW does a strict word matching compared to spaCy that uses word embedding vectors. Since spaCy embedding cosine simlarity tries to match similar words, one has to ensure that the word embedding vectors are suitable for the activity (beer recommender in this case).\n",
        "To give an exaample, dark may have different meanings in general day to day use, and may have a different meaning when it comes to beers."
      ]
    },
    {
      "cell_type": "markdown",
      "metadata": {
        "id": "THBouAeT1RQ2"
      },
      "source": [
        "## **Task G.**\n",
        "How would your recommendations differ if you ignored the similarity and feature sentiment scores and simply chose the 3 highest rated products from your entire dataset? Would these products meet the requirements of the user looking for recommendations? Why or why not? Justify your answer with analysis. Use the similarity and sentiment scores as well as overall ratings to answer this question."
      ]
    },
    {
      "cell_type": "code",
      "execution_count": null,
      "metadata": {
        "id": "wqe-ugpe1fuq"
      },
      "outputs": [],
      "source": [
        "scraped[\"Rating\"] = pd.to_numeric(scraped[\"Rating\"].str.replace(\"/5\", \"\"))"
      ]
    },
    {
      "cell_type": "code",
      "execution_count": null,
      "metadata": {
        "colab": {
          "base_uri": "https://localhost:8080/"
        },
        "id": "OLXydD7jh45x",
        "outputId": "ebdc5103-f13b-44e9-f72d-fdbfbc6f6bbe"
      },
      "outputs": [
        {
          "data": {
            "text/plain": [
              "Beer\n",
              "O.W.K.                                                 4.923333\n",
              "Kentucky Brunch Brand Stout - Double Barrel Reserve    4.864000\n",
              "Vanilla Bean Assassin                                  4.834400\n",
              "Name: Rating, dtype: float64"
            ]
          },
          "execution_count": 20,
          "metadata": {},
          "output_type": "execute_result"
        }
      ],
      "source": [
        "scraped_average = scraped.groupby([\"Beer\"])[\"Rating\"].agg(\"mean\").sort_values(ascending = False)[:3]\n",
        "scraped_average"
      ]
    },
    {
      "cell_type": "code",
      "execution_count": null,
      "metadata": {
        "colab": {
          "base_uri": "https://localhost:8080/"
        },
        "id": "Yvor4VEFh6EN",
        "outputId": "86074a24-5363-48bc-b137-89f917ac7e59"
      },
      "outputs": [
        {
          "data": {
            "text/plain": [
              "Beer\n",
              "O.W.K.                                         1.087879\n",
              "Fundamental Observation                        0.877533\n",
              "Modem Tones - Bourbon Barrel-Aged - Vanilla    0.851150\n",
              "Name: Combined_Score_bow, dtype: float64"
            ]
          },
          "execution_count": 21,
          "metadata": {},
          "output_type": "execute_result"
        }
      ],
      "source": [
        "bow_scores = scraped.groupby([\"Beer\"])[\"Combined_Score_bow\"].agg(\"mean\").sort_values(ascending = False)[:3]\n",
        "bow_scores"
      ]
    },
    {
      "cell_type": "code",
      "execution_count": null,
      "metadata": {
        "colab": {
          "base_uri": "https://localhost:8080/"
        },
        "id": "VMCpWOaWh8VG",
        "outputId": "cb76086c-9cab-4365-ca02-f2c1387afc60"
      },
      "outputs": [
        {
          "data": {
            "text/plain": [
              "Beer\n",
              "Cellarman Barrel Aged Saison    3.287321\n",
              "O.W.K.                          3.273568\n",
              "KBS - Maple Mackinac Fudge      3.207576\n",
              "Name: Combined_Score_spacy, dtype: float64"
            ]
          },
          "execution_count": 22,
          "metadata": {},
          "output_type": "execute_result"
        }
      ],
      "source": [
        "spacy_scores = scraped.groupby([\"Beer\"])[\"Combined_Score_spacy\"].agg(\"mean\").sort_values(ascending = False)[:3]\n",
        "spacy_scores"
      ]
    },
    {
      "cell_type": "markdown",
      "metadata": {
        "id": "Ya0jSPCdiDV4"
      },
      "source": [
        "The recommendations generated by the three different approaches exhibit significant disparities, as demonstrated above. It is clear that relying solely on recommendations based on user ratings would yield generic results, as it neglects the nuanced sentiment conveyed in user reviews. Moreover, there is a plausible scenario where highly-rated beers may not align with the specific attributes of interest to the user.\n",
        "\n",
        "To obtain more refined and personalized recommendations that account for sentiment analysis and the user's specified attributes, it is advisable to give precedence to recommendations derived from either the Bag of Words (BoW) or cosine similarity methods. These approaches incorporate sentiment analysis from reviews, thereby enhancing the relevance and alignment of the recommendations with the user's preferences. Such an approach ensures a more tailored and satisfactory user experience in the domain of beer recommendations."
      ]
    },
    {
      "cell_type": "markdown",
      "metadata": {
        "id": "2VL35TkC1ghp"
      },
      "source": [
        "##**Task H.**\n",
        "Using the top four attributes of beer (from word frequency analysis), calculate the lifts between these attributes and any 10 beers in your data. Choose one beer, and find the most similar beer (among the remaining 9) using the lift values. Explain your method."
      ]
    },
    {
      "cell_type": "markdown",
      "metadata": {
        "id": "yDx_oNRSiejM"
      },
      "source": [
        "# Method 1: Cosine Similarity"
      ]
    },
    {
      "cell_type": "code",
      "execution_count": null,
      "metadata": {
        "colab": {
          "base_uri": "https://localhost:8080/"
        },
        "id": "9JMX2AeCikkj",
        "outputId": "3966a6f8-592b-4dc3-baaf-a2b7332b6db7"
      },
      "outputs": [
        {
          "name": "stderr",
          "output_type": "stream",
          "text": [
            "<ipython-input-32-122f10ca96a5>:17: SettingWithCopyWarning: \n",
            "A value is trying to be set on a copy of a slice from a DataFrame.\n",
            "Try using .loc[row_indexer,col_indexer] = value instead\n",
            "\n",
            "See the caveats in the documentation: https://pandas.pydata.org/pandas-docs/stable/user_guide/indexing.html#returning-a-view-versus-a-copy\n",
            "  beersLiftAnalysis['liftText'] = beersLiftAnalysis['Beer'] + ' : ' + beersLiftAnalysis['Review']\n"
          ]
        }
      ],
      "source": [
        "# List of 10 random beers\n",
        "random10Beers = ['Popinski - Bourbon Barrel-Aged - Peanut Butter And Marshmallow',\n",
        " 'Zenne Y Frontera',\n",
        " 'Space Trace',\n",
        " 'Label Us Notorious - Calvados BA Big Poppa',\n",
        " 'Samuel',\n",
        " 'Oude Fermier',\n",
        " 'Abt 12',\n",
        " 'Hold On To Sunshine',\n",
        " 'Speedway Stout - Vietnamese Coffee - Bourbon-Barrel Aged',\n",
        " 'Very Hazy']\n",
        "\n",
        "# df with only 10 beers reviews\n",
        "beersLiftAnalysis = scraped[scraped.Beer.isin(random10Beers)]\n",
        "\n",
        "# Making a new column by concatenating Beer and review\n",
        "beersLiftAnalysis['liftText'] = beersLiftAnalysis['Beer'] + ' : ' + beersLiftAnalysis['Review']"
      ]
    },
    {
      "cell_type": "code",
      "execution_count": null,
      "metadata": {
        "colab": {
          "base_uri": "https://localhost:8080/"
        },
        "id": "o3b8sHHajm2d",
        "outputId": "dcbdbd5c-2324-4183-f015-476c961db036"
      },
      "outputs": [
        {
          "name": "stderr",
          "output_type": "stream",
          "text": [
            "<ipython-input-33-c9a49ae7e7b8>:3: SettingWithCopyWarning: \n",
            "A value is trying to be set on a copy of a slice from a DataFrame.\n",
            "Try using .loc[row_indexer,col_indexer] = value instead\n",
            "\n",
            "See the caveats in the documentation: https://pandas.pydata.org/pandas-docs/stable/user_guide/indexing.html#returning-a-view-versus-a-copy\n",
            "  df_lift['Tokens'] = df_lift['Review'].apply(nltk.word_tokenize)\n",
            "<ipython-input-33-c9a49ae7e7b8>:19: SettingWithCopyWarning: \n",
            "A value is trying to be set on a copy of a slice from a DataFrame.\n",
            "Try using .loc[row_indexer,col_indexer] = value instead\n",
            "\n",
            "See the caveats in the documentation: https://pandas.pydata.org/pandas-docs/stable/user_guide/indexing.html#returning-a-view-versus-a-copy\n",
            "  df_lift['Cleansed'] = df_lift['Tokens'].apply(cleanse_tokens)\n"
          ]
        }
      ],
      "source": [
        "df_lift = beersLiftAnalysis[['Beer','Review']]\n",
        "# Tokenizing the words in messages\n",
        "df_lift['Tokens'] = df_lift['Review'].apply(nltk.word_tokenize)\n",
        "\n",
        "# should we lemmatize words?, like dark, darker, darkest all these mentions would be similar\n",
        "#lemmatizer = WordNetLemmatizer()\n",
        "\n",
        "# Define a function to cleanse the tokens\n",
        "def cleanse_tokens(tokens):\n",
        "    stop_words = set(stopwords.words('english'))\n",
        "    punctuation = set(string.punctuation)\n",
        "\n",
        "    # Remove stop words, non-alphanumeric tokens, and punctuation\n",
        "    cleansed_tokens = [token.lower() for token in tokens if token.lower() not in stop_words and token.isalnum() and token not in punctuation]\n",
        "\n",
        "    return cleansed_tokens\n",
        "\n",
        "# Apply the cleansing function to the 'Tokens' column\n",
        "df_lift['Cleansed'] = df_lift['Tokens'].apply(cleanse_tokens)"
      ]
    },
    {
      "cell_type": "code",
      "execution_count": null,
      "metadata": {
        "colab": {
          "base_uri": "https://localhost:8080/",
          "height": 206
        },
        "id": "oltIAj1pjxT4",
        "outputId": "6f82b4cf-d197-413c-cd01-99e9832e5262"
      },
      "outputs": [
        {
          "data": {
            "text/html": [
              "\n",
              "  <div id=\"df-f0d8ec2e-3305-4a27-903a-9402e3c3672b\" class=\"colab-df-container\">\n",
              "    <div>\n",
              "<style scoped>\n",
              "    .dataframe tbody tr th:only-of-type {\n",
              "        vertical-align: middle;\n",
              "    }\n",
              "\n",
              "    .dataframe tbody tr th {\n",
              "        vertical-align: top;\n",
              "    }\n",
              "\n",
              "    .dataframe thead th {\n",
              "        text-align: right;\n",
              "    }\n",
              "</style>\n",
              "<table border=\"1\" class=\"dataframe\">\n",
              "  <thead>\n",
              "    <tr style=\"text-align: right;\">\n",
              "      <th></th>\n",
              "      <th>Beer</th>\n",
              "      <th>Attribute</th>\n",
              "    </tr>\n",
              "  </thead>\n",
              "  <tbody>\n",
              "    <tr>\n",
              "      <th>0</th>\n",
              "      <td>Zenne Y Frontera</td>\n",
              "      <td>head</td>\n",
              "    </tr>\n",
              "    <tr>\n",
              "      <th>1</th>\n",
              "      <td>Zenne Y Frontera</td>\n",
              "      <td>chocolate</td>\n",
              "    </tr>\n",
              "    <tr>\n",
              "      <th>2</th>\n",
              "      <td>Zenne Y Frontera</td>\n",
              "      <td>dark</td>\n",
              "    </tr>\n",
              "    <tr>\n",
              "      <th>3</th>\n",
              "      <td>Zenne Y Frontera</td>\n",
              "      <td>notes</td>\n",
              "    </tr>\n",
              "    <tr>\n",
              "      <th>4</th>\n",
              "      <td>Very Hazy</td>\n",
              "      <td>head</td>\n",
              "    </tr>\n",
              "  </tbody>\n",
              "</table>\n",
              "</div>\n",
              "    <div class=\"colab-df-buttons\">\n",
              "\n",
              "  <div class=\"colab-df-container\">\n",
              "    <button class=\"colab-df-convert\" onclick=\"convertToInteractive('df-f0d8ec2e-3305-4a27-903a-9402e3c3672b')\"\n",
              "            title=\"Convert this dataframe to an interactive table.\"\n",
              "            style=\"display:none;\">\n",
              "\n",
              "  <svg xmlns=\"http://www.w3.org/2000/svg\" height=\"24px\" viewBox=\"0 -960 960 960\">\n",
              "    <path d=\"M120-120v-720h720v720H120Zm60-500h600v-160H180v160Zm220 220h160v-160H400v160Zm0 220h160v-160H400v160ZM180-400h160v-160H180v160Zm440 0h160v-160H620v160ZM180-180h160v-160H180v160Zm440 0h160v-160H620v160Z\"/>\n",
              "  </svg>\n",
              "    </button>\n",
              "\n",
              "  <style>\n",
              "    .colab-df-container {\n",
              "      display:flex;\n",
              "      gap: 12px;\n",
              "    }\n",
              "\n",
              "    .colab-df-convert {\n",
              "      background-color: #E8F0FE;\n",
              "      border: none;\n",
              "      border-radius: 50%;\n",
              "      cursor: pointer;\n",
              "      display: none;\n",
              "      fill: #1967D2;\n",
              "      height: 32px;\n",
              "      padding: 0 0 0 0;\n",
              "      width: 32px;\n",
              "    }\n",
              "\n",
              "    .colab-df-convert:hover {\n",
              "      background-color: #E2EBFA;\n",
              "      box-shadow: 0px 1px 2px rgba(60, 64, 67, 0.3), 0px 1px 3px 1px rgba(60, 64, 67, 0.15);\n",
              "      fill: #174EA6;\n",
              "    }\n",
              "\n",
              "    .colab-df-buttons div {\n",
              "      margin-bottom: 4px;\n",
              "    }\n",
              "\n",
              "    [theme=dark] .colab-df-convert {\n",
              "      background-color: #3B4455;\n",
              "      fill: #D2E3FC;\n",
              "    }\n",
              "\n",
              "    [theme=dark] .colab-df-convert:hover {\n",
              "      background-color: #434B5C;\n",
              "      box-shadow: 0px 1px 3px 1px rgba(0, 0, 0, 0.15);\n",
              "      filter: drop-shadow(0px 1px 2px rgba(0, 0, 0, 0.3));\n",
              "      fill: #FFFFFF;\n",
              "    }\n",
              "  </style>\n",
              "\n",
              "    <script>\n",
              "      const buttonEl =\n",
              "        document.querySelector('#df-f0d8ec2e-3305-4a27-903a-9402e3c3672b button.colab-df-convert');\n",
              "      buttonEl.style.display =\n",
              "        google.colab.kernel.accessAllowed ? 'block' : 'none';\n",
              "\n",
              "      async function convertToInteractive(key) {\n",
              "        const element = document.querySelector('#df-f0d8ec2e-3305-4a27-903a-9402e3c3672b');\n",
              "        const dataTable =\n",
              "          await google.colab.kernel.invokeFunction('convertToInteractive',\n",
              "                                                    [key], {});\n",
              "        if (!dataTable) return;\n",
              "\n",
              "        const docLinkHtml = 'Like what you see? Visit the ' +\n",
              "          '<a target=\"_blank\" href=https://colab.research.google.com/notebooks/data_table.ipynb>data table notebook</a>'\n",
              "          + ' to learn more about interactive tables.';\n",
              "        element.innerHTML = '';\n",
              "        dataTable['output_type'] = 'display_data';\n",
              "        await google.colab.output.renderOutput(dataTable, element);\n",
              "        const docLink = document.createElement('div');\n",
              "        docLink.innerHTML = docLinkHtml;\n",
              "        element.appendChild(docLink);\n",
              "      }\n",
              "    </script>\n",
              "  </div>\n",
              "\n",
              "\n",
              "<div id=\"df-20485057-740c-4858-9f35-49462cbaea51\">\n",
              "  <button class=\"colab-df-quickchart\" onclick=\"quickchart('df-20485057-740c-4858-9f35-49462cbaea51')\"\n",
              "            title=\"Suggest charts.\"\n",
              "            style=\"display:none;\">\n",
              "\n",
              "<svg xmlns=\"http://www.w3.org/2000/svg\" height=\"24px\"viewBox=\"0 0 24 24\"\n",
              "     width=\"24px\">\n",
              "    <g>\n",
              "        <path d=\"M19 3H5c-1.1 0-2 .9-2 2v14c0 1.1.9 2 2 2h14c1.1 0 2-.9 2-2V5c0-1.1-.9-2-2-2zM9 17H7v-7h2v7zm4 0h-2V7h2v10zm4 0h-2v-4h2v4z\"/>\n",
              "    </g>\n",
              "</svg>\n",
              "  </button>\n",
              "\n",
              "<style>\n",
              "  .colab-df-quickchart {\n",
              "      --bg-color: #E8F0FE;\n",
              "      --fill-color: #1967D2;\n",
              "      --hover-bg-color: #E2EBFA;\n",
              "      --hover-fill-color: #174EA6;\n",
              "      --disabled-fill-color: #AAA;\n",
              "      --disabled-bg-color: #DDD;\n",
              "  }\n",
              "\n",
              "  [theme=dark] .colab-df-quickchart {\n",
              "      --bg-color: #3B4455;\n",
              "      --fill-color: #D2E3FC;\n",
              "      --hover-bg-color: #434B5C;\n",
              "      --hover-fill-color: #FFFFFF;\n",
              "      --disabled-bg-color: #3B4455;\n",
              "      --disabled-fill-color: #666;\n",
              "  }\n",
              "\n",
              "  .colab-df-quickchart {\n",
              "    background-color: var(--bg-color);\n",
              "    border: none;\n",
              "    border-radius: 50%;\n",
              "    cursor: pointer;\n",
              "    display: none;\n",
              "    fill: var(--fill-color);\n",
              "    height: 32px;\n",
              "    padding: 0;\n",
              "    width: 32px;\n",
              "  }\n",
              "\n",
              "  .colab-df-quickchart:hover {\n",
              "    background-color: var(--hover-bg-color);\n",
              "    box-shadow: 0 1px 2px rgba(60, 64, 67, 0.3), 0 1px 3px 1px rgba(60, 64, 67, 0.15);\n",
              "    fill: var(--button-hover-fill-color);\n",
              "  }\n",
              "\n",
              "  .colab-df-quickchart-complete:disabled,\n",
              "  .colab-df-quickchart-complete:disabled:hover {\n",
              "    background-color: var(--disabled-bg-color);\n",
              "    fill: var(--disabled-fill-color);\n",
              "    box-shadow: none;\n",
              "  }\n",
              "\n",
              "  .colab-df-spinner {\n",
              "    border: 2px solid var(--fill-color);\n",
              "    border-color: transparent;\n",
              "    border-bottom-color: var(--fill-color);\n",
              "    animation:\n",
              "      spin 1s steps(1) infinite;\n",
              "  }\n",
              "\n",
              "  @keyframes spin {\n",
              "    0% {\n",
              "      border-color: transparent;\n",
              "      border-bottom-color: var(--fill-color);\n",
              "      border-left-color: var(--fill-color);\n",
              "    }\n",
              "    20% {\n",
              "      border-color: transparent;\n",
              "      border-left-color: var(--fill-color);\n",
              "      border-top-color: var(--fill-color);\n",
              "    }\n",
              "    30% {\n",
              "      border-color: transparent;\n",
              "      border-left-color: var(--fill-color);\n",
              "      border-top-color: var(--fill-color);\n",
              "      border-right-color: var(--fill-color);\n",
              "    }\n",
              "    40% {\n",
              "      border-color: transparent;\n",
              "      border-right-color: var(--fill-color);\n",
              "      border-top-color: var(--fill-color);\n",
              "    }\n",
              "    60% {\n",
              "      border-color: transparent;\n",
              "      border-right-color: var(--fill-color);\n",
              "    }\n",
              "    80% {\n",
              "      border-color: transparent;\n",
              "      border-right-color: var(--fill-color);\n",
              "      border-bottom-color: var(--fill-color);\n",
              "    }\n",
              "    90% {\n",
              "      border-color: transparent;\n",
              "      border-bottom-color: var(--fill-color);\n",
              "    }\n",
              "  }\n",
              "</style>\n",
              "\n",
              "  <script>\n",
              "    async function quickchart(key) {\n",
              "      const quickchartButtonEl =\n",
              "        document.querySelector('#' + key + ' button');\n",
              "      quickchartButtonEl.disabled = true;  // To prevent multiple clicks.\n",
              "      quickchartButtonEl.classList.add('colab-df-spinner');\n",
              "      try {\n",
              "        const charts = await google.colab.kernel.invokeFunction(\n",
              "            'suggestCharts', [key], {});\n",
              "      } catch (error) {\n",
              "        console.error('Error during call to suggestCharts:', error);\n",
              "      }\n",
              "      quickchartButtonEl.classList.remove('colab-df-spinner');\n",
              "      quickchartButtonEl.classList.add('colab-df-quickchart-complete');\n",
              "    }\n",
              "    (() => {\n",
              "      let quickchartButtonEl =\n",
              "        document.querySelector('#df-20485057-740c-4858-9f35-49462cbaea51 button');\n",
              "      quickchartButtonEl.style.display =\n",
              "        google.colab.kernel.accessAllowed ? 'block' : 'none';\n",
              "    })();\n",
              "  </script>\n",
              "</div>\n",
              "    </div>\n",
              "  </div>\n"
            ],
            "text/plain": [
              "               Beer  Attribute\n",
              "0  Zenne Y Frontera       head\n",
              "1  Zenne Y Frontera  chocolate\n",
              "2  Zenne Y Frontera       dark\n",
              "3  Zenne Y Frontera      notes\n",
              "4         Very Hazy       head"
            ]
          },
          "execution_count": 34,
          "metadata": {},
          "output_type": "execute_result"
        }
      ],
      "source": [
        "from itertools import product\n",
        "\n",
        "beers_list = list(beersLiftAnalysis['Beer'].unique()[:10])\n",
        "attributes = ['head', 'chocolate', 'dark', 'notes']\n",
        "combi = list(product(beers_list, attributes))\n",
        "df_brand_attr = pd.DataFrame(combi, columns=[\"Beer\", \"Attribute\"])\n",
        "df_brand_attr.head(5)"
      ]
    },
    {
      "cell_type": "code",
      "execution_count": null,
      "metadata": {
        "id": "ncHyhf8tj3cJ"
      },
      "outputs": [],
      "source": [
        "# Initialize an empty DataFrame to store results\n",
        "result_columns = ['Beer', 'Attribute', 'Beer_Count', 'Attribute_Count', 'Beer_Attribute_Cooccurrence_Count', 'Total_Messages']\n",
        "result_df2 = pd.DataFrame(columns=result_columns)\n",
        "total_messages = len(df_lift)\n",
        "\n",
        "# Loop through all combinations of brands\n",
        "for brand_pair in df_brand_attr.itertuples(index=False):\n",
        "    brand, attr = brand_pair\n",
        "    #print(brand)\n",
        "    # Initialize Counters and Position Tracker\n",
        "    count_brand = 0\n",
        "    count_attr = 0\n",
        "    count_cooccurrence = 0\n",
        "\n",
        "    # Loop over messages\n",
        "    for beer,tokens in df_lift[['Beer','Tokens']].itertuples(index=False):\n",
        "        # Check total messages with Brand1\n",
        "        if brand in beer:\n",
        "            count_brand += 1\n",
        "\n",
        "        # Check total messages with Brand2\n",
        "        if attr in tokens:\n",
        "            count_attr += 1\n",
        "\n",
        "        # Check for Co-occurrence within the same message (not more than 5 tokens apart)\n",
        "        if (brand in beer) & (attr in tokens):\n",
        "            count_cooccurrence += 1\n",
        "\n",
        "    # Append results to the DataFrame\n",
        "    result_df2 = pd.concat([result_df2, pd.DataFrame({'Beer': [brand], 'Attribute': [attr],\n",
        "                                  'Beer_Count': [count_brand],\n",
        "                                  'Attribute_Count': [count_attr],\n",
        "                                  'Beer_Attribute_Cooccurrence_Count': [count_cooccurrence],\n",
        "                                  'Total_Messages': [total_messages]})],\n",
        "                          ignore_index=True)\n",
        "\n",
        "result_df2[\"lift\"]=(result_df2[\"Beer_Attribute_Cooccurrence_Count\"]/result_df2[\"Total_Messages\"])/((result_df2[\"Beer_Count\"]/result_df2[\"Total_Messages\"])*(result_df2[\"Attribute_Count\"]/result_df2[\"Total_Messages\"]))\n",
        "pivot_table = result_df2.pivot_table(index='Beer', columns='Attribute', values='lift')"
      ]
    },
    {
      "cell_type": "code",
      "execution_count": null,
      "metadata": {
        "colab": {
          "base_uri": "https://localhost:8080/",
          "height": 463
        },
        "id": "NH_E8RVWkaO8",
        "outputId": "ccd0fba3-45e5-4a5f-df73-66eda4572a6a"
      },
      "outputs": [
        {
          "data": {
            "text/html": [
              "\n",
              "  <div id=\"df-6a3cd78f-7636-434d-9c63-881128c407d2\" class=\"colab-df-container\">\n",
              "    <div>\n",
              "<style scoped>\n",
              "    .dataframe tbody tr th:only-of-type {\n",
              "        vertical-align: middle;\n",
              "    }\n",
              "\n",
              "    .dataframe tbody tr th {\n",
              "        vertical-align: top;\n",
              "    }\n",
              "\n",
              "    .dataframe thead th {\n",
              "        text-align: right;\n",
              "    }\n",
              "</style>\n",
              "<table border=\"1\" class=\"dataframe\">\n",
              "  <thead>\n",
              "    <tr style=\"text-align: right;\">\n",
              "      <th>Beer</th>\n",
              "      <th>Abt 12</th>\n",
              "      <th>Hold On To Sunshine</th>\n",
              "      <th>Label Us Notorious - Calvados BA Big Poppa</th>\n",
              "      <th>Oude Fermier</th>\n",
              "      <th>Popinski - Bourbon Barrel-Aged - Peanut Butter And Marshmallow</th>\n",
              "      <th>Samuel</th>\n",
              "      <th>Space Trace</th>\n",
              "      <th>Speedway Stout - Vietnamese Coffee - Bourbon-Barrel Aged</th>\n",
              "      <th>Very Hazy</th>\n",
              "      <th>Zenne Y Frontera</th>\n",
              "    </tr>\n",
              "    <tr>\n",
              "      <th>Beer</th>\n",
              "      <th></th>\n",
              "      <th></th>\n",
              "      <th></th>\n",
              "      <th></th>\n",
              "      <th></th>\n",
              "      <th></th>\n",
              "      <th></th>\n",
              "      <th></th>\n",
              "      <th></th>\n",
              "      <th></th>\n",
              "    </tr>\n",
              "  </thead>\n",
              "  <tbody>\n",
              "    <tr>\n",
              "      <th>Abt 12</th>\n",
              "      <td>1.000000</td>\n",
              "      <td>0.591081</td>\n",
              "      <td>0.853523</td>\n",
              "      <td>0.840161</td>\n",
              "      <td>0.684819</td>\n",
              "      <td>0.750681</td>\n",
              "      <td>0.741235</td>\n",
              "      <td>0.742009</td>\n",
              "      <td>0.543110</td>\n",
              "      <td>0.897057</td>\n",
              "    </tr>\n",
              "    <tr>\n",
              "      <th>Hold On To Sunshine</th>\n",
              "      <td>0.591081</td>\n",
              "      <td>1.000000</td>\n",
              "      <td>0.920829</td>\n",
              "      <td>0.290805</td>\n",
              "      <td>0.944766</td>\n",
              "      <td>0.274999</td>\n",
              "      <td>0.957795</td>\n",
              "      <td>0.969708</td>\n",
              "      <td>0.358024</td>\n",
              "      <td>0.226493</td>\n",
              "    </tr>\n",
              "    <tr>\n",
              "      <th>Label Us Notorious - Calvados BA Big Poppa</th>\n",
              "      <td>0.853523</td>\n",
              "      <td>0.920829</td>\n",
              "      <td>1.000000</td>\n",
              "      <td>0.557404</td>\n",
              "      <td>0.942820</td>\n",
              "      <td>0.494525</td>\n",
              "      <td>0.978599</td>\n",
              "      <td>0.980696</td>\n",
              "      <td>0.429333</td>\n",
              "      <td>0.567417</td>\n",
              "    </tr>\n",
              "    <tr>\n",
              "      <th>Oude Fermier</th>\n",
              "      <td>0.840161</td>\n",
              "      <td>0.290805</td>\n",
              "      <td>0.557404</td>\n",
              "      <td>1.000000</td>\n",
              "      <td>0.396045</td>\n",
              "      <td>0.983353</td>\n",
              "      <td>0.388591</td>\n",
              "      <td>0.433014</td>\n",
              "      <td>0.820892</td>\n",
              "      <td>0.932679</td>\n",
              "    </tr>\n",
              "    <tr>\n",
              "      <th>Popinski - Bourbon Barrel-Aged - Peanut Butter And Marshmallow</th>\n",
              "      <td>0.684819</td>\n",
              "      <td>0.944766</td>\n",
              "      <td>0.942820</td>\n",
              "      <td>0.396045</td>\n",
              "      <td>1.000000</td>\n",
              "      <td>0.351368</td>\n",
              "      <td>0.975783</td>\n",
              "      <td>0.983363</td>\n",
              "      <td>0.305048</td>\n",
              "      <td>0.403159</td>\n",
              "    </tr>\n",
              "    <tr>\n",
              "      <th>Samuel</th>\n",
              "      <td>0.750681</td>\n",
              "      <td>0.274999</td>\n",
              "      <td>0.494525</td>\n",
              "      <td>0.983353</td>\n",
              "      <td>0.351368</td>\n",
              "      <td>1.000000</td>\n",
              "      <td>0.325672</td>\n",
              "      <td>0.385316</td>\n",
              "      <td>0.901554</td>\n",
              "      <td>0.854372</td>\n",
              "    </tr>\n",
              "    <tr>\n",
              "      <th>Space Trace</th>\n",
              "      <td>0.741235</td>\n",
              "      <td>0.957795</td>\n",
              "      <td>0.978599</td>\n",
              "      <td>0.388591</td>\n",
              "      <td>0.975783</td>\n",
              "      <td>0.325672</td>\n",
              "      <td>1.000000</td>\n",
              "      <td>0.994992</td>\n",
              "      <td>0.282740</td>\n",
              "      <td>0.415332</td>\n",
              "    </tr>\n",
              "    <tr>\n",
              "      <th>Speedway Stout - Vietnamese Coffee - Bourbon-Barrel Aged</th>\n",
              "      <td>0.742009</td>\n",
              "      <td>0.969708</td>\n",
              "      <td>0.980696</td>\n",
              "      <td>0.433014</td>\n",
              "      <td>0.983363</td>\n",
              "      <td>0.385316</td>\n",
              "      <td>0.994992</td>\n",
              "      <td>1.000000</td>\n",
              "      <td>0.362388</td>\n",
              "      <td>0.427469</td>\n",
              "    </tr>\n",
              "    <tr>\n",
              "      <th>Very Hazy</th>\n",
              "      <td>0.543110</td>\n",
              "      <td>0.358024</td>\n",
              "      <td>0.429333</td>\n",
              "      <td>0.820892</td>\n",
              "      <td>0.305048</td>\n",
              "      <td>0.901554</td>\n",
              "      <td>0.282740</td>\n",
              "      <td>0.362388</td>\n",
              "      <td>1.000000</td>\n",
              "      <td>0.561607</td>\n",
              "    </tr>\n",
              "    <tr>\n",
              "      <th>Zenne Y Frontera</th>\n",
              "      <td>0.897057</td>\n",
              "      <td>0.226493</td>\n",
              "      <td>0.567417</td>\n",
              "      <td>0.932679</td>\n",
              "      <td>0.403159</td>\n",
              "      <td>0.854372</td>\n",
              "      <td>0.415332</td>\n",
              "      <td>0.427469</td>\n",
              "      <td>0.561607</td>\n",
              "      <td>1.000000</td>\n",
              "    </tr>\n",
              "  </tbody>\n",
              "</table>\n",
              "</div>\n",
              "    <div class=\"colab-df-buttons\">\n",
              "\n",
              "  <div class=\"colab-df-container\">\n",
              "    <button class=\"colab-df-convert\" onclick=\"convertToInteractive('df-6a3cd78f-7636-434d-9c63-881128c407d2')\"\n",
              "            title=\"Convert this dataframe to an interactive table.\"\n",
              "            style=\"display:none;\">\n",
              "\n",
              "  <svg xmlns=\"http://www.w3.org/2000/svg\" height=\"24px\" viewBox=\"0 -960 960 960\">\n",
              "    <path d=\"M120-120v-720h720v720H120Zm60-500h600v-160H180v160Zm220 220h160v-160H400v160Zm0 220h160v-160H400v160ZM180-400h160v-160H180v160Zm440 0h160v-160H620v160ZM180-180h160v-160H180v160Zm440 0h160v-160H620v160Z\"/>\n",
              "  </svg>\n",
              "    </button>\n",
              "\n",
              "  <style>\n",
              "    .colab-df-container {\n",
              "      display:flex;\n",
              "      gap: 12px;\n",
              "    }\n",
              "\n",
              "    .colab-df-convert {\n",
              "      background-color: #E8F0FE;\n",
              "      border: none;\n",
              "      border-radius: 50%;\n",
              "      cursor: pointer;\n",
              "      display: none;\n",
              "      fill: #1967D2;\n",
              "      height: 32px;\n",
              "      padding: 0 0 0 0;\n",
              "      width: 32px;\n",
              "    }\n",
              "\n",
              "    .colab-df-convert:hover {\n",
              "      background-color: #E2EBFA;\n",
              "      box-shadow: 0px 1px 2px rgba(60, 64, 67, 0.3), 0px 1px 3px 1px rgba(60, 64, 67, 0.15);\n",
              "      fill: #174EA6;\n",
              "    }\n",
              "\n",
              "    .colab-df-buttons div {\n",
              "      margin-bottom: 4px;\n",
              "    }\n",
              "\n",
              "    [theme=dark] .colab-df-convert {\n",
              "      background-color: #3B4455;\n",
              "      fill: #D2E3FC;\n",
              "    }\n",
              "\n",
              "    [theme=dark] .colab-df-convert:hover {\n",
              "      background-color: #434B5C;\n",
              "      box-shadow: 0px 1px 3px 1px rgba(0, 0, 0, 0.15);\n",
              "      filter: drop-shadow(0px 1px 2px rgba(0, 0, 0, 0.3));\n",
              "      fill: #FFFFFF;\n",
              "    }\n",
              "  </style>\n",
              "\n",
              "    <script>\n",
              "      const buttonEl =\n",
              "        document.querySelector('#df-6a3cd78f-7636-434d-9c63-881128c407d2 button.colab-df-convert');\n",
              "      buttonEl.style.display =\n",
              "        google.colab.kernel.accessAllowed ? 'block' : 'none';\n",
              "\n",
              "      async function convertToInteractive(key) {\n",
              "        const element = document.querySelector('#df-6a3cd78f-7636-434d-9c63-881128c407d2');\n",
              "        const dataTable =\n",
              "          await google.colab.kernel.invokeFunction('convertToInteractive',\n",
              "                                                    [key], {});\n",
              "        if (!dataTable) return;\n",
              "\n",
              "        const docLinkHtml = 'Like what you see? Visit the ' +\n",
              "          '<a target=\"_blank\" href=https://colab.research.google.com/notebooks/data_table.ipynb>data table notebook</a>'\n",
              "          + ' to learn more about interactive tables.';\n",
              "        element.innerHTML = '';\n",
              "        dataTable['output_type'] = 'display_data';\n",
              "        await google.colab.output.renderOutput(dataTable, element);\n",
              "        const docLink = document.createElement('div');\n",
              "        docLink.innerHTML = docLinkHtml;\n",
              "        element.appendChild(docLink);\n",
              "      }\n",
              "    </script>\n",
              "  </div>\n",
              "\n",
              "\n",
              "<div id=\"df-3d295b70-5a0d-421e-a704-4d61296cda41\">\n",
              "  <button class=\"colab-df-quickchart\" onclick=\"quickchart('df-3d295b70-5a0d-421e-a704-4d61296cda41')\"\n",
              "            title=\"Suggest charts.\"\n",
              "            style=\"display:none;\">\n",
              "\n",
              "<svg xmlns=\"http://www.w3.org/2000/svg\" height=\"24px\"viewBox=\"0 0 24 24\"\n",
              "     width=\"24px\">\n",
              "    <g>\n",
              "        <path d=\"M19 3H5c-1.1 0-2 .9-2 2v14c0 1.1.9 2 2 2h14c1.1 0 2-.9 2-2V5c0-1.1-.9-2-2-2zM9 17H7v-7h2v7zm4 0h-2V7h2v10zm4 0h-2v-4h2v4z\"/>\n",
              "    </g>\n",
              "</svg>\n",
              "  </button>\n",
              "\n",
              "<style>\n",
              "  .colab-df-quickchart {\n",
              "      --bg-color: #E8F0FE;\n",
              "      --fill-color: #1967D2;\n",
              "      --hover-bg-color: #E2EBFA;\n",
              "      --hover-fill-color: #174EA6;\n",
              "      --disabled-fill-color: #AAA;\n",
              "      --disabled-bg-color: #DDD;\n",
              "  }\n",
              "\n",
              "  [theme=dark] .colab-df-quickchart {\n",
              "      --bg-color: #3B4455;\n",
              "      --fill-color: #D2E3FC;\n",
              "      --hover-bg-color: #434B5C;\n",
              "      --hover-fill-color: #FFFFFF;\n",
              "      --disabled-bg-color: #3B4455;\n",
              "      --disabled-fill-color: #666;\n",
              "  }\n",
              "\n",
              "  .colab-df-quickchart {\n",
              "    background-color: var(--bg-color);\n",
              "    border: none;\n",
              "    border-radius: 50%;\n",
              "    cursor: pointer;\n",
              "    display: none;\n",
              "    fill: var(--fill-color);\n",
              "    height: 32px;\n",
              "    padding: 0;\n",
              "    width: 32px;\n",
              "  }\n",
              "\n",
              "  .colab-df-quickchart:hover {\n",
              "    background-color: var(--hover-bg-color);\n",
              "    box-shadow: 0 1px 2px rgba(60, 64, 67, 0.3), 0 1px 3px 1px rgba(60, 64, 67, 0.15);\n",
              "    fill: var(--button-hover-fill-color);\n",
              "  }\n",
              "\n",
              "  .colab-df-quickchart-complete:disabled,\n",
              "  .colab-df-quickchart-complete:disabled:hover {\n",
              "    background-color: var(--disabled-bg-color);\n",
              "    fill: var(--disabled-fill-color);\n",
              "    box-shadow: none;\n",
              "  }\n",
              "\n",
              "  .colab-df-spinner {\n",
              "    border: 2px solid var(--fill-color);\n",
              "    border-color: transparent;\n",
              "    border-bottom-color: var(--fill-color);\n",
              "    animation:\n",
              "      spin 1s steps(1) infinite;\n",
              "  }\n",
              "\n",
              "  @keyframes spin {\n",
              "    0% {\n",
              "      border-color: transparent;\n",
              "      border-bottom-color: var(--fill-color);\n",
              "      border-left-color: var(--fill-color);\n",
              "    }\n",
              "    20% {\n",
              "      border-color: transparent;\n",
              "      border-left-color: var(--fill-color);\n",
              "      border-top-color: var(--fill-color);\n",
              "    }\n",
              "    30% {\n",
              "      border-color: transparent;\n",
              "      border-left-color: var(--fill-color);\n",
              "      border-top-color: var(--fill-color);\n",
              "      border-right-color: var(--fill-color);\n",
              "    }\n",
              "    40% {\n",
              "      border-color: transparent;\n",
              "      border-right-color: var(--fill-color);\n",
              "      border-top-color: var(--fill-color);\n",
              "    }\n",
              "    60% {\n",
              "      border-color: transparent;\n",
              "      border-right-color: var(--fill-color);\n",
              "    }\n",
              "    80% {\n",
              "      border-color: transparent;\n",
              "      border-right-color: var(--fill-color);\n",
              "      border-bottom-color: var(--fill-color);\n",
              "    }\n",
              "    90% {\n",
              "      border-color: transparent;\n",
              "      border-bottom-color: var(--fill-color);\n",
              "    }\n",
              "  }\n",
              "</style>\n",
              "\n",
              "  <script>\n",
              "    async function quickchart(key) {\n",
              "      const quickchartButtonEl =\n",
              "        document.querySelector('#' + key + ' button');\n",
              "      quickchartButtonEl.disabled = true;  // To prevent multiple clicks.\n",
              "      quickchartButtonEl.classList.add('colab-df-spinner');\n",
              "      try {\n",
              "        const charts = await google.colab.kernel.invokeFunction(\n",
              "            'suggestCharts', [key], {});\n",
              "      } catch (error) {\n",
              "        console.error('Error during call to suggestCharts:', error);\n",
              "      }\n",
              "      quickchartButtonEl.classList.remove('colab-df-spinner');\n",
              "      quickchartButtonEl.classList.add('colab-df-quickchart-complete');\n",
              "    }\n",
              "    (() => {\n",
              "      let quickchartButtonEl =\n",
              "        document.querySelector('#df-3d295b70-5a0d-421e-a704-4d61296cda41 button');\n",
              "      quickchartButtonEl.style.display =\n",
              "        google.colab.kernel.accessAllowed ? 'block' : 'none';\n",
              "    })();\n",
              "  </script>\n",
              "</div>\n",
              "    </div>\n",
              "  </div>\n"
            ],
            "text/plain": [
              "Beer                                                  Abt 12  \\\n",
              "Beer                                                           \n",
              "Abt 12                                              1.000000   \n",
              "Hold On To Sunshine                                 0.591081   \n",
              "Label Us Notorious - Calvados BA Big Poppa          0.853523   \n",
              "Oude Fermier                                        0.840161   \n",
              "Popinski - Bourbon Barrel-Aged - Peanut Butter ...  0.684819   \n",
              "Samuel                                              0.750681   \n",
              "Space Trace                                         0.741235   \n",
              "Speedway Stout - Vietnamese Coffee - Bourbon-Ba...  0.742009   \n",
              "Very Hazy                                           0.543110   \n",
              "Zenne Y Frontera                                    0.897057   \n",
              "\n",
              "Beer                                                Hold On To Sunshine  \\\n",
              "Beer                                                                      \n",
              "Abt 12                                                         0.591081   \n",
              "Hold On To Sunshine                                            1.000000   \n",
              "Label Us Notorious - Calvados BA Big Poppa                     0.920829   \n",
              "Oude Fermier                                                   0.290805   \n",
              "Popinski - Bourbon Barrel-Aged - Peanut Butter ...             0.944766   \n",
              "Samuel                                                         0.274999   \n",
              "Space Trace                                                    0.957795   \n",
              "Speedway Stout - Vietnamese Coffee - Bourbon-Ba...             0.969708   \n",
              "Very Hazy                                                      0.358024   \n",
              "Zenne Y Frontera                                               0.226493   \n",
              "\n",
              "Beer                                                Label Us Notorious - Calvados BA Big Poppa  \\\n",
              "Beer                                                                                             \n",
              "Abt 12                                                                                0.853523   \n",
              "Hold On To Sunshine                                                                   0.920829   \n",
              "Label Us Notorious - Calvados BA Big Poppa                                            1.000000   \n",
              "Oude Fermier                                                                          0.557404   \n",
              "Popinski - Bourbon Barrel-Aged - Peanut Butter ...                                    0.942820   \n",
              "Samuel                                                                                0.494525   \n",
              "Space Trace                                                                           0.978599   \n",
              "Speedway Stout - Vietnamese Coffee - Bourbon-Ba...                                    0.980696   \n",
              "Very Hazy                                                                             0.429333   \n",
              "Zenne Y Frontera                                                                      0.567417   \n",
              "\n",
              "Beer                                                Oude Fermier  \\\n",
              "Beer                                                               \n",
              "Abt 12                                                  0.840161   \n",
              "Hold On To Sunshine                                     0.290805   \n",
              "Label Us Notorious - Calvados BA Big Poppa              0.557404   \n",
              "Oude Fermier                                            1.000000   \n",
              "Popinski - Bourbon Barrel-Aged - Peanut Butter ...      0.396045   \n",
              "Samuel                                                  0.983353   \n",
              "Space Trace                                             0.388591   \n",
              "Speedway Stout - Vietnamese Coffee - Bourbon-Ba...      0.433014   \n",
              "Very Hazy                                               0.820892   \n",
              "Zenne Y Frontera                                        0.932679   \n",
              "\n",
              "Beer                                                Popinski - Bourbon Barrel-Aged - Peanut Butter And Marshmallow  \\\n",
              "Beer                                                                                                                 \n",
              "Abt 12                                                                                       0.684819                \n",
              "Hold On To Sunshine                                                                          0.944766                \n",
              "Label Us Notorious - Calvados BA Big Poppa                                                   0.942820                \n",
              "Oude Fermier                                                                                 0.396045                \n",
              "Popinski - Bourbon Barrel-Aged - Peanut Butter ...                                           1.000000                \n",
              "Samuel                                                                                       0.351368                \n",
              "Space Trace                                                                                  0.975783                \n",
              "Speedway Stout - Vietnamese Coffee - Bourbon-Ba...                                           0.983363                \n",
              "Very Hazy                                                                                    0.305048                \n",
              "Zenne Y Frontera                                                                             0.403159                \n",
              "\n",
              "Beer                                                  Samuel  Space Trace  \\\n",
              "Beer                                                                        \n",
              "Abt 12                                              0.750681     0.741235   \n",
              "Hold On To Sunshine                                 0.274999     0.957795   \n",
              "Label Us Notorious - Calvados BA Big Poppa          0.494525     0.978599   \n",
              "Oude Fermier                                        0.983353     0.388591   \n",
              "Popinski - Bourbon Barrel-Aged - Peanut Butter ...  0.351368     0.975783   \n",
              "Samuel                                              1.000000     0.325672   \n",
              "Space Trace                                         0.325672     1.000000   \n",
              "Speedway Stout - Vietnamese Coffee - Bourbon-Ba...  0.385316     0.994992   \n",
              "Very Hazy                                           0.901554     0.282740   \n",
              "Zenne Y Frontera                                    0.854372     0.415332   \n",
              "\n",
              "Beer                                                Speedway Stout - Vietnamese Coffee - Bourbon-Barrel Aged  \\\n",
              "Beer                                                                                                           \n",
              "Abt 12                                                                                       0.742009          \n",
              "Hold On To Sunshine                                                                          0.969708          \n",
              "Label Us Notorious - Calvados BA Big Poppa                                                   0.980696          \n",
              "Oude Fermier                                                                                 0.433014          \n",
              "Popinski - Bourbon Barrel-Aged - Peanut Butter ...                                           0.983363          \n",
              "Samuel                                                                                       0.385316          \n",
              "Space Trace                                                                                  0.994992          \n",
              "Speedway Stout - Vietnamese Coffee - Bourbon-Ba...                                           1.000000          \n",
              "Very Hazy                                                                                    0.362388          \n",
              "Zenne Y Frontera                                                                             0.427469          \n",
              "\n",
              "Beer                                                Very Hazy  \\\n",
              "Beer                                                            \n",
              "Abt 12                                               0.543110   \n",
              "Hold On To Sunshine                                  0.358024   \n",
              "Label Us Notorious - Calvados BA Big Poppa           0.429333   \n",
              "Oude Fermier                                         0.820892   \n",
              "Popinski - Bourbon Barrel-Aged - Peanut Butter ...   0.305048   \n",
              "Samuel                                               0.901554   \n",
              "Space Trace                                          0.282740   \n",
              "Speedway Stout - Vietnamese Coffee - Bourbon-Ba...   0.362388   \n",
              "Very Hazy                                            1.000000   \n",
              "Zenne Y Frontera                                     0.561607   \n",
              "\n",
              "Beer                                                Zenne Y Frontera  \n",
              "Beer                                                                  \n",
              "Abt 12                                                      0.897057  \n",
              "Hold On To Sunshine                                         0.226493  \n",
              "Label Us Notorious - Calvados BA Big Poppa                  0.567417  \n",
              "Oude Fermier                                                0.932679  \n",
              "Popinski - Bourbon Barrel-Aged - Peanut Butter ...          0.403159  \n",
              "Samuel                                                      0.854372  \n",
              "Space Trace                                                 0.415332  \n",
              "Speedway Stout - Vietnamese Coffee - Bourbon-Ba...          0.427469  \n",
              "Very Hazy                                                   0.561607  \n",
              "Zenne Y Frontera                                            1.000000  "
            ]
          },
          "execution_count": 36,
          "metadata": {},
          "output_type": "execute_result"
        }
      ],
      "source": [
        "import pandas as pd\n",
        "from sklearn.metrics.pairwise import cosine_similarity\n",
        "\n",
        "beers = pivot_table.index\n",
        "# Compute cosine similarities\n",
        "similarities = cosine_similarity(pivot_table)\n",
        "\n",
        "# Convert the results into a DataFrame for better visualization\n",
        "similarity_df = pd.DataFrame(similarities, index=beers, columns=beers)\n",
        "\n",
        "similarity_df"
      ]
    },
    {
      "cell_type": "code",
      "execution_count": null,
      "metadata": {
        "id": "5knU-s01kaZK"
      },
      "outputs": [],
      "source": [
        "#Taking Very Hazy beer as an example\n",
        "similarity_df[similarity_df.index!='Very Hazy'][['Very Hazy']].sort_values('Very Hazy', ascending = False)"
      ]
    },
    {
      "cell_type": "markdown",
      "metadata": {
        "id": "f1l7MRnUkfUK"
      },
      "source": [
        "### Approach to Recommend Beers Using Lift Scores:\n",
        "\n",
        "* **We've selected the following 10 beers**:\n",
        "\n",
        "| Beer Name |\n",
        "|-----------|\n",
        "| Popinski - Bourbon Barrel-Aged - Peanut Butter And Marshmallow |\n",
        "| Zenne Y Frontera |\n",
        "| Space Trace |\n",
        "| Label Us Notorious - Calvados BA Big Poppa |\n",
        "| Samuel |\n",
        "| Oude Fermier |\n",
        "| Abt 12 |\n",
        "| Hold On To Sunshine |\n",
        "| Speedway Stout - Vietnamese Coffee - Bourbon-Barrel Aged |\n",
        "| Very Hazy |\n",
        "\n",
        "* **We've focused on the following 4 attributes**:\n",
        "\n",
        "| Attr1 | Attr2 | Attr3 | Attr4 |\n",
        "|-------|-------|-------|-------|\n",
        "| head  | chocolate | dark | notes |\n",
        "\n",
        "* **Data Filtering**:\n",
        "    - We filtered the master dataframe to only include rows containing these 10 beers and their reviews. This gave us a new dataframe named `beersLiftAnalysis`.\n",
        "\n",
        "* **Lift Calculation for Beer-Attribute Combination**:\n",
        "    - We iterated through the combinations of beer-attribute and computed the following for every combination:\n",
        "        * Count of beer mentions (`Beer_Count`)\n",
        "        * Count of attribute mentions (`Attribute_Count`)\n",
        "        * Count of co-occurrences where both the beer and attribute are mentioned together (`Beer_Attribute_Cooccurrence_Count`)\n",
        "        * Total number of messages or reviews (`Total_Messages`)\n",
        "        * The lift score, which measures the association between the beer and the attribute.\n",
        "\n",
        "    For instance:\n",
        "    \n",
        "| Beer | Attribute | Beer_Count | Attribute_Count | Beer_Attribute_Cooccurrence_Count | Total_Messages | lift |\n",
        "|------|-----------|------------|-----------------|----------------------------------|----------------|------|\n",
        "| Speedway Stout - Vietnamese Coffee - Bourbon-Barrel Aged | chocolate | 25 | Varies | Varies | 234 | 2.866667 |\n",
        "\n",
        "* **Constructing a Matrix**:\n",
        "    - Using the computed lift values, we crafted a matrix (`pivot_table`). Each row corresponds to a beer, and each column corresponds to an attribute. The matrix entries are the lift values, capturing how each beer relates to the top attributes.\n",
        "\n",
        "* **Cosine Similarity Calculation for Beer Recommendations**:\n",
        "    - By treating each row of the matrix as a vector, we applied the cosine similarity metric. The result was a `similarity_df` matrix, where each row and column represents a beer. The matrix entries show the similarity score between the beers based on their association with the attributes.\n",
        "\n",
        "* **Identifying the Most Similar Beer**:\n",
        "    - For a selected beer (e.g., \"Very Hazy\"), we inspected its corresponding row or column in the `similarity_df` matrix to obtain the similarity scores with all other beers. Sorting these scores in descending order, we identified the most similar beers. In our case, \"Samuel\" was found to be the most similar to \"Very Hazy\"."
      ]
    },
    {
      "cell_type": "markdown",
      "metadata": {
        "id": "KfEhwd16jhry"
      },
      "source": [
        "# Method 2: Bucketing"
      ]
    },
    {
      "cell_type": "code",
      "execution_count": null,
      "metadata": {
        "colab": {
          "base_uri": "https://localhost:8080/",
          "height": 206
        },
        "id": "8euOZUYM1qY3",
        "outputId": "0e0c47f6-fa0d-4a61-8f10-56127e82759d"
      },
      "outputs": [
        {
          "data": {
            "text/html": [
              "\n",
              "  <div id=\"df-9c1c865b-fdd0-42f5-a4a0-c3f6a00836ce\" class=\"colab-df-container\">\n",
              "    <div>\n",
              "<style scoped>\n",
              "    .dataframe tbody tr th:only-of-type {\n",
              "        vertical-align: middle;\n",
              "    }\n",
              "\n",
              "    .dataframe tbody tr th {\n",
              "        vertical-align: top;\n",
              "    }\n",
              "\n",
              "    .dataframe thead th {\n",
              "        text-align: right;\n",
              "    }\n",
              "</style>\n",
              "<table border=\"1\" class=\"dataframe\">\n",
              "  <thead>\n",
              "    <tr style=\"text-align: right;\">\n",
              "      <th></th>\n",
              "      <th>Beer</th>\n",
              "      <th>Attribute</th>\n",
              "    </tr>\n",
              "  </thead>\n",
              "  <tbody>\n",
              "    <tr>\n",
              "      <th>0</th>\n",
              "      <td>Kentucky Brunch Brand Stout</td>\n",
              "      <td>sweet</td>\n",
              "    </tr>\n",
              "    <tr>\n",
              "      <th>1</th>\n",
              "      <td>Kentucky Brunch Brand Stout</td>\n",
              "      <td>dark</td>\n",
              "    </tr>\n",
              "    <tr>\n",
              "      <th>2</th>\n",
              "      <td>Kentucky Brunch Brand Stout</td>\n",
              "      <td>light</td>\n",
              "    </tr>\n",
              "    <tr>\n",
              "      <th>3</th>\n",
              "      <td>Kentucky Brunch Brand Stout</td>\n",
              "      <td>fruit</td>\n",
              "    </tr>\n",
              "    <tr>\n",
              "      <th>4</th>\n",
              "      <td>Vanilla Bean Assassin</td>\n",
              "      <td>sweet</td>\n",
              "    </tr>\n",
              "  </tbody>\n",
              "</table>\n",
              "</div>\n",
              "    <div class=\"colab-df-buttons\">\n",
              "\n",
              "  <div class=\"colab-df-container\">\n",
              "    <button class=\"colab-df-convert\" onclick=\"convertToInteractive('df-9c1c865b-fdd0-42f5-a4a0-c3f6a00836ce')\"\n",
              "            title=\"Convert this dataframe to an interactive table.\"\n",
              "            style=\"display:none;\">\n",
              "\n",
              "  <svg xmlns=\"http://www.w3.org/2000/svg\" height=\"24px\" viewBox=\"0 -960 960 960\">\n",
              "    <path d=\"M120-120v-720h720v720H120Zm60-500h600v-160H180v160Zm220 220h160v-160H400v160Zm0 220h160v-160H400v160ZM180-400h160v-160H180v160Zm440 0h160v-160H620v160ZM180-180h160v-160H180v160Zm440 0h160v-160H620v160Z\"/>\n",
              "  </svg>\n",
              "    </button>\n",
              "\n",
              "  <style>\n",
              "    .colab-df-container {\n",
              "      display:flex;\n",
              "      gap: 12px;\n",
              "    }\n",
              "\n",
              "    .colab-df-convert {\n",
              "      background-color: #E8F0FE;\n",
              "      border: none;\n",
              "      border-radius: 50%;\n",
              "      cursor: pointer;\n",
              "      display: none;\n",
              "      fill: #1967D2;\n",
              "      height: 32px;\n",
              "      padding: 0 0 0 0;\n",
              "      width: 32px;\n",
              "    }\n",
              "\n",
              "    .colab-df-convert:hover {\n",
              "      background-color: #E2EBFA;\n",
              "      box-shadow: 0px 1px 2px rgba(60, 64, 67, 0.3), 0px 1px 3px 1px rgba(60, 64, 67, 0.15);\n",
              "      fill: #174EA6;\n",
              "    }\n",
              "\n",
              "    .colab-df-buttons div {\n",
              "      margin-bottom: 4px;\n",
              "    }\n",
              "\n",
              "    [theme=dark] .colab-df-convert {\n",
              "      background-color: #3B4455;\n",
              "      fill: #D2E3FC;\n",
              "    }\n",
              "\n",
              "    [theme=dark] .colab-df-convert:hover {\n",
              "      background-color: #434B5C;\n",
              "      box-shadow: 0px 1px 3px 1px rgba(0, 0, 0, 0.15);\n",
              "      filter: drop-shadow(0px 1px 2px rgba(0, 0, 0, 0.3));\n",
              "      fill: #FFFFFF;\n",
              "    }\n",
              "  </style>\n",
              "\n",
              "    <script>\n",
              "      const buttonEl =\n",
              "        document.querySelector('#df-9c1c865b-fdd0-42f5-a4a0-c3f6a00836ce button.colab-df-convert');\n",
              "      buttonEl.style.display =\n",
              "        google.colab.kernel.accessAllowed ? 'block' : 'none';\n",
              "\n",
              "      async function convertToInteractive(key) {\n",
              "        const element = document.querySelector('#df-9c1c865b-fdd0-42f5-a4a0-c3f6a00836ce');\n",
              "        const dataTable =\n",
              "          await google.colab.kernel.invokeFunction('convertToInteractive',\n",
              "                                                    [key], {});\n",
              "        if (!dataTable) return;\n",
              "\n",
              "        const docLinkHtml = 'Like what you see? Visit the ' +\n",
              "          '<a target=\"_blank\" href=https://colab.research.google.com/notebooks/data_table.ipynb>data table notebook</a>'\n",
              "          + ' to learn more about interactive tables.';\n",
              "        element.innerHTML = '';\n",
              "        dataTable['output_type'] = 'display_data';\n",
              "        await google.colab.output.renderOutput(dataTable, element);\n",
              "        const docLink = document.createElement('div');\n",
              "        docLink.innerHTML = docLinkHtml;\n",
              "        element.appendChild(docLink);\n",
              "      }\n",
              "    </script>\n",
              "  </div>\n",
              "\n",
              "\n",
              "<div id=\"df-fc45ca75-da43-4204-b9c9-fd41acec3a91\">\n",
              "  <button class=\"colab-df-quickchart\" onclick=\"quickchart('df-fc45ca75-da43-4204-b9c9-fd41acec3a91')\"\n",
              "            title=\"Suggest charts.\"\n",
              "            style=\"display:none;\">\n",
              "\n",
              "<svg xmlns=\"http://www.w3.org/2000/svg\" height=\"24px\"viewBox=\"0 0 24 24\"\n",
              "     width=\"24px\">\n",
              "    <g>\n",
              "        <path d=\"M19 3H5c-1.1 0-2 .9-2 2v14c0 1.1.9 2 2 2h14c1.1 0 2-.9 2-2V5c0-1.1-.9-2-2-2zM9 17H7v-7h2v7zm4 0h-2V7h2v10zm4 0h-2v-4h2v4z\"/>\n",
              "    </g>\n",
              "</svg>\n",
              "  </button>\n",
              "\n",
              "<style>\n",
              "  .colab-df-quickchart {\n",
              "      --bg-color: #E8F0FE;\n",
              "      --fill-color: #1967D2;\n",
              "      --hover-bg-color: #E2EBFA;\n",
              "      --hover-fill-color: #174EA6;\n",
              "      --disabled-fill-color: #AAA;\n",
              "      --disabled-bg-color: #DDD;\n",
              "  }\n",
              "\n",
              "  [theme=dark] .colab-df-quickchart {\n",
              "      --bg-color: #3B4455;\n",
              "      --fill-color: #D2E3FC;\n",
              "      --hover-bg-color: #434B5C;\n",
              "      --hover-fill-color: #FFFFFF;\n",
              "      --disabled-bg-color: #3B4455;\n",
              "      --disabled-fill-color: #666;\n",
              "  }\n",
              "\n",
              "  .colab-df-quickchart {\n",
              "    background-color: var(--bg-color);\n",
              "    border: none;\n",
              "    border-radius: 50%;\n",
              "    cursor: pointer;\n",
              "    display: none;\n",
              "    fill: var(--fill-color);\n",
              "    height: 32px;\n",
              "    padding: 0;\n",
              "    width: 32px;\n",
              "  }\n",
              "\n",
              "  .colab-df-quickchart:hover {\n",
              "    background-color: var(--hover-bg-color);\n",
              "    box-shadow: 0 1px 2px rgba(60, 64, 67, 0.3), 0 1px 3px 1px rgba(60, 64, 67, 0.15);\n",
              "    fill: var(--button-hover-fill-color);\n",
              "  }\n",
              "\n",
              "  .colab-df-quickchart-complete:disabled,\n",
              "  .colab-df-quickchart-complete:disabled:hover {\n",
              "    background-color: var(--disabled-bg-color);\n",
              "    fill: var(--disabled-fill-color);\n",
              "    box-shadow: none;\n",
              "  }\n",
              "\n",
              "  .colab-df-spinner {\n",
              "    border: 2px solid var(--fill-color);\n",
              "    border-color: transparent;\n",
              "    border-bottom-color: var(--fill-color);\n",
              "    animation:\n",
              "      spin 1s steps(1) infinite;\n",
              "  }\n",
              "\n",
              "  @keyframes spin {\n",
              "    0% {\n",
              "      border-color: transparent;\n",
              "      border-bottom-color: var(--fill-color);\n",
              "      border-left-color: var(--fill-color);\n",
              "    }\n",
              "    20% {\n",
              "      border-color: transparent;\n",
              "      border-left-color: var(--fill-color);\n",
              "      border-top-color: var(--fill-color);\n",
              "    }\n",
              "    30% {\n",
              "      border-color: transparent;\n",
              "      border-left-color: var(--fill-color);\n",
              "      border-top-color: var(--fill-color);\n",
              "      border-right-color: var(--fill-color);\n",
              "    }\n",
              "    40% {\n",
              "      border-color: transparent;\n",
              "      border-right-color: var(--fill-color);\n",
              "      border-top-color: var(--fill-color);\n",
              "    }\n",
              "    60% {\n",
              "      border-color: transparent;\n",
              "      border-right-color: var(--fill-color);\n",
              "    }\n",
              "    80% {\n",
              "      border-color: transparent;\n",
              "      border-right-color: var(--fill-color);\n",
              "      border-bottom-color: var(--fill-color);\n",
              "    }\n",
              "    90% {\n",
              "      border-color: transparent;\n",
              "      border-bottom-color: var(--fill-color);\n",
              "    }\n",
              "  }\n",
              "</style>\n",
              "\n",
              "  <script>\n",
              "    async function quickchart(key) {\n",
              "      const quickchartButtonEl =\n",
              "        document.querySelector('#' + key + ' button');\n",
              "      quickchartButtonEl.disabled = true;  // To prevent multiple clicks.\n",
              "      quickchartButtonEl.classList.add('colab-df-spinner');\n",
              "      try {\n",
              "        const charts = await google.colab.kernel.invokeFunction(\n",
              "            'suggestCharts', [key], {});\n",
              "      } catch (error) {\n",
              "        console.error('Error during call to suggestCharts:', error);\n",
              "      }\n",
              "      quickchartButtonEl.classList.remove('colab-df-spinner');\n",
              "      quickchartButtonEl.classList.add('colab-df-quickchart-complete');\n",
              "    }\n",
              "    (() => {\n",
              "      let quickchartButtonEl =\n",
              "        document.querySelector('#df-fc45ca75-da43-4204-b9c9-fd41acec3a91 button');\n",
              "      quickchartButtonEl.style.display =\n",
              "        google.colab.kernel.accessAllowed ? 'block' : 'none';\n",
              "    })();\n",
              "  </script>\n",
              "</div>\n",
              "    </div>\n",
              "  </div>\n"
            ],
            "text/plain": [
              "                          Beer Attribute\n",
              "0  Kentucky Brunch Brand Stout     sweet\n",
              "1  Kentucky Brunch Brand Stout      dark\n",
              "2  Kentucky Brunch Brand Stout     light\n",
              "3  Kentucky Brunch Brand Stout     fruit\n",
              "4        Vanilla Bean Assassin     sweet"
            ]
          },
          "execution_count": 37,
          "metadata": {},
          "output_type": "execute_result"
        }
      ],
      "source": [
        "from itertools import product\n",
        "\n",
        "beers_list = list(scraped['Beer'].unique()[:10])\n",
        "attributes = ['sweet','dark','light','fruit']\n",
        "combi = list(product(beers_list, attributes))\n",
        "df_brand_attr = pd.DataFrame(combi, columns=[\"Beer\", \"Attribute\"])\n",
        "df_brand_attr.head(5)"
      ]
    },
    {
      "cell_type": "code",
      "execution_count": null,
      "metadata": {
        "id": "zrMySeIS1we5"
      },
      "outputs": [],
      "source": [
        "df_lift = scraped[['Beer','Review']]\n",
        "df_lift = df_lift[df_lift['Beer'].isin(beers_list)]\n",
        "# Tokenizing the words in messages\n",
        "df_lift['Tokens'] = df_lift['Review'].apply(nltk.word_tokenize)\n",
        "\n",
        "# should we lemmatize words?, like dark, darker, darkest all these mentions would be similar\n",
        "#lemmatizer = WordNetLemmatizer()\n",
        "\n",
        "# Define a function to cleanse the tokens\n",
        "def cleanse_tokens(tokens):\n",
        "    stop_words = set(stopwords.words('english'))\n",
        "    punctuation = set(string.punctuation)\n",
        "\n",
        "    # Remove stop words, non-alphanumeric tokens, and punctuation\n",
        "    cleansed_tokens = [token.lower() for token in tokens if token.lower() not in stop_words and token.isalnum() and token not in punctuation]\n",
        "\n",
        "    return cleansed_tokens\n",
        "\n",
        "# Apply the cleansing function to the 'Tokens' column\n",
        "df_lift['Cleansed'] = df_lift['Tokens'].apply(cleanse_tokens)"
      ]
    },
    {
      "cell_type": "code",
      "execution_count": null,
      "metadata": {
        "id": "iJFqNRIh13IO"
      },
      "outputs": [],
      "source": [
        "# Initialize an empty DataFrame to store results\n",
        "result_columns = ['Beer', 'Attribute', 'Beer_Count', 'Attribute_Count', 'Beer_Attribute_Cooccurrence_Count', 'Total_Messages']\n",
        "result_df2 = pd.DataFrame(columns=result_columns)\n",
        "total_messages = len(df_lift)\n",
        "\n",
        "# Loop through all combinations of brands\n",
        "for brand_pair in df_brand_attr.itertuples(index=False):\n",
        "    brand, attr = brand_pair\n",
        "    #print(brand)\n",
        "    # Initialize Counters and Position Tracker\n",
        "    count_brand = 0\n",
        "    count_attr = 0\n",
        "    count_cooccurrence = 0\n",
        "\n",
        "    # Loop over messages\n",
        "    for beer,tokens in df_lift[['Beer','Tokens']].itertuples(index=False):\n",
        "        # Check total messages with Brand1\n",
        "        if brand in beer:\n",
        "            count_brand += 1\n",
        "\n",
        "        # Check total messages with Brand2\n",
        "        if attr in tokens:\n",
        "            count_attr += 1\n",
        "\n",
        "        # Check for Co-occurrence within the same message (not more than 5 tokens apart)\n",
        "        if (brand in beer) & (attr in tokens):\n",
        "            count_cooccurrence += 1\n",
        "\n",
        "    # Append results to the DataFrame\n",
        "    result_df2 = pd.concat([result_df2, pd.DataFrame({'Beer': [brand], 'Attribute': [attr],\n",
        "                                  'Beer_Count': [count_brand],\n",
        "                                  'Attribute_Count': [count_attr],\n",
        "                                  'Beer_Attribute_Cooccurrence_Count': [count_cooccurrence],\n",
        "                                  'Total_Messages': [total_messages]})],\n",
        "                          ignore_index=True)\n",
        "\n",
        "result_df2[\"lift\"]=(result_df2[\"Beer_Attribute_Cooccurrence_Count\"]/result_df2[\"Total_Messages\"])/((result_df2[\"Beer_Count\"]/result_df2[\"Total_Messages\"])*(result_df2[\"Attribute_Count\"]/result_df2[\"Total_Messages\"]))"
      ]
    },
    {
      "cell_type": "code",
      "execution_count": null,
      "metadata": {
        "colab": {
          "base_uri": "https://localhost:8080/",
          "height": 206
        },
        "id": "gNqHK6YX17en",
        "outputId": "087330e9-bc4b-4a92-9202-1fe7b334ad56"
      },
      "outputs": [
        {
          "data": {
            "text/html": [
              "\n",
              "  <div id=\"df-88f0e2af-ff76-48a2-86af-e584b4242af1\" class=\"colab-df-container\">\n",
              "    <div>\n",
              "<style scoped>\n",
              "    .dataframe tbody tr th:only-of-type {\n",
              "        vertical-align: middle;\n",
              "    }\n",
              "\n",
              "    .dataframe tbody tr th {\n",
              "        vertical-align: top;\n",
              "    }\n",
              "\n",
              "    .dataframe thead th {\n",
              "        text-align: right;\n",
              "    }\n",
              "</style>\n",
              "<table border=\"1\" class=\"dataframe\">\n",
              "  <thead>\n",
              "    <tr style=\"text-align: right;\">\n",
              "      <th></th>\n",
              "      <th>Beer</th>\n",
              "      <th>Attribute</th>\n",
              "      <th>Beer_Count</th>\n",
              "      <th>Attribute_Count</th>\n",
              "      <th>Beer_Attribute_Cooccurrence_Count</th>\n",
              "      <th>Total_Messages</th>\n",
              "      <th>lift</th>\n",
              "    </tr>\n",
              "  </thead>\n",
              "  <tbody>\n",
              "    <tr>\n",
              "      <th>0</th>\n",
              "      <td>Kentucky Brunch Brand Stout</td>\n",
              "      <td>sweet</td>\n",
              "      <td>25</td>\n",
              "      <td>49</td>\n",
              "      <td>0</td>\n",
              "      <td>233</td>\n",
              "      <td>0.0</td>\n",
              "    </tr>\n",
              "    <tr>\n",
              "      <th>1</th>\n",
              "      <td>Kentucky Brunch Brand Stout</td>\n",
              "      <td>dark</td>\n",
              "      <td>25</td>\n",
              "      <td>37</td>\n",
              "      <td>4</td>\n",
              "      <td>233</td>\n",
              "      <td>1.007568</td>\n",
              "    </tr>\n",
              "    <tr>\n",
              "      <th>2</th>\n",
              "      <td>Kentucky Brunch Brand Stout</td>\n",
              "      <td>light</td>\n",
              "      <td>25</td>\n",
              "      <td>22</td>\n",
              "      <td>6</td>\n",
              "      <td>233</td>\n",
              "      <td>2.541818</td>\n",
              "    </tr>\n",
              "    <tr>\n",
              "      <th>3</th>\n",
              "      <td>Kentucky Brunch Brand Stout</td>\n",
              "      <td>fruit</td>\n",
              "      <td>25</td>\n",
              "      <td>12</td>\n",
              "      <td>2</td>\n",
              "      <td>233</td>\n",
              "      <td>1.553333</td>\n",
              "    </tr>\n",
              "    <tr>\n",
              "      <th>4</th>\n",
              "      <td>Vanilla Bean Assassin</td>\n",
              "      <td>sweet</td>\n",
              "      <td>25</td>\n",
              "      <td>49</td>\n",
              "      <td>4</td>\n",
              "      <td>233</td>\n",
              "      <td>0.760816</td>\n",
              "    </tr>\n",
              "  </tbody>\n",
              "</table>\n",
              "</div>\n",
              "    <div class=\"colab-df-buttons\">\n",
              "\n",
              "  <div class=\"colab-df-container\">\n",
              "    <button class=\"colab-df-convert\" onclick=\"convertToInteractive('df-88f0e2af-ff76-48a2-86af-e584b4242af1')\"\n",
              "            title=\"Convert this dataframe to an interactive table.\"\n",
              "            style=\"display:none;\">\n",
              "\n",
              "  <svg xmlns=\"http://www.w3.org/2000/svg\" height=\"24px\" viewBox=\"0 -960 960 960\">\n",
              "    <path d=\"M120-120v-720h720v720H120Zm60-500h600v-160H180v160Zm220 220h160v-160H400v160Zm0 220h160v-160H400v160ZM180-400h160v-160H180v160Zm440 0h160v-160H620v160ZM180-180h160v-160H180v160Zm440 0h160v-160H620v160Z\"/>\n",
              "  </svg>\n",
              "    </button>\n",
              "\n",
              "  <style>\n",
              "    .colab-df-container {\n",
              "      display:flex;\n",
              "      gap: 12px;\n",
              "    }\n",
              "\n",
              "    .colab-df-convert {\n",
              "      background-color: #E8F0FE;\n",
              "      border: none;\n",
              "      border-radius: 50%;\n",
              "      cursor: pointer;\n",
              "      display: none;\n",
              "      fill: #1967D2;\n",
              "      height: 32px;\n",
              "      padding: 0 0 0 0;\n",
              "      width: 32px;\n",
              "    }\n",
              "\n",
              "    .colab-df-convert:hover {\n",
              "      background-color: #E2EBFA;\n",
              "      box-shadow: 0px 1px 2px rgba(60, 64, 67, 0.3), 0px 1px 3px 1px rgba(60, 64, 67, 0.15);\n",
              "      fill: #174EA6;\n",
              "    }\n",
              "\n",
              "    .colab-df-buttons div {\n",
              "      margin-bottom: 4px;\n",
              "    }\n",
              "\n",
              "    [theme=dark] .colab-df-convert {\n",
              "      background-color: #3B4455;\n",
              "      fill: #D2E3FC;\n",
              "    }\n",
              "\n",
              "    [theme=dark] .colab-df-convert:hover {\n",
              "      background-color: #434B5C;\n",
              "      box-shadow: 0px 1px 3px 1px rgba(0, 0, 0, 0.15);\n",
              "      filter: drop-shadow(0px 1px 2px rgba(0, 0, 0, 0.3));\n",
              "      fill: #FFFFFF;\n",
              "    }\n",
              "  </style>\n",
              "\n",
              "    <script>\n",
              "      const buttonEl =\n",
              "        document.querySelector('#df-88f0e2af-ff76-48a2-86af-e584b4242af1 button.colab-df-convert');\n",
              "      buttonEl.style.display =\n",
              "        google.colab.kernel.accessAllowed ? 'block' : 'none';\n",
              "\n",
              "      async function convertToInteractive(key) {\n",
              "        const element = document.querySelector('#df-88f0e2af-ff76-48a2-86af-e584b4242af1');\n",
              "        const dataTable =\n",
              "          await google.colab.kernel.invokeFunction('convertToInteractive',\n",
              "                                                    [key], {});\n",
              "        if (!dataTable) return;\n",
              "\n",
              "        const docLinkHtml = 'Like what you see? Visit the ' +\n",
              "          '<a target=\"_blank\" href=https://colab.research.google.com/notebooks/data_table.ipynb>data table notebook</a>'\n",
              "          + ' to learn more about interactive tables.';\n",
              "        element.innerHTML = '';\n",
              "        dataTable['output_type'] = 'display_data';\n",
              "        await google.colab.output.renderOutput(dataTable, element);\n",
              "        const docLink = document.createElement('div');\n",
              "        docLink.innerHTML = docLinkHtml;\n",
              "        element.appendChild(docLink);\n",
              "      }\n",
              "    </script>\n",
              "  </div>\n",
              "\n",
              "\n",
              "<div id=\"df-55860ee0-3bb5-4adc-90ec-a3fe805830c5\">\n",
              "  <button class=\"colab-df-quickchart\" onclick=\"quickchart('df-55860ee0-3bb5-4adc-90ec-a3fe805830c5')\"\n",
              "            title=\"Suggest charts.\"\n",
              "            style=\"display:none;\">\n",
              "\n",
              "<svg xmlns=\"http://www.w3.org/2000/svg\" height=\"24px\"viewBox=\"0 0 24 24\"\n",
              "     width=\"24px\">\n",
              "    <g>\n",
              "        <path d=\"M19 3H5c-1.1 0-2 .9-2 2v14c0 1.1.9 2 2 2h14c1.1 0 2-.9 2-2V5c0-1.1-.9-2-2-2zM9 17H7v-7h2v7zm4 0h-2V7h2v10zm4 0h-2v-4h2v4z\"/>\n",
              "    </g>\n",
              "</svg>\n",
              "  </button>\n",
              "\n",
              "<style>\n",
              "  .colab-df-quickchart {\n",
              "      --bg-color: #E8F0FE;\n",
              "      --fill-color: #1967D2;\n",
              "      --hover-bg-color: #E2EBFA;\n",
              "      --hover-fill-color: #174EA6;\n",
              "      --disabled-fill-color: #AAA;\n",
              "      --disabled-bg-color: #DDD;\n",
              "  }\n",
              "\n",
              "  [theme=dark] .colab-df-quickchart {\n",
              "      --bg-color: #3B4455;\n",
              "      --fill-color: #D2E3FC;\n",
              "      --hover-bg-color: #434B5C;\n",
              "      --hover-fill-color: #FFFFFF;\n",
              "      --disabled-bg-color: #3B4455;\n",
              "      --disabled-fill-color: #666;\n",
              "  }\n",
              "\n",
              "  .colab-df-quickchart {\n",
              "    background-color: var(--bg-color);\n",
              "    border: none;\n",
              "    border-radius: 50%;\n",
              "    cursor: pointer;\n",
              "    display: none;\n",
              "    fill: var(--fill-color);\n",
              "    height: 32px;\n",
              "    padding: 0;\n",
              "    width: 32px;\n",
              "  }\n",
              "\n",
              "  .colab-df-quickchart:hover {\n",
              "    background-color: var(--hover-bg-color);\n",
              "    box-shadow: 0 1px 2px rgba(60, 64, 67, 0.3), 0 1px 3px 1px rgba(60, 64, 67, 0.15);\n",
              "    fill: var(--button-hover-fill-color);\n",
              "  }\n",
              "\n",
              "  .colab-df-quickchart-complete:disabled,\n",
              "  .colab-df-quickchart-complete:disabled:hover {\n",
              "    background-color: var(--disabled-bg-color);\n",
              "    fill: var(--disabled-fill-color);\n",
              "    box-shadow: none;\n",
              "  }\n",
              "\n",
              "  .colab-df-spinner {\n",
              "    border: 2px solid var(--fill-color);\n",
              "    border-color: transparent;\n",
              "    border-bottom-color: var(--fill-color);\n",
              "    animation:\n",
              "      spin 1s steps(1) infinite;\n",
              "  }\n",
              "\n",
              "  @keyframes spin {\n",
              "    0% {\n",
              "      border-color: transparent;\n",
              "      border-bottom-color: var(--fill-color);\n",
              "      border-left-color: var(--fill-color);\n",
              "    }\n",
              "    20% {\n",
              "      border-color: transparent;\n",
              "      border-left-color: var(--fill-color);\n",
              "      border-top-color: var(--fill-color);\n",
              "    }\n",
              "    30% {\n",
              "      border-color: transparent;\n",
              "      border-left-color: var(--fill-color);\n",
              "      border-top-color: var(--fill-color);\n",
              "      border-right-color: var(--fill-color);\n",
              "    }\n",
              "    40% {\n",
              "      border-color: transparent;\n",
              "      border-right-color: var(--fill-color);\n",
              "      border-top-color: var(--fill-color);\n",
              "    }\n",
              "    60% {\n",
              "      border-color: transparent;\n",
              "      border-right-color: var(--fill-color);\n",
              "    }\n",
              "    80% {\n",
              "      border-color: transparent;\n",
              "      border-right-color: var(--fill-color);\n",
              "      border-bottom-color: var(--fill-color);\n",
              "    }\n",
              "    90% {\n",
              "      border-color: transparent;\n",
              "      border-bottom-color: var(--fill-color);\n",
              "    }\n",
              "  }\n",
              "</style>\n",
              "\n",
              "  <script>\n",
              "    async function quickchart(key) {\n",
              "      const quickchartButtonEl =\n",
              "        document.querySelector('#' + key + ' button');\n",
              "      quickchartButtonEl.disabled = true;  // To prevent multiple clicks.\n",
              "      quickchartButtonEl.classList.add('colab-df-spinner');\n",
              "      try {\n",
              "        const charts = await google.colab.kernel.invokeFunction(\n",
              "            'suggestCharts', [key], {});\n",
              "      } catch (error) {\n",
              "        console.error('Error during call to suggestCharts:', error);\n",
              "      }\n",
              "      quickchartButtonEl.classList.remove('colab-df-spinner');\n",
              "      quickchartButtonEl.classList.add('colab-df-quickchart-complete');\n",
              "    }\n",
              "    (() => {\n",
              "      let quickchartButtonEl =\n",
              "        document.querySelector('#df-55860ee0-3bb5-4adc-90ec-a3fe805830c5 button');\n",
              "      quickchartButtonEl.style.display =\n",
              "        google.colab.kernel.accessAllowed ? 'block' : 'none';\n",
              "    })();\n",
              "  </script>\n",
              "</div>\n",
              "    </div>\n",
              "  </div>\n"
            ],
            "text/plain": [
              "                          Beer Attribute Beer_Count Attribute_Count  \\\n",
              "0  Kentucky Brunch Brand Stout     sweet         25              49   \n",
              "1  Kentucky Brunch Brand Stout      dark         25              37   \n",
              "2  Kentucky Brunch Brand Stout     light         25              22   \n",
              "3  Kentucky Brunch Brand Stout     fruit         25              12   \n",
              "4        Vanilla Bean Assassin     sweet         25              49   \n",
              "\n",
              "  Beer_Attribute_Cooccurrence_Count Total_Messages      lift  \n",
              "0                                 0            233       0.0  \n",
              "1                                 4            233  1.007568  \n",
              "2                                 6            233  2.541818  \n",
              "3                                 2            233  1.553333  \n",
              "4                                 4            233  0.760816  "
            ]
          },
          "execution_count": 40,
          "metadata": {},
          "output_type": "execute_result"
        }
      ],
      "source": [
        "result_df2.head()"
      ]
    },
    {
      "cell_type": "code",
      "execution_count": null,
      "metadata": {
        "colab": {
          "base_uri": "https://localhost:8080/",
          "height": 394
        },
        "id": "QsKvyHH-qs4l",
        "outputId": "187d0671-42aa-4a42-ecae-c3c1685e7440"
      },
      "outputs": [
        {
          "data": {
            "text/html": [
              "\n",
              "  <div id=\"df-3d1cfd45-eeab-4e2d-a741-a3ba59f3fd2b\" class=\"colab-df-container\">\n",
              "    <div>\n",
              "<style scoped>\n",
              "    .dataframe tbody tr th:only-of-type {\n",
              "        vertical-align: middle;\n",
              "    }\n",
              "\n",
              "    .dataframe tbody tr th {\n",
              "        vertical-align: top;\n",
              "    }\n",
              "\n",
              "    .dataframe thead th {\n",
              "        text-align: right;\n",
              "    }\n",
              "</style>\n",
              "<table border=\"1\" class=\"dataframe\">\n",
              "  <thead>\n",
              "    <tr style=\"text-align: right;\">\n",
              "      <th>Attribute</th>\n",
              "      <th>dark</th>\n",
              "      <th>fruit</th>\n",
              "      <th>light</th>\n",
              "      <th>sweet</th>\n",
              "      <th>dark_bucket</th>\n",
              "      <th>fruit_bucket</th>\n",
              "      <th>light_bucket</th>\n",
              "      <th>sweet_bucket</th>\n",
              "    </tr>\n",
              "    <tr>\n",
              "      <th>Beer</th>\n",
              "      <th></th>\n",
              "      <th></th>\n",
              "      <th></th>\n",
              "      <th></th>\n",
              "      <th></th>\n",
              "      <th></th>\n",
              "      <th></th>\n",
              "      <th></th>\n",
              "    </tr>\n",
              "  </thead>\n",
              "  <tbody>\n",
              "    <tr>\n",
              "      <th>Abraxas - Barrel-Aged</th>\n",
              "      <td>1.511351</td>\n",
              "      <td>0.000000</td>\n",
              "      <td>0.000000</td>\n",
              "      <td>0.760816</td>\n",
              "      <td>3</td>\n",
              "      <td>1</td>\n",
              "      <td>1</td>\n",
              "      <td>1</td>\n",
              "    </tr>\n",
              "    <tr>\n",
              "      <th>Blessed</th>\n",
              "      <td>1.836712</td>\n",
              "      <td>0.809028</td>\n",
              "      <td>1.323864</td>\n",
              "      <td>1.585034</td>\n",
              "      <td>3</td>\n",
              "      <td>2</td>\n",
              "      <td>3</td>\n",
              "      <td>3</td>\n",
              "    </tr>\n",
              "    <tr>\n",
              "      <th>Heady Topper</th>\n",
              "      <td>0.503784</td>\n",
              "      <td>0.776667</td>\n",
              "      <td>0.847273</td>\n",
              "      <td>0.760816</td>\n",
              "      <td>1</td>\n",
              "      <td>2</td>\n",
              "      <td>2</td>\n",
              "      <td>1</td>\n",
              "    </tr>\n",
              "    <tr>\n",
              "      <th>Hunahpu's Imperial Stout - Double Barrel Aged</th>\n",
              "      <td>1.259459</td>\n",
              "      <td>0.776667</td>\n",
              "      <td>0.423636</td>\n",
              "      <td>1.141224</td>\n",
              "      <td>3</td>\n",
              "      <td>2</td>\n",
              "      <td>1</td>\n",
              "      <td>3</td>\n",
              "    </tr>\n",
              "    <tr>\n",
              "      <th>Kentucky Brunch Brand Stout</th>\n",
              "      <td>1.007568</td>\n",
              "      <td>1.553333</td>\n",
              "      <td>2.541818</td>\n",
              "      <td>0.000000</td>\n",
              "      <td>2</td>\n",
              "      <td>3</td>\n",
              "      <td>3</td>\n",
              "      <td>1</td>\n",
              "    </tr>\n",
              "    <tr>\n",
              "      <th>King Julius</th>\n",
              "      <td>0.755676</td>\n",
              "      <td>3.106667</td>\n",
              "      <td>1.270909</td>\n",
              "      <td>0.951020</td>\n",
              "      <td>2</td>\n",
              "      <td>3</td>\n",
              "      <td>3</td>\n",
              "      <td>2</td>\n",
              "    </tr>\n",
              "    <tr>\n",
              "      <th>Marshmallow Handjee</th>\n",
              "      <td>0.755676</td>\n",
              "      <td>0.000000</td>\n",
              "      <td>1.270909</td>\n",
              "      <td>1.331429</td>\n",
              "      <td>2</td>\n",
              "      <td>1</td>\n",
              "      <td>3</td>\n",
              "      <td>3</td>\n",
              "    </tr>\n",
              "    <tr>\n",
              "      <th>Mornin' Delight</th>\n",
              "      <td>0.251892</td>\n",
              "      <td>0.000000</td>\n",
              "      <td>0.423636</td>\n",
              "      <td>1.902041</td>\n",
              "      <td>1</td>\n",
              "      <td>1</td>\n",
              "      <td>1</td>\n",
              "      <td>3</td>\n",
              "    </tr>\n",
              "    <tr>\n",
              "      <th>O.W.K.</th>\n",
              "      <td>0.699700</td>\n",
              "      <td>2.157407</td>\n",
              "      <td>1.176768</td>\n",
              "      <td>0.528345</td>\n",
              "      <td>1</td>\n",
              "      <td>3</td>\n",
              "      <td>2</td>\n",
              "      <td>1</td>\n",
              "    </tr>\n",
              "    <tr>\n",
              "      <th>Vanilla Bean Assassin</th>\n",
              "      <td>1.259459</td>\n",
              "      <td>1.553333</td>\n",
              "      <td>0.847273</td>\n",
              "      <td>0.760816</td>\n",
              "      <td>3</td>\n",
              "      <td>3</td>\n",
              "      <td>2</td>\n",
              "      <td>1</td>\n",
              "    </tr>\n",
              "  </tbody>\n",
              "</table>\n",
              "</div>\n",
              "    <div class=\"colab-df-buttons\">\n",
              "\n",
              "  <div class=\"colab-df-container\">\n",
              "    <button class=\"colab-df-convert\" onclick=\"convertToInteractive('df-3d1cfd45-eeab-4e2d-a741-a3ba59f3fd2b')\"\n",
              "            title=\"Convert this dataframe to an interactive table.\"\n",
              "            style=\"display:none;\">\n",
              "\n",
              "  <svg xmlns=\"http://www.w3.org/2000/svg\" height=\"24px\" viewBox=\"0 -960 960 960\">\n",
              "    <path d=\"M120-120v-720h720v720H120Zm60-500h600v-160H180v160Zm220 220h160v-160H400v160Zm0 220h160v-160H400v160ZM180-400h160v-160H180v160Zm440 0h160v-160H620v160ZM180-180h160v-160H180v160Zm440 0h160v-160H620v160Z\"/>\n",
              "  </svg>\n",
              "    </button>\n",
              "\n",
              "  <style>\n",
              "    .colab-df-container {\n",
              "      display:flex;\n",
              "      gap: 12px;\n",
              "    }\n",
              "\n",
              "    .colab-df-convert {\n",
              "      background-color: #E8F0FE;\n",
              "      border: none;\n",
              "      border-radius: 50%;\n",
              "      cursor: pointer;\n",
              "      display: none;\n",
              "      fill: #1967D2;\n",
              "      height: 32px;\n",
              "      padding: 0 0 0 0;\n",
              "      width: 32px;\n",
              "    }\n",
              "\n",
              "    .colab-df-convert:hover {\n",
              "      background-color: #E2EBFA;\n",
              "      box-shadow: 0px 1px 2px rgba(60, 64, 67, 0.3), 0px 1px 3px 1px rgba(60, 64, 67, 0.15);\n",
              "      fill: #174EA6;\n",
              "    }\n",
              "\n",
              "    .colab-df-buttons div {\n",
              "      margin-bottom: 4px;\n",
              "    }\n",
              "\n",
              "    [theme=dark] .colab-df-convert {\n",
              "      background-color: #3B4455;\n",
              "      fill: #D2E3FC;\n",
              "    }\n",
              "\n",
              "    [theme=dark] .colab-df-convert:hover {\n",
              "      background-color: #434B5C;\n",
              "      box-shadow: 0px 1px 3px 1px rgba(0, 0, 0, 0.15);\n",
              "      filter: drop-shadow(0px 1px 2px rgba(0, 0, 0, 0.3));\n",
              "      fill: #FFFFFF;\n",
              "    }\n",
              "  </style>\n",
              "\n",
              "    <script>\n",
              "      const buttonEl =\n",
              "        document.querySelector('#df-3d1cfd45-eeab-4e2d-a741-a3ba59f3fd2b button.colab-df-convert');\n",
              "      buttonEl.style.display =\n",
              "        google.colab.kernel.accessAllowed ? 'block' : 'none';\n",
              "\n",
              "      async function convertToInteractive(key) {\n",
              "        const element = document.querySelector('#df-3d1cfd45-eeab-4e2d-a741-a3ba59f3fd2b');\n",
              "        const dataTable =\n",
              "          await google.colab.kernel.invokeFunction('convertToInteractive',\n",
              "                                                    [key], {});\n",
              "        if (!dataTable) return;\n",
              "\n",
              "        const docLinkHtml = 'Like what you see? Visit the ' +\n",
              "          '<a target=\"_blank\" href=https://colab.research.google.com/notebooks/data_table.ipynb>data table notebook</a>'\n",
              "          + ' to learn more about interactive tables.';\n",
              "        element.innerHTML = '';\n",
              "        dataTable['output_type'] = 'display_data';\n",
              "        await google.colab.output.renderOutput(dataTable, element);\n",
              "        const docLink = document.createElement('div');\n",
              "        docLink.innerHTML = docLinkHtml;\n",
              "        element.appendChild(docLink);\n",
              "      }\n",
              "    </script>\n",
              "  </div>\n",
              "\n",
              "\n",
              "<div id=\"df-73b32a6e-fdc4-4058-9f7b-5cbb7171a147\">\n",
              "  <button class=\"colab-df-quickchart\" onclick=\"quickchart('df-73b32a6e-fdc4-4058-9f7b-5cbb7171a147')\"\n",
              "            title=\"Suggest charts.\"\n",
              "            style=\"display:none;\">\n",
              "\n",
              "<svg xmlns=\"http://www.w3.org/2000/svg\" height=\"24px\"viewBox=\"0 0 24 24\"\n",
              "     width=\"24px\">\n",
              "    <g>\n",
              "        <path d=\"M19 3H5c-1.1 0-2 .9-2 2v14c0 1.1.9 2 2 2h14c1.1 0 2-.9 2-2V5c0-1.1-.9-2-2-2zM9 17H7v-7h2v7zm4 0h-2V7h2v10zm4 0h-2v-4h2v4z\"/>\n",
              "    </g>\n",
              "</svg>\n",
              "  </button>\n",
              "\n",
              "<style>\n",
              "  .colab-df-quickchart {\n",
              "      --bg-color: #E8F0FE;\n",
              "      --fill-color: #1967D2;\n",
              "      --hover-bg-color: #E2EBFA;\n",
              "      --hover-fill-color: #174EA6;\n",
              "      --disabled-fill-color: #AAA;\n",
              "      --disabled-bg-color: #DDD;\n",
              "  }\n",
              "\n",
              "  [theme=dark] .colab-df-quickchart {\n",
              "      --bg-color: #3B4455;\n",
              "      --fill-color: #D2E3FC;\n",
              "      --hover-bg-color: #434B5C;\n",
              "      --hover-fill-color: #FFFFFF;\n",
              "      --disabled-bg-color: #3B4455;\n",
              "      --disabled-fill-color: #666;\n",
              "  }\n",
              "\n",
              "  .colab-df-quickchart {\n",
              "    background-color: var(--bg-color);\n",
              "    border: none;\n",
              "    border-radius: 50%;\n",
              "    cursor: pointer;\n",
              "    display: none;\n",
              "    fill: var(--fill-color);\n",
              "    height: 32px;\n",
              "    padding: 0;\n",
              "    width: 32px;\n",
              "  }\n",
              "\n",
              "  .colab-df-quickchart:hover {\n",
              "    background-color: var(--hover-bg-color);\n",
              "    box-shadow: 0 1px 2px rgba(60, 64, 67, 0.3), 0 1px 3px 1px rgba(60, 64, 67, 0.15);\n",
              "    fill: var(--button-hover-fill-color);\n",
              "  }\n",
              "\n",
              "  .colab-df-quickchart-complete:disabled,\n",
              "  .colab-df-quickchart-complete:disabled:hover {\n",
              "    background-color: var(--disabled-bg-color);\n",
              "    fill: var(--disabled-fill-color);\n",
              "    box-shadow: none;\n",
              "  }\n",
              "\n",
              "  .colab-df-spinner {\n",
              "    border: 2px solid var(--fill-color);\n",
              "    border-color: transparent;\n",
              "    border-bottom-color: var(--fill-color);\n",
              "    animation:\n",
              "      spin 1s steps(1) infinite;\n",
              "  }\n",
              "\n",
              "  @keyframes spin {\n",
              "    0% {\n",
              "      border-color: transparent;\n",
              "      border-bottom-color: var(--fill-color);\n",
              "      border-left-color: var(--fill-color);\n",
              "    }\n",
              "    20% {\n",
              "      border-color: transparent;\n",
              "      border-left-color: var(--fill-color);\n",
              "      border-top-color: var(--fill-color);\n",
              "    }\n",
              "    30% {\n",
              "      border-color: transparent;\n",
              "      border-left-color: var(--fill-color);\n",
              "      border-top-color: var(--fill-color);\n",
              "      border-right-color: var(--fill-color);\n",
              "    }\n",
              "    40% {\n",
              "      border-color: transparent;\n",
              "      border-right-color: var(--fill-color);\n",
              "      border-top-color: var(--fill-color);\n",
              "    }\n",
              "    60% {\n",
              "      border-color: transparent;\n",
              "      border-right-color: var(--fill-color);\n",
              "    }\n",
              "    80% {\n",
              "      border-color: transparent;\n",
              "      border-right-color: var(--fill-color);\n",
              "      border-bottom-color: var(--fill-color);\n",
              "    }\n",
              "    90% {\n",
              "      border-color: transparent;\n",
              "      border-bottom-color: var(--fill-color);\n",
              "    }\n",
              "  }\n",
              "</style>\n",
              "\n",
              "  <script>\n",
              "    async function quickchart(key) {\n",
              "      const quickchartButtonEl =\n",
              "        document.querySelector('#' + key + ' button');\n",
              "      quickchartButtonEl.disabled = true;  // To prevent multiple clicks.\n",
              "      quickchartButtonEl.classList.add('colab-df-spinner');\n",
              "      try {\n",
              "        const charts = await google.colab.kernel.invokeFunction(\n",
              "            'suggestCharts', [key], {});\n",
              "      } catch (error) {\n",
              "        console.error('Error during call to suggestCharts:', error);\n",
              "      }\n",
              "      quickchartButtonEl.classList.remove('colab-df-spinner');\n",
              "      quickchartButtonEl.classList.add('colab-df-quickchart-complete');\n",
              "    }\n",
              "    (() => {\n",
              "      let quickchartButtonEl =\n",
              "        document.querySelector('#df-73b32a6e-fdc4-4058-9f7b-5cbb7171a147 button');\n",
              "      quickchartButtonEl.style.display =\n",
              "        google.colab.kernel.accessAllowed ? 'block' : 'none';\n",
              "    })();\n",
              "  </script>\n",
              "</div>\n",
              "    </div>\n",
              "  </div>\n"
            ],
            "text/plain": [
              "Attribute                                          dark     fruit     light  \\\n",
              "Beer                                                                          \n",
              "Abraxas - Barrel-Aged                          1.511351  0.000000  0.000000   \n",
              "Blessed                                        1.836712  0.809028  1.323864   \n",
              "Heady Topper                                   0.503784  0.776667  0.847273   \n",
              "Hunahpu's Imperial Stout - Double Barrel Aged  1.259459  0.776667  0.423636   \n",
              "Kentucky Brunch Brand Stout                    1.007568  1.553333  2.541818   \n",
              "King Julius                                    0.755676  3.106667  1.270909   \n",
              "Marshmallow Handjee                            0.755676  0.000000  1.270909   \n",
              "Mornin' Delight                                0.251892  0.000000  0.423636   \n",
              "O.W.K.                                         0.699700  2.157407  1.176768   \n",
              "Vanilla Bean Assassin                          1.259459  1.553333  0.847273   \n",
              "\n",
              "Attribute                                         sweet  dark_bucket  \\\n",
              "Beer                                                                   \n",
              "Abraxas - Barrel-Aged                          0.760816            3   \n",
              "Blessed                                        1.585034            3   \n",
              "Heady Topper                                   0.760816            1   \n",
              "Hunahpu's Imperial Stout - Double Barrel Aged  1.141224            3   \n",
              "Kentucky Brunch Brand Stout                    0.000000            2   \n",
              "King Julius                                    0.951020            2   \n",
              "Marshmallow Handjee                            1.331429            2   \n",
              "Mornin' Delight                                1.902041            1   \n",
              "O.W.K.                                         0.528345            1   \n",
              "Vanilla Bean Assassin                          0.760816            3   \n",
              "\n",
              "Attribute                                      fruit_bucket  light_bucket  \\\n",
              "Beer                                                                        \n",
              "Abraxas - Barrel-Aged                                     1             1   \n",
              "Blessed                                                   2             3   \n",
              "Heady Topper                                              2             2   \n",
              "Hunahpu's Imperial Stout - Double Barrel Aged             2             1   \n",
              "Kentucky Brunch Brand Stout                               3             3   \n",
              "King Julius                                               3             3   \n",
              "Marshmallow Handjee                                       1             3   \n",
              "Mornin' Delight                                           1             1   \n",
              "O.W.K.                                                    3             2   \n",
              "Vanilla Bean Assassin                                     3             2   \n",
              "\n",
              "Attribute                                      sweet_bucket  \n",
              "Beer                                                         \n",
              "Abraxas - Barrel-Aged                                     1  \n",
              "Blessed                                                   3  \n",
              "Heady Topper                                              1  \n",
              "Hunahpu's Imperial Stout - Double Barrel Aged             3  \n",
              "Kentucky Brunch Brand Stout                               1  \n",
              "King Julius                                               2  \n",
              "Marshmallow Handjee                                       3  \n",
              "Mornin' Delight                                           3  \n",
              "O.W.K.                                                    1  \n",
              "Vanilla Bean Assassin                                     1  "
            ]
          },
          "execution_count": 41,
          "metadata": {},
          "output_type": "execute_result"
        }
      ],
      "source": [
        "pivot_table = result_df2.pivot_table(\n",
        "    values='lift',   # Values to aggregate\n",
        "    index='Beer',  # Rows in the pivot table\n",
        "    columns='Attribute',      # Optional: Columns in the pivot table\n",
        "    aggfunc='max',    # Aggregation function (e.g., 'mean', 'sum', 'count')\n",
        ")\n",
        "\n",
        "for column in pivot_table.columns:\n",
        "  buckets = pd.qcut(pivot_table[column], q=[0,0.33,0.66,1], labels=False, duplicates='drop')\n",
        "  col_name = str(column) + '_bucket'\n",
        "  pivot_table[col_name] = buckets +1\n",
        "\n",
        "pivot_table"
      ]
    },
    {
      "cell_type": "code",
      "execution_count": null,
      "metadata": {
        "colab": {
          "base_uri": "https://localhost:8080/"
        },
        "id": "kDL6ES0i2MS4",
        "outputId": "ce34dfe9-3fe1-4e6c-bd23-2d9b96471e79"
      },
      "outputs": [
        {
          "name": "stdout",
          "output_type": "stream",
          "text": [
            "Counter({\"Hunahpu's Imperial Stout - Double Barrel Aged\": 3, 'Marshmallow Handjee': 2, 'Abraxas - Barrel-Aged': 1, 'Vanilla Bean Assassin': 1, 'Heady Topper': 1, 'Kentucky Brunch Brand Stout': 1, 'King Julius': 1, \"Mornin' Delight\": 1})\n",
            "Recommended beer: Hunahpu's Imperial Stout - Double Barrel Aged\n"
          ]
        }
      ],
      "source": [
        "# Suppose I want to choose Vanilla Bean Assassin\n",
        "\n",
        "chosen_beer = 'Blessed'\n",
        "\n",
        "\n",
        "buckets = ['dark_bucket','fruit_bucket','light_bucket','sweet_bucket']\n",
        "matches_list = []\n",
        "\n",
        "for bucket in buckets:\n",
        "    value_to_find = pivot_table.loc[chosen_beer,bucket]\n",
        "    # Taking only the dark_bucket\n",
        "    stacked = pivot_table[pivot_table.index != chosen_beer][bucket]\n",
        "    # Finding all the beers with same bucket\n",
        "    matches_list.append(list(stacked[stacked == value_to_find].index))\n",
        "\n",
        "# Flatten the list of lists into a single list\n",
        "flattened_data = [item for sublist in matches_list for item in sublist]\n",
        "# Use Counter to count the occurrences of each element\n",
        "element_counts = Counter(flattened_data)\n",
        "\n",
        "print(element_counts)\n",
        "\n",
        "# Find the most occurring element\n",
        "most_common_element = max(element_counts, key=element_counts.get)\n",
        "# Print the most occurring element and its count\n",
        "print(\"Recommended beer:\", most_common_element)"
      ]
    },
    {
      "cell_type": "markdown",
      "metadata": {
        "id": "W0YXI7W4k0G8"
      },
      "source": [
        "Approach to recommend beers using lift scores:\n",
        "\n",
        "* We've selected the following 10 beers:\n",
        "\n",
        "| Beer Name                                    |\n",
        "|---------------------------------------------|\n",
        "| Abraxas - Barrel-Aged                       |\n",
        "| Blessed                                     |\n",
        "| Heady Topper                                |\n",
        "| Hunahpu's Imperial Stout - Double Barrel Aged|\n",
        "| Kentucky Brunch Brand Stout                 |\n",
        "| King Julius                                 |\n",
        "| Marshmallow Handjee                        |\n",
        "| Mornin' Delight                            |\n",
        "| O.W.K.                                      |\n",
        "| Vanilla Bean Assassin                      |\n",
        "\n",
        "* We've selected the following 4 attributes:\n",
        "\n",
        "|Attr1|Attr2|Attr3|Attr4|\n",
        "| --- | --- | --- | ---- |\n",
        "| sweet | dark | light | fruit |\n",
        "\n",
        "* We filtered the master datafrane for only the rows containing these 10 beers and their reviews, which gives us a new dataframe of 234 rows\n",
        "\n",
        "* We next iterated through the combinations of beer-attributre and computed the following for everycombination:\n",
        "\n",
        "| Beer                       | Attribute | Beer_Count | Attribute_Count | Beer_Attribute_Cooccurrence_Count | Total_Messages | lift |\n",
        "|----------------------------|-----------|------------|-----------------|----------------------------------|----------------|------|\n",
        "|Kentucky Brunch Brand Stout|light|25|22|6|234|2.552727|\n",
        "\n",
        "* For a given attribute of beer, we divided the lift scores into 3 buckets (lift of 0 is NaN)\n",
        "\n",
        "| Beer                                 | dark_bucket |\n",
        "|--------------------------------------|-------------|\n",
        "| Abraxas - Barrel-Aged                | 3           |\n",
        "| Blessed                              | 3           |\n",
        "| Heady Topper                         | 2           |\n",
        "| Hunahpu's Imperial Stout - Double Barrel Aged | 3 |\n",
        "| Kentucky Brunch Brand Stout          | 3           |\n",
        "| King Julius                          | 2           |\n",
        "| Marshmallow Handjee                  | 2         |\n",
        "| Mornin' Delight                      | NaN         |\n",
        "| O.W.K.                               | 2           |\n",
        "| Vanilla Bean Assassin                | 3           |\n",
        "\n",
        "\n",
        "* Now for a selected beer, say 'Kentucky Brunch Brand Stout', which has got the following in attribute buckets:\n",
        "\n",
        "| dark_bucket | fruit_bucket | light_bucket | sweet_bucket |\n",
        "|------|-------|-------|-------|\n",
        "| 3    | 2     | 3     | NaN   |\n",
        "\n",
        "* The closest match is 'Vanilla Bean Assassin'\n",
        "\n",
        "| dark_bucket | fruit_bucket | light_bucket | sweet_bucket |\n",
        "|------|-------|-------|-------|\n",
        "| 3    | 2     | 1     | 2   |\n",
        "\n",
        "Which has two buckets matching with 'Kentucky Brunch Brand Stout', rest all have 1 or less buckets matching\n"
      ]
    }
  ],
  "metadata": {
    "colab": {
      "provenance": []
    },
    "kernelspec": {
      "display_name": "Python 3",
      "name": "python3"
    },
    "language_info": {
      "name": "python"
    }
  },
  "nbformat": 4,
  "nbformat_minor": 0
}
